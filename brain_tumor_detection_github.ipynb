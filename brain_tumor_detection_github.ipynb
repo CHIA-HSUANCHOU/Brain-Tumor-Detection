{
  "metadata": {
    "kernelspec": {
      "display_name": "Python 3",
      "name": "python3"
    },
    "language_info": {
      "name": "python",
      "version": "3.10.14",
      "mimetype": "text/x-python",
      "codemirror_mode": {
        "name": "ipython",
        "version": 3
      },
      "pygments_lexer": "ipython3",
      "nbconvert_exporter": "python",
      "file_extension": ".py"
    },
    "kaggle": {
      "accelerator": "gpu",
      "dataSources": [
        {
          "sourceId": 7049434,
          "sourceType": "datasetVersion",
          "datasetId": 4056799
        },
        {
          "sourceId": 9787722,
          "sourceType": "datasetVersion",
          "datasetId": 5915987
        }
      ],
      "dockerImageVersionId": 30786,
      "isInternetEnabled": true,
      "language": "python",
      "sourceType": "notebook",
      "isGpuEnabled": true
    },
    "colab": {
      "provenance": [],
      "gpuType": "T4",
      "machine_shape": "hm"
    },
    "accelerator": "GPU"
  },
  "nbformat_minor": 0,
  "nbformat": 4,
  "cells": [
    {
      "cell_type": "markdown",
      "source": [
        "# Homework 3 Problem 2: 核磁共振造影的 3D 影像分析\n",
        "\n",
        "在HW3的第二個問題中，以下的 TODO 需要在 notebook 中完成：\n",
        "\n",
        "1. 調整適當的超參數\n",
        "\n",
        "2. 使用預訓練模型時，請透過實驗決定：\n",
        "   \n",
        "    * 使用預訓練的權重，同時訓練過程不更新參數\n",
        "  \n",
        "    * 使用預訓練的權重作為起始值，且訓練過程會更新參數\n",
        "\n",
        "3. 建立剩餘的兩個 2D CNN: Single slice model, Early fusion model。最後繳交的ipynb檔案中，需要有完成的Single slice model, Early fusion model, Late fusion model 和 3D CNN 這四個模型。\n",
        "\n",
        "4. 調整適當的 optimizer、scheduler(在batch還是schelduer)，選擇scheduler的時候要注意到在train_one_epoch()中`scheduler.step()`是否在正確的位置。\n",
        "\n",
        "5. 為輸出的csv檔命名，需要標示清楚是使用哪個模型（late.csv, early.csv, single.csv, 3D.csv)\n"
      ],
      "metadata": {
        "id": "w1JMqOgsLwMg"
      }
    },
    {
      "cell_type": "code",
      "source": [
        "!pip install pydicom\n",
        "!pip install torchsummary"
      ],
      "metadata": {
        "trusted": true,
        "execution": {
          "iopub.status.busy": "2024-11-04T07:11:20.724306Z",
          "iopub.execute_input": "2024-11-04T07:11:20.724734Z",
          "iopub.status.idle": "2024-11-04T07:11:45.056171Z",
          "shell.execute_reply.started": "2024-11-04T07:11:20.724682Z",
          "shell.execute_reply": "2024-11-04T07:11:45.055078Z"
        },
        "id": "-FRemuaSLwMk",
        "outputId": "f7955718-05d4-4e54-e483-875bd49895a7",
        "colab": {
          "base_uri": "https://localhost:8080/"
        }
      },
      "outputs": [
        {
          "output_type": "stream",
          "name": "stdout",
          "text": [
            "Requirement already satisfied: pydicom in /usr/local/lib/python3.10/dist-packages (3.0.1)\n",
            "Requirement already satisfied: torchsummary in /usr/local/lib/python3.10/dist-packages (1.5.1)\n"
          ]
        }
      ],
      "execution_count": null
    },
    {
      "cell_type": "code",
      "source": [
        "import warnings\n",
        "import gc\n",
        "import os\n",
        "import random\n",
        "\n",
        "from tqdm import tqdm\n",
        "import numpy as np\n",
        "import pandas as pd\n",
        "import cv2\n",
        "import pydicom\n",
        "import matplotlib.pyplot as plt\n",
        "\n",
        "import torch\n",
        "import torch.nn as nn\n",
        "import torch.nn.functional as F\n",
        "from torch.utils.data import Dataset, Subset, DataLoader\n",
        "from torchvision import models, transforms\n",
        "from torchvision.transforms import v2\n",
        "from torchsummary import summary\n",
        "\n",
        "from sklearn.model_selection import train_test_split\n",
        "from sklearn.metrics import accuracy_score, f1_score\n",
        "\n",
        "warnings.filterwarnings('ignore')"
      ],
      "metadata": {
        "trusted": true,
        "execution": {
          "iopub.status.busy": "2024-11-04T07:11:45.057729Z",
          "iopub.execute_input": "2024-11-04T07:11:45.058133Z",
          "iopub.status.idle": "2024-11-04T07:11:50.702414Z",
          "shell.execute_reply.started": "2024-11-04T07:11:45.058085Z",
          "shell.execute_reply": "2024-11-04T07:11:50.701555Z"
        },
        "id": "VRt_HaV7LwMn"
      },
      "outputs": [],
      "execution_count": null
    },
    {
      "cell_type": "code",
      "source": [
        "api_token = {\"username\":\"xx\",\"key\":\"xx\"}\n",
        "import json\n",
        "import zipfile\n",
        "\n",
        "if not os.path.exists(\"/root/.kaggle\"):\n",
        "    os.makedirs(\"/root/.kaggle\")\n",
        "\n",
        "with open('/root/.kaggle/kaggle.json', 'w') as file:\n",
        "    json.dump(api_token, file)\n",
        "!chmod 600 /root/.kaggle/kaggle.json\n",
        "\n",
        "if not os.path.exists(\"/kaggle\"):\n",
        "    os.makedirs(\"/kaggle\")\n",
        "os.chdir('/kaggle')\n",
        "!kaggle competitions download -c mia-hw-3 --force\n",
        "!ls /kaggle"
      ],
      "metadata": {
        "colab": {
          "base_uri": "https://localhost:8080/"
        },
        "id": "kVMil8mLX6WG",
        "outputId": "dda31266-209b-4388-d2e1-713813d62047"
      },
      "execution_count": null,
      "outputs": [
        {
          "output_type": "stream",
          "name": "stdout",
          "text": [
            "Downloading mia-hw-3.zip to /kaggle\n",
            "100% 1.14G/1.15G [00:58<00:00, 20.4MB/s]\n",
            "100% 1.15G/1.15G [00:58<00:00, 21.0MB/s]\n",
            "checkpoint_Late.pth  DICOM  input  MedicalNet  mia-hw-3.zip  submission.csv  test.csv  train.csv\n"
          ]
        }
      ]
    },
    {
      "cell_type": "code",
      "source": [
        "!unzip \\*.zip"
      ],
      "metadata": {
        "id": "OPL90o43X7VE",
        "collapsed": true
      },
      "execution_count": null,
      "outputs": []
    },
    {
      "cell_type": "code",
      "source": [
        "def seed_everything(seed):\n",
        "    # Set Python random seed\n",
        "    random.seed(seed)\n",
        "\n",
        "    # Set NumPy random seed\n",
        "    np.random.seed(seed)\n",
        "\n",
        "    # Set PyTorch random seed for CPU and GPU\n",
        "    torch.manual_seed(seed)\n",
        "    if torch.cuda.is_available():\n",
        "        torch.cuda.manual_seed_all(seed)\n",
        "\n",
        "    # Set PyTorch deterministic operations for cudnn backend\n",
        "    torch.backends.cudnn.deterministic = True\n",
        "    torch.backends.cudnn.benchmark = False"
      ],
      "metadata": {
        "trusted": true,
        "execution": {
          "iopub.status.busy": "2024-11-04T07:12:10.816844Z",
          "iopub.execute_input": "2024-11-04T07:12:10.817376Z",
          "iopub.status.idle": "2024-11-04T07:12:10.823401Z",
          "shell.execute_reply.started": "2024-11-04T07:12:10.817338Z",
          "shell.execute_reply": "2024-11-04T07:12:10.822340Z"
        },
        "id": "UA-Sk5yMLwMo"
      },
      "outputs": [],
      "execution_count": null
    },
    {
      "cell_type": "markdown",
      "source": [
        "## Data"
      ],
      "metadata": {
        "id": "rNq1JH_dLwMp"
      }
    },
    {
      "cell_type": "code",
      "source": [
        "root = '/kaggle/'\n",
        "\n",
        "train_data = pd.read_csv(\"train.csv\")\n",
        "print(f\"Numbers of train data : {len(train_data)}\")\n",
        "train_data.head(10)"
      ],
      "metadata": {
        "trusted": true,
        "execution": {
          "iopub.status.busy": "2024-11-04T07:12:11.388938Z",
          "iopub.execute_input": "2024-11-04T07:12:11.389837Z",
          "iopub.status.idle": "2024-11-04T07:12:11.416228Z",
          "shell.execute_reply.started": "2024-11-04T07:12:11.389798Z",
          "shell.execute_reply": "2024-11-04T07:12:11.415346Z"
        },
        "id": "K2lC302HLwMp",
        "outputId": "2aa56ae5-ff7e-461d-9e05-4f592feae193",
        "colab": {
          "base_uri": "https://localhost:8080/",
          "height": 380
        }
      },
      "outputs": [
        {
          "output_type": "stream",
          "name": "stdout",
          "text": [
            "Numbers of train data : 80\n"
          ]
        },
        {
          "output_type": "execute_result",
          "data": {
            "text/plain": [
              "        ID  Disease\n",
              "0   545876        0\n",
              "1   517509        0\n",
              "2     4194        0\n",
              "3     8098        0\n",
              "4   230450        0\n",
              "5   193329        0\n",
              "6   889904        0\n",
              "7  1126761        1\n",
              "8   310883        0\n",
              "9   347447        0"
            ],
            "text/html": [
              "\n",
              "  <div id=\"df-adc33c28-8b9f-40ab-83f0-c258b3759a78\" class=\"colab-df-container\">\n",
              "    <div>\n",
              "<style scoped>\n",
              "    .dataframe tbody tr th:only-of-type {\n",
              "        vertical-align: middle;\n",
              "    }\n",
              "\n",
              "    .dataframe tbody tr th {\n",
              "        vertical-align: top;\n",
              "    }\n",
              "\n",
              "    .dataframe thead th {\n",
              "        text-align: right;\n",
              "    }\n",
              "</style>\n",
              "<table border=\"1\" class=\"dataframe\">\n",
              "  <thead>\n",
              "    <tr style=\"text-align: right;\">\n",
              "      <th></th>\n",
              "      <th>ID</th>\n",
              "      <th>Disease</th>\n",
              "    </tr>\n",
              "  </thead>\n",
              "  <tbody>\n",
              "    <tr>\n",
              "      <th>0</th>\n",
              "      <td>545876</td>\n",
              "      <td>0</td>\n",
              "    </tr>\n",
              "    <tr>\n",
              "      <th>1</th>\n",
              "      <td>517509</td>\n",
              "      <td>0</td>\n",
              "    </tr>\n",
              "    <tr>\n",
              "      <th>2</th>\n",
              "      <td>4194</td>\n",
              "      <td>0</td>\n",
              "    </tr>\n",
              "    <tr>\n",
              "      <th>3</th>\n",
              "      <td>8098</td>\n",
              "      <td>0</td>\n",
              "    </tr>\n",
              "    <tr>\n",
              "      <th>4</th>\n",
              "      <td>230450</td>\n",
              "      <td>0</td>\n",
              "    </tr>\n",
              "    <tr>\n",
              "      <th>5</th>\n",
              "      <td>193329</td>\n",
              "      <td>0</td>\n",
              "    </tr>\n",
              "    <tr>\n",
              "      <th>6</th>\n",
              "      <td>889904</td>\n",
              "      <td>0</td>\n",
              "    </tr>\n",
              "    <tr>\n",
              "      <th>7</th>\n",
              "      <td>1126761</td>\n",
              "      <td>1</td>\n",
              "    </tr>\n",
              "    <tr>\n",
              "      <th>8</th>\n",
              "      <td>310883</td>\n",
              "      <td>0</td>\n",
              "    </tr>\n",
              "    <tr>\n",
              "      <th>9</th>\n",
              "      <td>347447</td>\n",
              "      <td>0</td>\n",
              "    </tr>\n",
              "  </tbody>\n",
              "</table>\n",
              "</div>\n",
              "    <div class=\"colab-df-buttons\">\n",
              "\n",
              "  <div class=\"colab-df-container\">\n",
              "    <button class=\"colab-df-convert\" onclick=\"convertToInteractive('df-adc33c28-8b9f-40ab-83f0-c258b3759a78')\"\n",
              "            title=\"Convert this dataframe to an interactive table.\"\n",
              "            style=\"display:none;\">\n",
              "\n",
              "  <svg xmlns=\"http://www.w3.org/2000/svg\" height=\"24px\" viewBox=\"0 -960 960 960\">\n",
              "    <path d=\"M120-120v-720h720v720H120Zm60-500h600v-160H180v160Zm220 220h160v-160H400v160Zm0 220h160v-160H400v160ZM180-400h160v-160H180v160Zm440 0h160v-160H620v160ZM180-180h160v-160H180v160Zm440 0h160v-160H620v160Z\"/>\n",
              "  </svg>\n",
              "    </button>\n",
              "\n",
              "  <style>\n",
              "    .colab-df-container {\n",
              "      display:flex;\n",
              "      gap: 12px;\n",
              "    }\n",
              "\n",
              "    .colab-df-convert {\n",
              "      background-color: #E8F0FE;\n",
              "      border: none;\n",
              "      border-radius: 50%;\n",
              "      cursor: pointer;\n",
              "      display: none;\n",
              "      fill: #1967D2;\n",
              "      height: 32px;\n",
              "      padding: 0 0 0 0;\n",
              "      width: 32px;\n",
              "    }\n",
              "\n",
              "    .colab-df-convert:hover {\n",
              "      background-color: #E2EBFA;\n",
              "      box-shadow: 0px 1px 2px rgba(60, 64, 67, 0.3), 0px 1px 3px 1px rgba(60, 64, 67, 0.15);\n",
              "      fill: #174EA6;\n",
              "    }\n",
              "\n",
              "    .colab-df-buttons div {\n",
              "      margin-bottom: 4px;\n",
              "    }\n",
              "\n",
              "    [theme=dark] .colab-df-convert {\n",
              "      background-color: #3B4455;\n",
              "      fill: #D2E3FC;\n",
              "    }\n",
              "\n",
              "    [theme=dark] .colab-df-convert:hover {\n",
              "      background-color: #434B5C;\n",
              "      box-shadow: 0px 1px 3px 1px rgba(0, 0, 0, 0.15);\n",
              "      filter: drop-shadow(0px 1px 2px rgba(0, 0, 0, 0.3));\n",
              "      fill: #FFFFFF;\n",
              "    }\n",
              "  </style>\n",
              "\n",
              "    <script>\n",
              "      const buttonEl =\n",
              "        document.querySelector('#df-adc33c28-8b9f-40ab-83f0-c258b3759a78 button.colab-df-convert');\n",
              "      buttonEl.style.display =\n",
              "        google.colab.kernel.accessAllowed ? 'block' : 'none';\n",
              "\n",
              "      async function convertToInteractive(key) {\n",
              "        const element = document.querySelector('#df-adc33c28-8b9f-40ab-83f0-c258b3759a78');\n",
              "        const dataTable =\n",
              "          await google.colab.kernel.invokeFunction('convertToInteractive',\n",
              "                                                    [key], {});\n",
              "        if (!dataTable) return;\n",
              "\n",
              "        const docLinkHtml = 'Like what you see? Visit the ' +\n",
              "          '<a target=\"_blank\" href=https://colab.research.google.com/notebooks/data_table.ipynb>data table notebook</a>'\n",
              "          + ' to learn more about interactive tables.';\n",
              "        element.innerHTML = '';\n",
              "        dataTable['output_type'] = 'display_data';\n",
              "        await google.colab.output.renderOutput(dataTable, element);\n",
              "        const docLink = document.createElement('div');\n",
              "        docLink.innerHTML = docLinkHtml;\n",
              "        element.appendChild(docLink);\n",
              "      }\n",
              "    </script>\n",
              "  </div>\n",
              "\n",
              "\n",
              "<div id=\"df-bbf125f8-974d-48bc-a1da-4d6a4b294c5d\">\n",
              "  <button class=\"colab-df-quickchart\" onclick=\"quickchart('df-bbf125f8-974d-48bc-a1da-4d6a4b294c5d')\"\n",
              "            title=\"Suggest charts\"\n",
              "            style=\"display:none;\">\n",
              "\n",
              "<svg xmlns=\"http://www.w3.org/2000/svg\" height=\"24px\"viewBox=\"0 0 24 24\"\n",
              "     width=\"24px\">\n",
              "    <g>\n",
              "        <path d=\"M19 3H5c-1.1 0-2 .9-2 2v14c0 1.1.9 2 2 2h14c1.1 0 2-.9 2-2V5c0-1.1-.9-2-2-2zM9 17H7v-7h2v7zm4 0h-2V7h2v10zm4 0h-2v-4h2v4z\"/>\n",
              "    </g>\n",
              "</svg>\n",
              "  </button>\n",
              "\n",
              "<style>\n",
              "  .colab-df-quickchart {\n",
              "      --bg-color: #E8F0FE;\n",
              "      --fill-color: #1967D2;\n",
              "      --hover-bg-color: #E2EBFA;\n",
              "      --hover-fill-color: #174EA6;\n",
              "      --disabled-fill-color: #AAA;\n",
              "      --disabled-bg-color: #DDD;\n",
              "  }\n",
              "\n",
              "  [theme=dark] .colab-df-quickchart {\n",
              "      --bg-color: #3B4455;\n",
              "      --fill-color: #D2E3FC;\n",
              "      --hover-bg-color: #434B5C;\n",
              "      --hover-fill-color: #FFFFFF;\n",
              "      --disabled-bg-color: #3B4455;\n",
              "      --disabled-fill-color: #666;\n",
              "  }\n",
              "\n",
              "  .colab-df-quickchart {\n",
              "    background-color: var(--bg-color);\n",
              "    border: none;\n",
              "    border-radius: 50%;\n",
              "    cursor: pointer;\n",
              "    display: none;\n",
              "    fill: var(--fill-color);\n",
              "    height: 32px;\n",
              "    padding: 0;\n",
              "    width: 32px;\n",
              "  }\n",
              "\n",
              "  .colab-df-quickchart:hover {\n",
              "    background-color: var(--hover-bg-color);\n",
              "    box-shadow: 0 1px 2px rgba(60, 64, 67, 0.3), 0 1px 3px 1px rgba(60, 64, 67, 0.15);\n",
              "    fill: var(--button-hover-fill-color);\n",
              "  }\n",
              "\n",
              "  .colab-df-quickchart-complete:disabled,\n",
              "  .colab-df-quickchart-complete:disabled:hover {\n",
              "    background-color: var(--disabled-bg-color);\n",
              "    fill: var(--disabled-fill-color);\n",
              "    box-shadow: none;\n",
              "  }\n",
              "\n",
              "  .colab-df-spinner {\n",
              "    border: 2px solid var(--fill-color);\n",
              "    border-color: transparent;\n",
              "    border-bottom-color: var(--fill-color);\n",
              "    animation:\n",
              "      spin 1s steps(1) infinite;\n",
              "  }\n",
              "\n",
              "  @keyframes spin {\n",
              "    0% {\n",
              "      border-color: transparent;\n",
              "      border-bottom-color: var(--fill-color);\n",
              "      border-left-color: var(--fill-color);\n",
              "    }\n",
              "    20% {\n",
              "      border-color: transparent;\n",
              "      border-left-color: var(--fill-color);\n",
              "      border-top-color: var(--fill-color);\n",
              "    }\n",
              "    30% {\n",
              "      border-color: transparent;\n",
              "      border-left-color: var(--fill-color);\n",
              "      border-top-color: var(--fill-color);\n",
              "      border-right-color: var(--fill-color);\n",
              "    }\n",
              "    40% {\n",
              "      border-color: transparent;\n",
              "      border-right-color: var(--fill-color);\n",
              "      border-top-color: var(--fill-color);\n",
              "    }\n",
              "    60% {\n",
              "      border-color: transparent;\n",
              "      border-right-color: var(--fill-color);\n",
              "    }\n",
              "    80% {\n",
              "      border-color: transparent;\n",
              "      border-right-color: var(--fill-color);\n",
              "      border-bottom-color: var(--fill-color);\n",
              "    }\n",
              "    90% {\n",
              "      border-color: transparent;\n",
              "      border-bottom-color: var(--fill-color);\n",
              "    }\n",
              "  }\n",
              "</style>\n",
              "\n",
              "  <script>\n",
              "    async function quickchart(key) {\n",
              "      const quickchartButtonEl =\n",
              "        document.querySelector('#' + key + ' button');\n",
              "      quickchartButtonEl.disabled = true;  // To prevent multiple clicks.\n",
              "      quickchartButtonEl.classList.add('colab-df-spinner');\n",
              "      try {\n",
              "        const charts = await google.colab.kernel.invokeFunction(\n",
              "            'suggestCharts', [key], {});\n",
              "      } catch (error) {\n",
              "        console.error('Error during call to suggestCharts:', error);\n",
              "      }\n",
              "      quickchartButtonEl.classList.remove('colab-df-spinner');\n",
              "      quickchartButtonEl.classList.add('colab-df-quickchart-complete');\n",
              "    }\n",
              "    (() => {\n",
              "      let quickchartButtonEl =\n",
              "        document.querySelector('#df-bbf125f8-974d-48bc-a1da-4d6a4b294c5d button');\n",
              "      quickchartButtonEl.style.display =\n",
              "        google.colab.kernel.accessAllowed ? 'block' : 'none';\n",
              "    })();\n",
              "  </script>\n",
              "</div>\n",
              "\n",
              "    </div>\n",
              "  </div>\n"
            ],
            "application/vnd.google.colaboratory.intrinsic+json": {
              "type": "dataframe",
              "variable_name": "train_data",
              "summary": "{\n  \"name\": \"train_data\",\n  \"rows\": 80,\n  \"fields\": [\n    {\n      \"column\": \"ID\",\n      \"properties\": {\n        \"dtype\": \"number\",\n        \"std\": 984132,\n        \"min\": 4194,\n        \"max\": 5075430,\n        \"num_unique_values\": 80,\n        \"samples\": [\n          114191,\n          545876,\n          950833\n        ],\n        \"semantic_type\": \"\",\n        \"description\": \"\"\n      }\n    },\n    {\n      \"column\": \"Disease\",\n      \"properties\": {\n        \"dtype\": \"number\",\n        \"std\": 0,\n        \"min\": 0,\n        \"max\": 1,\n        \"num_unique_values\": 2,\n        \"samples\": [\n          1,\n          0\n        ],\n        \"semantic_type\": \"\",\n        \"description\": \"\"\n      }\n    }\n  ]\n}"
            }
          },
          "metadata": {},
          "execution_count": 6
        }
      ],
      "execution_count": null
    },
    {
      "cell_type": "code",
      "source": [
        "train_data_label_dist = pd.DataFrame(\n",
        "    {\n",
        "        \"label\" : train_data.iloc[:, 1].value_counts().sort_index().index.astype(str),\n",
        "        \"counts\" : train_data.iloc[:, 1].value_counts().sort_index().values\n",
        "    }\n",
        ")\n",
        "train_data_label_dist"
      ],
      "metadata": {
        "trusted": true,
        "execution": {
          "iopub.status.busy": "2024-11-04T07:12:11.651357Z",
          "iopub.execute_input": "2024-11-04T07:12:11.651976Z",
          "iopub.status.idle": "2024-11-04T07:12:11.672363Z",
          "shell.execute_reply.started": "2024-11-04T07:12:11.651936Z",
          "shell.execute_reply": "2024-11-04T07:12:11.671375Z"
        },
        "id": "KVfTx45TLwMq",
        "outputId": "7be00757-503d-4dbe-d628-8f90f0c81241",
        "colab": {
          "base_uri": "https://localhost:8080/",
          "height": 125
        }
      },
      "outputs": [
        {
          "output_type": "execute_result",
          "data": {
            "text/plain": [
              "  label  counts\n",
              "0     0      40\n",
              "1     1      40"
            ],
            "text/html": [
              "\n",
              "  <div id=\"df-105623d3-0dba-49d9-a4f2-cda318addc89\" class=\"colab-df-container\">\n",
              "    <div>\n",
              "<style scoped>\n",
              "    .dataframe tbody tr th:only-of-type {\n",
              "        vertical-align: middle;\n",
              "    }\n",
              "\n",
              "    .dataframe tbody tr th {\n",
              "        vertical-align: top;\n",
              "    }\n",
              "\n",
              "    .dataframe thead th {\n",
              "        text-align: right;\n",
              "    }\n",
              "</style>\n",
              "<table border=\"1\" class=\"dataframe\">\n",
              "  <thead>\n",
              "    <tr style=\"text-align: right;\">\n",
              "      <th></th>\n",
              "      <th>label</th>\n",
              "      <th>counts</th>\n",
              "    </tr>\n",
              "  </thead>\n",
              "  <tbody>\n",
              "    <tr>\n",
              "      <th>0</th>\n",
              "      <td>0</td>\n",
              "      <td>40</td>\n",
              "    </tr>\n",
              "    <tr>\n",
              "      <th>1</th>\n",
              "      <td>1</td>\n",
              "      <td>40</td>\n",
              "    </tr>\n",
              "  </tbody>\n",
              "</table>\n",
              "</div>\n",
              "    <div class=\"colab-df-buttons\">\n",
              "\n",
              "  <div class=\"colab-df-container\">\n",
              "    <button class=\"colab-df-convert\" onclick=\"convertToInteractive('df-105623d3-0dba-49d9-a4f2-cda318addc89')\"\n",
              "            title=\"Convert this dataframe to an interactive table.\"\n",
              "            style=\"display:none;\">\n",
              "\n",
              "  <svg xmlns=\"http://www.w3.org/2000/svg\" height=\"24px\" viewBox=\"0 -960 960 960\">\n",
              "    <path d=\"M120-120v-720h720v720H120Zm60-500h600v-160H180v160Zm220 220h160v-160H400v160Zm0 220h160v-160H400v160ZM180-400h160v-160H180v160Zm440 0h160v-160H620v160ZM180-180h160v-160H180v160Zm440 0h160v-160H620v160Z\"/>\n",
              "  </svg>\n",
              "    </button>\n",
              "\n",
              "  <style>\n",
              "    .colab-df-container {\n",
              "      display:flex;\n",
              "      gap: 12px;\n",
              "    }\n",
              "\n",
              "    .colab-df-convert {\n",
              "      background-color: #E8F0FE;\n",
              "      border: none;\n",
              "      border-radius: 50%;\n",
              "      cursor: pointer;\n",
              "      display: none;\n",
              "      fill: #1967D2;\n",
              "      height: 32px;\n",
              "      padding: 0 0 0 0;\n",
              "      width: 32px;\n",
              "    }\n",
              "\n",
              "    .colab-df-convert:hover {\n",
              "      background-color: #E2EBFA;\n",
              "      box-shadow: 0px 1px 2px rgba(60, 64, 67, 0.3), 0px 1px 3px 1px rgba(60, 64, 67, 0.15);\n",
              "      fill: #174EA6;\n",
              "    }\n",
              "\n",
              "    .colab-df-buttons div {\n",
              "      margin-bottom: 4px;\n",
              "    }\n",
              "\n",
              "    [theme=dark] .colab-df-convert {\n",
              "      background-color: #3B4455;\n",
              "      fill: #D2E3FC;\n",
              "    }\n",
              "\n",
              "    [theme=dark] .colab-df-convert:hover {\n",
              "      background-color: #434B5C;\n",
              "      box-shadow: 0px 1px 3px 1px rgba(0, 0, 0, 0.15);\n",
              "      filter: drop-shadow(0px 1px 2px rgba(0, 0, 0, 0.3));\n",
              "      fill: #FFFFFF;\n",
              "    }\n",
              "  </style>\n",
              "\n",
              "    <script>\n",
              "      const buttonEl =\n",
              "        document.querySelector('#df-105623d3-0dba-49d9-a4f2-cda318addc89 button.colab-df-convert');\n",
              "      buttonEl.style.display =\n",
              "        google.colab.kernel.accessAllowed ? 'block' : 'none';\n",
              "\n",
              "      async function convertToInteractive(key) {\n",
              "        const element = document.querySelector('#df-105623d3-0dba-49d9-a4f2-cda318addc89');\n",
              "        const dataTable =\n",
              "          await google.colab.kernel.invokeFunction('convertToInteractive',\n",
              "                                                    [key], {});\n",
              "        if (!dataTable) return;\n",
              "\n",
              "        const docLinkHtml = 'Like what you see? Visit the ' +\n",
              "          '<a target=\"_blank\" href=https://colab.research.google.com/notebooks/data_table.ipynb>data table notebook</a>'\n",
              "          + ' to learn more about interactive tables.';\n",
              "        element.innerHTML = '';\n",
              "        dataTable['output_type'] = 'display_data';\n",
              "        await google.colab.output.renderOutput(dataTable, element);\n",
              "        const docLink = document.createElement('div');\n",
              "        docLink.innerHTML = docLinkHtml;\n",
              "        element.appendChild(docLink);\n",
              "      }\n",
              "    </script>\n",
              "  </div>\n",
              "\n",
              "\n",
              "<div id=\"df-284f3e36-4a29-407c-b565-7ca88fcc04a2\">\n",
              "  <button class=\"colab-df-quickchart\" onclick=\"quickchart('df-284f3e36-4a29-407c-b565-7ca88fcc04a2')\"\n",
              "            title=\"Suggest charts\"\n",
              "            style=\"display:none;\">\n",
              "\n",
              "<svg xmlns=\"http://www.w3.org/2000/svg\" height=\"24px\"viewBox=\"0 0 24 24\"\n",
              "     width=\"24px\">\n",
              "    <g>\n",
              "        <path d=\"M19 3H5c-1.1 0-2 .9-2 2v14c0 1.1.9 2 2 2h14c1.1 0 2-.9 2-2V5c0-1.1-.9-2-2-2zM9 17H7v-7h2v7zm4 0h-2V7h2v10zm4 0h-2v-4h2v4z\"/>\n",
              "    </g>\n",
              "</svg>\n",
              "  </button>\n",
              "\n",
              "<style>\n",
              "  .colab-df-quickchart {\n",
              "      --bg-color: #E8F0FE;\n",
              "      --fill-color: #1967D2;\n",
              "      --hover-bg-color: #E2EBFA;\n",
              "      --hover-fill-color: #174EA6;\n",
              "      --disabled-fill-color: #AAA;\n",
              "      --disabled-bg-color: #DDD;\n",
              "  }\n",
              "\n",
              "  [theme=dark] .colab-df-quickchart {\n",
              "      --bg-color: #3B4455;\n",
              "      --fill-color: #D2E3FC;\n",
              "      --hover-bg-color: #434B5C;\n",
              "      --hover-fill-color: #FFFFFF;\n",
              "      --disabled-bg-color: #3B4455;\n",
              "      --disabled-fill-color: #666;\n",
              "  }\n",
              "\n",
              "  .colab-df-quickchart {\n",
              "    background-color: var(--bg-color);\n",
              "    border: none;\n",
              "    border-radius: 50%;\n",
              "    cursor: pointer;\n",
              "    display: none;\n",
              "    fill: var(--fill-color);\n",
              "    height: 32px;\n",
              "    padding: 0;\n",
              "    width: 32px;\n",
              "  }\n",
              "\n",
              "  .colab-df-quickchart:hover {\n",
              "    background-color: var(--hover-bg-color);\n",
              "    box-shadow: 0 1px 2px rgba(60, 64, 67, 0.3), 0 1px 3px 1px rgba(60, 64, 67, 0.15);\n",
              "    fill: var(--button-hover-fill-color);\n",
              "  }\n",
              "\n",
              "  .colab-df-quickchart-complete:disabled,\n",
              "  .colab-df-quickchart-complete:disabled:hover {\n",
              "    background-color: var(--disabled-bg-color);\n",
              "    fill: var(--disabled-fill-color);\n",
              "    box-shadow: none;\n",
              "  }\n",
              "\n",
              "  .colab-df-spinner {\n",
              "    border: 2px solid var(--fill-color);\n",
              "    border-color: transparent;\n",
              "    border-bottom-color: var(--fill-color);\n",
              "    animation:\n",
              "      spin 1s steps(1) infinite;\n",
              "  }\n",
              "\n",
              "  @keyframes spin {\n",
              "    0% {\n",
              "      border-color: transparent;\n",
              "      border-bottom-color: var(--fill-color);\n",
              "      border-left-color: var(--fill-color);\n",
              "    }\n",
              "    20% {\n",
              "      border-color: transparent;\n",
              "      border-left-color: var(--fill-color);\n",
              "      border-top-color: var(--fill-color);\n",
              "    }\n",
              "    30% {\n",
              "      border-color: transparent;\n",
              "      border-left-color: var(--fill-color);\n",
              "      border-top-color: var(--fill-color);\n",
              "      border-right-color: var(--fill-color);\n",
              "    }\n",
              "    40% {\n",
              "      border-color: transparent;\n",
              "      border-right-color: var(--fill-color);\n",
              "      border-top-color: var(--fill-color);\n",
              "    }\n",
              "    60% {\n",
              "      border-color: transparent;\n",
              "      border-right-color: var(--fill-color);\n",
              "    }\n",
              "    80% {\n",
              "      border-color: transparent;\n",
              "      border-right-color: var(--fill-color);\n",
              "      border-bottom-color: var(--fill-color);\n",
              "    }\n",
              "    90% {\n",
              "      border-color: transparent;\n",
              "      border-bottom-color: var(--fill-color);\n",
              "    }\n",
              "  }\n",
              "</style>\n",
              "\n",
              "  <script>\n",
              "    async function quickchart(key) {\n",
              "      const quickchartButtonEl =\n",
              "        document.querySelector('#' + key + ' button');\n",
              "      quickchartButtonEl.disabled = true;  // To prevent multiple clicks.\n",
              "      quickchartButtonEl.classList.add('colab-df-spinner');\n",
              "      try {\n",
              "        const charts = await google.colab.kernel.invokeFunction(\n",
              "            'suggestCharts', [key], {});\n",
              "      } catch (error) {\n",
              "        console.error('Error during call to suggestCharts:', error);\n",
              "      }\n",
              "      quickchartButtonEl.classList.remove('colab-df-spinner');\n",
              "      quickchartButtonEl.classList.add('colab-df-quickchart-complete');\n",
              "    }\n",
              "    (() => {\n",
              "      let quickchartButtonEl =\n",
              "        document.querySelector('#df-284f3e36-4a29-407c-b565-7ca88fcc04a2 button');\n",
              "      quickchartButtonEl.style.display =\n",
              "        google.colab.kernel.accessAllowed ? 'block' : 'none';\n",
              "    })();\n",
              "  </script>\n",
              "</div>\n",
              "\n",
              "  <div id=\"id_788c7a2f-4165-4161-98c6-429a888debb8\">\n",
              "    <style>\n",
              "      .colab-df-generate {\n",
              "        background-color: #E8F0FE;\n",
              "        border: none;\n",
              "        border-radius: 50%;\n",
              "        cursor: pointer;\n",
              "        display: none;\n",
              "        fill: #1967D2;\n",
              "        height: 32px;\n",
              "        padding: 0 0 0 0;\n",
              "        width: 32px;\n",
              "      }\n",
              "\n",
              "      .colab-df-generate:hover {\n",
              "        background-color: #E2EBFA;\n",
              "        box-shadow: 0px 1px 2px rgba(60, 64, 67, 0.3), 0px 1px 3px 1px rgba(60, 64, 67, 0.15);\n",
              "        fill: #174EA6;\n",
              "      }\n",
              "\n",
              "      [theme=dark] .colab-df-generate {\n",
              "        background-color: #3B4455;\n",
              "        fill: #D2E3FC;\n",
              "      }\n",
              "\n",
              "      [theme=dark] .colab-df-generate:hover {\n",
              "        background-color: #434B5C;\n",
              "        box-shadow: 0px 1px 3px 1px rgba(0, 0, 0, 0.15);\n",
              "        filter: drop-shadow(0px 1px 2px rgba(0, 0, 0, 0.3));\n",
              "        fill: #FFFFFF;\n",
              "      }\n",
              "    </style>\n",
              "    <button class=\"colab-df-generate\" onclick=\"generateWithVariable('train_data_label_dist')\"\n",
              "            title=\"Generate code using this dataframe.\"\n",
              "            style=\"display:none;\">\n",
              "\n",
              "  <svg xmlns=\"http://www.w3.org/2000/svg\" height=\"24px\"viewBox=\"0 0 24 24\"\n",
              "       width=\"24px\">\n",
              "    <path d=\"M7,19H8.4L18.45,9,17,7.55,7,17.6ZM5,21V16.75L18.45,3.32a2,2,0,0,1,2.83,0l1.4,1.43a1.91,1.91,0,0,1,.58,1.4,1.91,1.91,0,0,1-.58,1.4L9.25,21ZM18.45,9,17,7.55Zm-12,3A5.31,5.31,0,0,0,4.9,8.1,5.31,5.31,0,0,0,1,6.5,5.31,5.31,0,0,0,4.9,4.9,5.31,5.31,0,0,0,6.5,1,5.31,5.31,0,0,0,8.1,4.9,5.31,5.31,0,0,0,12,6.5,5.46,5.46,0,0,0,6.5,12Z\"/>\n",
              "  </svg>\n",
              "    </button>\n",
              "    <script>\n",
              "      (() => {\n",
              "      const buttonEl =\n",
              "        document.querySelector('#id_788c7a2f-4165-4161-98c6-429a888debb8 button.colab-df-generate');\n",
              "      buttonEl.style.display =\n",
              "        google.colab.kernel.accessAllowed ? 'block' : 'none';\n",
              "\n",
              "      buttonEl.onclick = () => {\n",
              "        google.colab.notebook.generateWithVariable('train_data_label_dist');\n",
              "      }\n",
              "      })();\n",
              "    </script>\n",
              "  </div>\n",
              "\n",
              "    </div>\n",
              "  </div>\n"
            ],
            "application/vnd.google.colaboratory.intrinsic+json": {
              "type": "dataframe",
              "variable_name": "train_data_label_dist",
              "summary": "{\n  \"name\": \"train_data_label_dist\",\n  \"rows\": 2,\n  \"fields\": [\n    {\n      \"column\": \"label\",\n      \"properties\": {\n        \"dtype\": \"string\",\n        \"num_unique_values\": 2,\n        \"samples\": [\n          \"1\",\n          \"0\"\n        ],\n        \"semantic_type\": \"\",\n        \"description\": \"\"\n      }\n    },\n    {\n      \"column\": \"counts\",\n      \"properties\": {\n        \"dtype\": \"number\",\n        \"std\": 0,\n        \"min\": 40,\n        \"max\": 40,\n        \"num_unique_values\": 1,\n        \"samples\": [\n          40\n        ],\n        \"semantic_type\": \"\",\n        \"description\": \"\"\n      }\n    }\n  ]\n}"
            }
          },
          "metadata": {},
          "execution_count": 7
        }
      ],
      "execution_count": null
    },
    {
      "cell_type": "markdown",
      "source": [
        "## Defined Image Interpolation"
      ],
      "metadata": {
        "id": "rGep-CSOLwMq"
      }
    },
    {
      "cell_type": "code",
      "source": [
        "# image interpolation\n",
        "class Interpolate():\n",
        "\n",
        "    def __init__(self, target_num = 22):  ##這次作業指定22張\n",
        "        self.target_num = target_num\n",
        "\n",
        "    def __call__(self, slices): # (3, XX, 512, 512) 其中 XX 是切片的數量\n",
        "        slices = slices.unsqueeze(dim = 0) # (1, 3, XX, 512, 512)\n",
        "        slices = F.interpolate(\n",
        "                  slices,\n",
        "                  mode = 'trilinear',\n",
        "                  size = (self.target_num, slices.shape[-2], slices.shape[-1])) # (1, 3, target_num, 512, 512) 其中 slices.shape[-2], slices.shape[-1]為 XX 張 slice 的 H, W\n",
        "        return torch.transpose(slices.squeeze(), 0, 1) # slices.squeeze()的形狀為 (3, 22, 512, 512)， 經過 transpose 後形狀變為 (22, 3, 512, 512)"
      ],
      "metadata": {
        "trusted": true,
        "execution": {
          "iopub.status.busy": "2024-11-04T07:12:12.470751Z",
          "iopub.execute_input": "2024-11-04T07:12:12.471617Z",
          "iopub.status.idle": "2024-11-04T07:12:12.477539Z",
          "shell.execute_reply.started": "2024-11-04T07:12:12.471575Z",
          "shell.execute_reply": "2024-11-04T07:12:12.476672Z"
        },
        "id": "rOpcTc1SLwMq"
      },
      "outputs": [],
      "execution_count": null
    },
    {
      "cell_type": "markdown",
      "source": [
        "## Data Transformation"
      ],
      "metadata": {
        "id": "yVBUMObLLwMq"
      }
    },
    {
      "cell_type": "code",
      "source": [
        "def build_transform(is_train):\n",
        "    t = []\n",
        "    if is_train:\n",
        "        t.append(Interpolate(target_num = 22))\n",
        "        return v2.Compose(t)\n",
        "\n",
        "    t.append(Interpolate(target_num = 22))\n",
        "    return v2.Compose(t)"
      ],
      "metadata": {
        "trusted": true,
        "execution": {
          "iopub.status.busy": "2024-11-04T07:12:13.186814Z",
          "iopub.execute_input": "2024-11-04T07:12:13.187271Z",
          "iopub.status.idle": "2024-11-04T07:12:13.192938Z",
          "shell.execute_reply.started": "2024-11-04T07:12:13.187230Z",
          "shell.execute_reply": "2024-11-04T07:12:13.191756Z"
        },
        "id": "kgRl0KKLLwMr"
      },
      "outputs": [],
      "execution_count": null
    },
    {
      "cell_type": "markdown",
      "source": [
        "## Evaluator"
      ],
      "metadata": {
        "id": "YIHbnHz_LwMr"
      }
    },
    {
      "cell_type": "code",
      "source": [
        "def evaluator(preds, gts):\n",
        "    preds = preds.cpu().detach().numpy()\n",
        "    gts = gts.cpu().numpy()\n",
        "    acc = accuracy_score(preds, gts)\n",
        "    f1 = f1_score(preds, gts, average=\"macro\")\n",
        "\n",
        "    return acc, f1"
      ],
      "metadata": {
        "trusted": true,
        "execution": {
          "iopub.status.busy": "2024-11-04T07:12:14.277583Z",
          "iopub.execute_input": "2024-11-04T07:12:14.277975Z",
          "iopub.status.idle": "2024-11-04T07:12:14.283387Z",
          "shell.execute_reply.started": "2024-11-04T07:12:14.277938Z",
          "shell.execute_reply": "2024-11-04T07:12:14.282339Z"
        },
        "id": "b0jmuZ_eLwMr"
      },
      "outputs": [],
      "execution_count": null
    },
    {
      "cell_type": "markdown",
      "source": [
        "## Training"
      ],
      "metadata": {
        "execution": {
          "iopub.status.busy": "2024-10-31T17:13:47.855421Z",
          "iopub.execute_input": "2024-10-31T17:13:47.856000Z",
          "iopub.status.idle": "2024-10-31T17:13:47.861450Z",
          "shell.execute_reply.started": "2024-10-31T17:13:47.855944Z",
          "shell.execute_reply": "2024-10-31T17:13:47.860188Z"
        },
        "id": "WoJc_PwrLwMr"
      }
    },
    {
      "cell_type": "code",
      "source": [
        "def train_one_epoch(model, train_loader, optimizer, scheduler, criterion, device):\n",
        "    model.train()\n",
        "    train_loss = .0\n",
        "    predictions, ground_truths = [], []\n",
        "    for images, labels in train_loader:\n",
        "        images = [image.to(device=device, dtype=torch.float) for image in images]\n",
        "        labels = labels.to(device=device, dtype=torch.long)\n",
        "\n",
        "        optimizer.zero_grad()\n",
        "        logits = model(images)\n",
        "        loss = criterion(logits, labels)\n",
        "        loss.backward()\n",
        "\n",
        "        optimizer.step()\n",
        "        # scheduler.step()\n",
        "\n",
        "        train_loss += loss.item()\n",
        "        preds = torch.argmax(logits, dim=1)\n",
        "\n",
        "        predictions.append(preds)\n",
        "        ground_truths.append(labels)\n",
        "\n",
        "    scheduler.step()\n",
        "\n",
        "    train_loss /= len(train_loader)\n",
        "\n",
        "    predictions = torch.cat(predictions)\n",
        "    ground_truths = torch.cat(ground_truths)\n",
        "    train_acc, train_f1 = evaluator(predictions, ground_truths)\n",
        "\n",
        "    return train_loss, 100*train_acc, 100*train_f1"
      ],
      "metadata": {
        "trusted": true,
        "execution": {
          "iopub.status.busy": "2024-11-04T07:12:14.952914Z",
          "iopub.execute_input": "2024-11-04T07:12:14.953537Z",
          "iopub.status.idle": "2024-11-04T07:12:14.962294Z",
          "shell.execute_reply.started": "2024-11-04T07:12:14.953495Z",
          "shell.execute_reply": "2024-11-04T07:12:14.961322Z"
        },
        "id": "IuOEL86FLwMr"
      },
      "outputs": [],
      "execution_count": null
    },
    {
      "cell_type": "markdown",
      "source": [
        "## Validation"
      ],
      "metadata": {
        "id": "5J6H5-CiLwMs"
      }
    },
    {
      "cell_type": "code",
      "source": [
        "def validation(model, valid_loader, criterion, device):\n",
        "    model.eval()\n",
        "    valid_loss = .0\n",
        "    predictions, ground_truths = [], []\n",
        "    with torch.no_grad():\n",
        "        for images, labels in valid_loader:\n",
        "            images = [image.to(device=device, dtype=torch.float) for image in images]\n",
        "            labels = labels.to(device=device, dtype=torch.long)\n",
        "\n",
        "            logits = model(images)\n",
        "            loss = criterion(logits, labels)\n",
        "\n",
        "            valid_loss += loss.item()\n",
        "            preds = torch.argmax(logits, dim=1)\n",
        "\n",
        "            predictions.append(preds)\n",
        "            ground_truths.append(labels)\n",
        "\n",
        "        valid_loss /= len(valid_loader)\n",
        "\n",
        "        predictions = torch.cat(predictions)\n",
        "        ground_truths = torch.cat(ground_truths)\n",
        "        valid_acc, valid_f1 = evaluator(predictions, ground_truths)\n",
        "    return valid_loss, 100*valid_acc, 100*valid_f1"
      ],
      "metadata": {
        "trusted": true,
        "execution": {
          "iopub.status.busy": "2024-11-04T07:12:16.190042Z",
          "iopub.execute_input": "2024-11-04T07:12:16.190965Z",
          "iopub.status.idle": "2024-11-04T07:12:16.198751Z",
          "shell.execute_reply.started": "2024-11-04T07:12:16.190924Z",
          "shell.execute_reply": "2024-11-04T07:12:16.197677Z"
        },
        "id": "Oc_xWlNzLwMs"
      },
      "outputs": [],
      "execution_count": null
    },
    {
      "cell_type": "markdown",
      "source": [
        "## Testing"
      ],
      "metadata": {
        "id": "jPhvpGbbLwMs"
      }
    },
    {
      "cell_type": "code",
      "source": [
        "def testing(model, test_loader, device):\n",
        "    model.eval()\n",
        "    preds = []\n",
        "    with torch.no_grad():\n",
        "        for images in test_loader:\n",
        "\n",
        "            images = [image.to(device=device, dtype=torch.float) for image in images]\n",
        "            logits = model(images)\n",
        "            pred = torch.argmax(logits, dim=1)\n",
        "\n",
        "            preds.append(pred)\n",
        "\n",
        "\n",
        "    preds = torch.cat(preds)\n",
        "\n",
        "    return preds"
      ],
      "metadata": {
        "trusted": true,
        "execution": {
          "iopub.status.busy": "2024-11-04T07:12:16.896457Z",
          "iopub.execute_input": "2024-11-04T07:12:16.896837Z",
          "iopub.status.idle": "2024-11-04T07:12:16.904327Z",
          "shell.execute_reply.started": "2024-11-04T07:12:16.896801Z",
          "shell.execute_reply": "2024-11-04T07:12:16.903161Z"
        },
        "id": "0UGIKEl5LwMs"
      },
      "outputs": [],
      "execution_count": null
    },
    {
      "cell_type": "markdown",
      "source": [
        "# 2D CNN\n",
        "## 2D Dataset"
      ],
      "metadata": {
        "execution": {
          "iopub.status.busy": "2024-10-31T17:09:19.528958Z",
          "iopub.execute_input": "2024-10-31T17:09:19.529509Z",
          "iopub.status.idle": "2024-10-31T17:09:19.535762Z",
          "shell.execute_reply.started": "2024-10-31T17:09:19.529459Z",
          "shell.execute_reply": "2024-10-31T17:09:19.534261Z"
        },
        "id": "bw6yg4PNLwMs"
      }
    },
    {
      "cell_type": "markdown",
      "source": [
        "**前次的code修改**\n",
        "\n",
        "\n",
        "上次說整個 2D dataset 的 images 是一個放 22 * 80 個大小為 (3, 256, 256) 切片影像的 list。\n",
        "\n",
        "2DDataset = [(3,256,256), (3,256,256), (3,256,256), ...,(3,256,256)]\n",
        "\n",
        "但應該是存放 80 個元素的 list，其中這些元素都是一個叫 image 的 list，裡面存放 22 個大小為 (3, 256, 256) 切片影像，這樣才方便進行後續的 2D CNN 訓練。\n",
        "\n",
        "2DDataset = [image, image, ..., image], image = [(3,256,256), (3,256,256), ...,(3,256,256)]"
      ],
      "metadata": {
        "id": "5Y994ah1LwMs"
      }
    },
    {
      "cell_type": "code",
      "source": [
        "class MRI2DDataset(Dataset):\n",
        "    def __init__(self, df, mode = None, transforms = None):\n",
        "\n",
        "        root = '/kaggle/'\n",
        "        self.ids = np.array(df[\"ID\"])\n",
        "        self.labels = torch.from_numpy(np.array(df[\"Disease\"]))\n",
        "        self.mode = mode\n",
        "        self.transforms = transforms\n",
        "\n",
        "        paths = []\n",
        "        for ID in np.array(df[\"ID\"]):\n",
        "            path = os.path.join(root, \"DICOM\", str(ID).split('.')[0].zfill(7))\n",
        "            paths.append(path)\n",
        "\n",
        "        self.images = []\n",
        "\n",
        "        for path in tqdm(paths):\n",
        "            all_slices = []\n",
        "            T1_root = os.path.join(root, \"DICOM\", path, \"T1\")\n",
        "            for filename in sorted(os.listdir(T1_root), key = lambda s: int(pydicom.dcmread(os.path.join(T1_root, s)).InstanceNumber)):\n",
        "                T1_image = []\n",
        "                T2_image = []\n",
        "\n",
        "                # T1 images\n",
        "                img = pydicom.dcmread(os.path.join(T1_root, filename))\n",
        "                ww = img.WindowWidth\n",
        "                wc = img.WindowCenter\n",
        "                highest_visible_value = (ww + 2 * wc) / 2\n",
        "                lowest_visible_value = highest_visible_value - ww\n",
        "\n",
        "                img = img.pixel_array\n",
        "                img = np.clip(img, lowest_visible_value, highest_visible_value)\n",
        "                img = 255 * (img - lowest_visible_value) / ww\n",
        "                img = cv2.resize(img, (256, 256))\n",
        "\n",
        "                T1_image.append(img)\n",
        "\n",
        "                # T2 images (對比度調整)\n",
        "                img = pydicom.dcmread(os.path.join(root, \"DICOM\", path, \"T2\", filename))\n",
        "                ww = img.WindowWidth\n",
        "                wc = img.WindowCenter\n",
        "                highest_visible_value = (ww + 2 * wc) / 2\n",
        "                lowest_visible_value = highest_visible_value - ww\n",
        "\n",
        "                img = img.pixel_array\n",
        "                img = np.clip(img, lowest_visible_value, highest_visible_value)\n",
        "                img = 255 * (img - lowest_visible_value) / ww\n",
        "                img = cv2.resize(img, (256, 256))   ##避免記憶體不足所以轉成512\n",
        "\n",
        "                T2_image.append(img)\n",
        "\n",
        "                # T1T2 images\n",
        "                T1T2_image = (T1_image[0] + T2_image[0]) / 2\n",
        "                T1T2_image = torch.tensor(T1T2_image)\n",
        "\n",
        "                T1_image = torch.tensor(T1_image[0])\n",
        "                T2_image = torch.tensor(T2_image[0])\n",
        "\n",
        "                all_slices.append(torch.stack((T1_image, T2_image, T1T2_image), dim = 0))\n",
        "\n",
        "            slices = torch.stack(all_slices, dim = 1)\n",
        "\n",
        "            if self.transforms:\n",
        "                slices = self.transforms(slices)\n",
        "\n",
        "            # 這邊有修改\n",
        "            image = []\n",
        "            for i in range(len(slices)):\n",
        "                image.append(slices[i].squeeze().float())\n",
        "            self.images.append(image)\n",
        "\n",
        "\n",
        "    def __getitem__(self, index):\n",
        "\n",
        "        if self.mode == \"train\":\n",
        "\n",
        "            images = self.images[index]\n",
        "            label = self.labels[index]\n",
        "\n",
        "            return images, label\n",
        "\n",
        "        elif self.mode == \"valid\":\n",
        "\n",
        "            images = self.images[index]\n",
        "            label = self.labels[index]\n",
        "\n",
        "            return images, label\n",
        "\n",
        "        elif self.mode == \"test\":\n",
        "\n",
        "            images = self.images[index]\n",
        "\n",
        "            return images\n",
        "\n",
        "    def __len__(self):\n",
        "        return(len(self.ids))"
      ],
      "metadata": {
        "trusted": true,
        "execution": {
          "iopub.status.busy": "2024-11-04T07:12:18.367848Z",
          "iopub.execute_input": "2024-11-04T07:12:18.368602Z",
          "iopub.status.idle": "2024-11-04T07:12:18.388095Z",
          "shell.execute_reply.started": "2024-11-04T07:12:18.368562Z",
          "shell.execute_reply": "2024-11-04T07:12:18.387140Z"
        },
        "id": "DHzB8b4GLwMs"
      },
      "outputs": [],
      "execution_count": null
    },
    {
      "cell_type": "code",
      "source": [
        "root = '/kaggle/'\n",
        "#train_data = pd.read_csv(os.path.join(root, \"train.csv\"))\n",
        "df = pd.read_csv(\"train.csv\")\n",
        "dataset_2D = MRI2DDataset(df = df, mode = \"train\",transforms = build_transform(True))\n",
        "\n",
        "print(len(dataset_2D))\n",
        "print(len(dataset_2D[0])) # dataset_2D[0]是一個tuple: ([(3, 256, 256), ...,(3, 256, 256)], label)\n",
        "print(len(dataset_2D[0][0])) # dataset_2D[0][0] 則是 [(3, 256, 256), ...,(3, 256, 256)]\n",
        "print(dataset_2D[0][0][0].shape) # dataset_2D[0][0][0] 則是 (3, 256, 256)\n",
        "\n",
        "# 使用 del 刪除不需要的變數，以釋放出這些變數佔用的 CPU 記憶體。當變數被 del 刪除後，Python 會標記這些記憶體為可回收狀態。\n",
        "del dataset_2D\n",
        "# 強制回收內存\n",
        "gc.collect()"
      ],
      "metadata": {
        "trusted": true,
        "execution": {
          "iopub.status.busy": "2024-11-04T07:12:18.912201Z",
          "iopub.execute_input": "2024-11-04T07:12:18.912870Z",
          "iopub.status.idle": "2024-11-04T07:13:22.319913Z",
          "shell.execute_reply.started": "2024-11-04T07:12:18.912830Z",
          "shell.execute_reply": "2024-11-04T07:13:22.318988Z"
        },
        "id": "1nHUZDwwLwMt",
        "outputId": "f6b05587-a175-4a71-97af-927a36c2ec51",
        "colab": {
          "base_uri": "https://localhost:8080/"
        }
      },
      "outputs": [
        {
          "output_type": "stream",
          "name": "stderr",
          "text": [
            "100%|██████████| 80/80 [00:19<00:00,  4.09it/s]\n"
          ]
        },
        {
          "output_type": "stream",
          "name": "stdout",
          "text": [
            "80\n",
            "2\n",
            "22\n",
            "torch.Size([3, 256, 256])\n"
          ]
        },
        {
          "output_type": "execute_result",
          "data": {
            "text/plain": [
              "0"
            ]
          },
          "metadata": {},
          "execution_count": 15
        }
      ],
      "execution_count": null
    },
    {
      "cell_type": "markdown",
      "source": [
        "## Late Fusion"
      ],
      "metadata": {
        "id": "GXNwnrDmLwMt"
      }
    },
    {
      "cell_type": "code",
      "source": [
        "class config:\n",
        "\n",
        "    root = '/kaggle/'\n",
        "    valid_prob = 0.2\n",
        "    batch_size = 4\n",
        "    lr = 1e-3\n",
        "    epochs = 17\n",
        "    weight_decay = 1e-3\n",
        "    device = torch.device(\"cuda\" if torch.cuda.is_available() else \"cpu\")\n",
        "    seed = 2024\n",
        "\n",
        "print(config.device)"
      ],
      "metadata": {
        "trusted": true,
        "execution": {
          "iopub.status.busy": "2024-11-04T07:13:22.321761Z",
          "iopub.execute_input": "2024-11-04T07:13:22.322159Z",
          "iopub.status.idle": "2024-11-04T07:13:22.363341Z",
          "shell.execute_reply.started": "2024-11-04T07:13:22.322100Z",
          "shell.execute_reply": "2024-11-04T07:13:22.362426Z"
        },
        "id": "oAqulEXXLwMt",
        "outputId": "79bd81e4-98d4-4895-9ffc-1da4854cebff",
        "colab": {
          "base_uri": "https://localhost:8080/"
        }
      },
      "outputs": [
        {
          "output_type": "stream",
          "name": "stdout",
          "text": [
            "cuda\n"
          ]
        }
      ],
      "execution_count": null
    },
    {
      "cell_type": "markdown",
      "source": [
        "### Late fusion model"
      ],
      "metadata": {
        "execution": {
          "iopub.status.busy": "2024-11-01T02:44:20.278505Z",
          "iopub.execute_input": "2024-11-01T02:44:20.278984Z",
          "iopub.status.idle": "2024-11-01T02:44:20.284563Z",
          "shell.execute_reply.started": "2024-11-01T02:44:20.278935Z",
          "shell.execute_reply": "2024-11-01T02:44:20.283267Z"
        },
        "id": "OgfAr5umLwMt"
      }
    },
    {
      "cell_type": "code",
      "source": [
        "# 下方的 Late fusion 是基於這個 VGG16 的 pretrained model 進行修改，Early fusion 和 Single Slice也可用此修改。\n",
        "vgg16 = models.vgg16(weights='IMAGENET1K_V1', progress = True)\n",
        "print(vgg16)\n",
        "del vgg16"
      ],
      "metadata": {
        "trusted": true,
        "execution": {
          "iopub.status.busy": "2024-11-04T07:13:22.364556Z",
          "iopub.execute_input": "2024-11-04T07:13:22.364871Z",
          "iopub.status.idle": "2024-11-04T07:13:26.302743Z",
          "shell.execute_reply.started": "2024-11-04T07:13:22.364837Z",
          "shell.execute_reply": "2024-11-04T07:13:26.301766Z"
        },
        "id": "Ini-rysGLwMu",
        "outputId": "43a01345-d19e-411a-ed36-5eefa56ffbca",
        "colab": {
          "base_uri": "https://localhost:8080/"
        }
      },
      "outputs": [
        {
          "output_type": "stream",
          "name": "stderr",
          "text": [
            "Downloading: \"https://download.pytorch.org/models/vgg16-397923af.pth\" to /root/.cache/torch/hub/checkpoints/vgg16-397923af.pth\n",
            "100%|██████████| 528M/528M [00:02<00:00, 230MB/s]\n"
          ]
        },
        {
          "output_type": "stream",
          "name": "stdout",
          "text": [
            "VGG(\n",
            "  (features): Sequential(\n",
            "    (0): Conv2d(3, 64, kernel_size=(3, 3), stride=(1, 1), padding=(1, 1))\n",
            "    (1): ReLU(inplace=True)\n",
            "    (2): Conv2d(64, 64, kernel_size=(3, 3), stride=(1, 1), padding=(1, 1))\n",
            "    (3): ReLU(inplace=True)\n",
            "    (4): MaxPool2d(kernel_size=2, stride=2, padding=0, dilation=1, ceil_mode=False)\n",
            "    (5): Conv2d(64, 128, kernel_size=(3, 3), stride=(1, 1), padding=(1, 1))\n",
            "    (6): ReLU(inplace=True)\n",
            "    (7): Conv2d(128, 128, kernel_size=(3, 3), stride=(1, 1), padding=(1, 1))\n",
            "    (8): ReLU(inplace=True)\n",
            "    (9): MaxPool2d(kernel_size=2, stride=2, padding=0, dilation=1, ceil_mode=False)\n",
            "    (10): Conv2d(128, 256, kernel_size=(3, 3), stride=(1, 1), padding=(1, 1))\n",
            "    (11): ReLU(inplace=True)\n",
            "    (12): Conv2d(256, 256, kernel_size=(3, 3), stride=(1, 1), padding=(1, 1))\n",
            "    (13): ReLU(inplace=True)\n",
            "    (14): Conv2d(256, 256, kernel_size=(3, 3), stride=(1, 1), padding=(1, 1))\n",
            "    (15): ReLU(inplace=True)\n",
            "    (16): MaxPool2d(kernel_size=2, stride=2, padding=0, dilation=1, ceil_mode=False)\n",
            "    (17): Conv2d(256, 512, kernel_size=(3, 3), stride=(1, 1), padding=(1, 1))\n",
            "    (18): ReLU(inplace=True)\n",
            "    (19): Conv2d(512, 512, kernel_size=(3, 3), stride=(1, 1), padding=(1, 1))\n",
            "    (20): ReLU(inplace=True)\n",
            "    (21): Conv2d(512, 512, kernel_size=(3, 3), stride=(1, 1), padding=(1, 1))\n",
            "    (22): ReLU(inplace=True)\n",
            "    (23): MaxPool2d(kernel_size=2, stride=2, padding=0, dilation=1, ceil_mode=False)\n",
            "    (24): Conv2d(512, 512, kernel_size=(3, 3), stride=(1, 1), padding=(1, 1))\n",
            "    (25): ReLU(inplace=True)\n",
            "    (26): Conv2d(512, 512, kernel_size=(3, 3), stride=(1, 1), padding=(1, 1))\n",
            "    (27): ReLU(inplace=True)\n",
            "    (28): Conv2d(512, 512, kernel_size=(3, 3), stride=(1, 1), padding=(1, 1))\n",
            "    (29): ReLU(inplace=True)\n",
            "    (30): MaxPool2d(kernel_size=2, stride=2, padding=0, dilation=1, ceil_mode=False)\n",
            "  )\n",
            "  (avgpool): AdaptiveAvgPool2d(output_size=(7, 7))\n",
            "  (classifier): Sequential(\n",
            "    (0): Linear(in_features=25088, out_features=4096, bias=True)\n",
            "    (1): ReLU(inplace=True)\n",
            "    (2): Dropout(p=0.5, inplace=False)\n",
            "    (3): Linear(in_features=4096, out_features=4096, bias=True)\n",
            "    (4): ReLU(inplace=True)\n",
            "    (5): Dropout(p=0.5, inplace=False)\n",
            "    (6): Linear(in_features=4096, out_features=1000, bias=True)\n",
            "  )\n",
            ")\n"
          ]
        }
      ],
      "execution_count": null
    },
    {
      "cell_type": "markdown",
      "source": [
        "所謂 Late Fusion 是指將 n 張 2D 影像分別提取特徵，得到 n 個特徵圖後在後期融合，而做法分成兩種：**with FC layers, with pooling**。\n",
        "\n",
        "* **Late Fusion:**\n",
        "\n",
        "\n",
        "首先對每個切片（slice）使用 2D CNN 提取特徵，然後將提取的特徵拼接起來然後攤平，接著將攤平完的結果直接輸入到 classifier 中的線性層（Linear）。"
      ],
      "metadata": {
        "id": "-2syHgU3LwMu"
      }
    },
    {
      "cell_type": "code",
      "source": [
        "##3*3\n",
        "class Late_fusion(nn.Module):\n",
        "    def __init__(self, num_classes, input_size = (3, 256, 256), features_grad = False): #features_grad=True每次提取參數會更新\n",
        "        super().__init__()\n",
        "\n",
        "        # 取出vgg16中的特徵層\n",
        "        vgg16 = models.vgg16(weights='IMAGENET1K_V1', progress = True)\n",
        "\n",
        "        # 將 VGG16 的 classifier 層替換為 nn.Identity()，丟棄預設的分類層。\n",
        "        vgg16.classifier = nn.Identity()\n",
        "\n",
        "        # 可調整 feature map 的大小，可以改變參數量，但注意到會影響分類層\n",
        "        vgg16.avgpool = nn.AdaptiveAvgPool2d(output_size=(3,3))\n",
        "\n",
        "        # 固定/不固定特徵層的參數值\n",
        "        # 若 features_grad 設置為 FALSE，使用預訓練的 VGG16 特徵參數值，表示在訓練時參數將不會被更新\n",
        "        # 若 features_grad 設置為 True，將利用預訓練的權重作為起點，然後讓模型根據本次的資料集進行調整。\n",
        "        for param in vgg16.features.parameters():\n",
        "            param.requires_grad = features_grad\n",
        "\n",
        "        self.backend = vgg16\n",
        "\n",
        "        feature_dim = 512 * 3 * 3 * 22\n",
        "\n",
        "        # vgg16 最後一層通過 avgpool 後，每張 2D影像產生一個 (512, 7, 7) 的 feature map，共 22 個\n",
        "        # 另外我們會對 22 張 feature map 進行拼接再攤平，得到一個長度為 512 * 22 * 7 * 7 的特徵向量\n",
        "\n",
        "        # 增加分類層\n",
        "        self.classifier = nn.Sequential(\n",
        "          nn.Linear(512 * 3 * 3 * 22, num_classes)   ##用vgg16.avgpool = nn.AdaptiveAvgPool2d(output_size=(,))通道會改\n",
        "        )\n",
        "\n",
        "    # 在 PyTorch 中，forward 函數在 nn.Module 類的子類中是用來定義模型前向傳播過程的函數。這個函數描述了當 input 輸入模型時，如何一步一步地經過各層，最後輸出 outputs。\n",
        "    def forward(self, x): # x: 22 個 (batch_size, 3, 256, 256) 的 list\n",
        "\n",
        "        feature_map_list = []\n",
        "        for i in range(len(x)):\n",
        "            feature_map_list.append(self.backend(x[i]))\n",
        "        feature_map_concentrate = torch.cat(feature_map_list, dim=1)  # shape: (batch_size, 512 * 22, 7, 7)\n",
        "        feature_map_concentrate = feature_map_concentrate.view(feature_map_concentrate.size(0), -1)  # shape: (batch_size, 512 * 22 * 7 * 7)\n",
        "        outputs = self.classifier(feature_map_concentrate)\n",
        "\n",
        "        return outputs"
      ],
      "metadata": {
        "id": "OKcJHnNSomHZ"
      },
      "execution_count": null,
      "outputs": []
    },
    {
      "cell_type": "markdown",
      "source": [
        "以下是對 Late fusion model 的 foward 函數進行解釋\n",
        "\n",
        "給定 batch size 為 8， channels 為 3，2D 影像 H, W 則為 256\n",
        "\n",
        "- **輸入x**\n",
        "\n",
        "`x` 是一個長度為 22 的 list，包含 22 張 2D 切片影像張量，每個張量的大小為 (8, 3, 256, 256)，一個batch處理8個病患資料。\n",
        "\n",
        "`x`: [(8, 3, 256, 256), (8, 3, 256, 256), ...,(8, 3, 256, 256)]\n",
        "\n",
        "- **特徵提取（`self.backend(x[i])`）**\n",
        "\n",
        "在 for 迴圈中，`x[i]`是第i個切片影像張量，大小為 (8, 3, 256, 256)，其中包含8個病人的資料，透過`backend`進行特徵提取。`x[i]` 經過 VGG16 特徵提取後，得到的 feature map 大小為 (8, 512, 7, 7)，512 是 VGG16 特徵提取層的輸出通道數，7 x 7 是透過 avgpool 得到的 H, W。再將 22 個 feature map 依序儲存到 `feature_map_list`。\n",
        "    \n",
        "`feature_map_list`: [(8, 512, 7, 7), (8, 512, 7, 7), ...,(8, 512, 7, 7)]\n",
        "    \n",
        "- **特徵拼接（`torch.cat(feature_map_list, dim = 1)`）**\n",
        "\n",
        "將 feature_map_list 中的所有 feature map 沿著第二維度（通道）拼接，即 dim=1。最後拼接完的特徵張量為 `feature_map_concentrate` ，它的形狀為 (8, 512 x 22 , 7, 7)。\n",
        "\n",
        "- **特徵攤平（`feature_map_concentrate.view(feature_map_concentrate.size(0), -1)`）**\n",
        "\n",
        "將 feature_map_concentrate 攤平成二維張量，形狀為 (8, 512 x 22 x 7 x 7)。\n",
        "    \n",
        "- **通過分類層進行分類（`self.classifier(feature_map_concentrate)`）**\n",
        "\n",
        "將拼接完、大小為 (8, 551936) 的特徵張量輸入到 `classifier` 來分類，會輸出一個大小為 (8,2) 的 logits `outputs`。\n",
        "\n",
        "Hint: 不需要做 Softmax ，因為我們在用`nn.CrossEntropyLoss()`計算損失函數時，便會使用 Softmax。"
      ],
      "metadata": {
        "id": "fb3YDKbyLwMu"
      }
    },
    {
      "cell_type": "code",
      "source": [
        "model_late = Late_fusion(num_classes = 2)\n",
        "print(model_late)"
      ],
      "metadata": {
        "trusted": true,
        "execution": {
          "iopub.status.busy": "2024-11-04T07:13:26.316810Z",
          "iopub.execute_input": "2024-11-04T07:13:26.317195Z",
          "iopub.status.idle": "2024-11-04T07:13:27.388908Z",
          "shell.execute_reply.started": "2024-11-04T07:13:26.317150Z",
          "shell.execute_reply": "2024-11-04T07:13:27.387832Z"
        },
        "id": "kIQ2c1-oLwMv",
        "outputId": "8fd4b3f1-1c59-4a42-9d81-126399a1bf4e",
        "colab": {
          "base_uri": "https://localhost:8080/"
        }
      },
      "outputs": [
        {
          "output_type": "stream",
          "name": "stdout",
          "text": [
            "Late_fusion(\n",
            "  (backend): VGG(\n",
            "    (features): Sequential(\n",
            "      (0): Conv2d(3, 64, kernel_size=(3, 3), stride=(1, 1), padding=(1, 1))\n",
            "      (1): ReLU(inplace=True)\n",
            "      (2): Conv2d(64, 64, kernel_size=(3, 3), stride=(1, 1), padding=(1, 1))\n",
            "      (3): ReLU(inplace=True)\n",
            "      (4): MaxPool2d(kernel_size=2, stride=2, padding=0, dilation=1, ceil_mode=False)\n",
            "      (5): Conv2d(64, 128, kernel_size=(3, 3), stride=(1, 1), padding=(1, 1))\n",
            "      (6): ReLU(inplace=True)\n",
            "      (7): Conv2d(128, 128, kernel_size=(3, 3), stride=(1, 1), padding=(1, 1))\n",
            "      (8): ReLU(inplace=True)\n",
            "      (9): MaxPool2d(kernel_size=2, stride=2, padding=0, dilation=1, ceil_mode=False)\n",
            "      (10): Conv2d(128, 256, kernel_size=(3, 3), stride=(1, 1), padding=(1, 1))\n",
            "      (11): ReLU(inplace=True)\n",
            "      (12): Conv2d(256, 256, kernel_size=(3, 3), stride=(1, 1), padding=(1, 1))\n",
            "      (13): ReLU(inplace=True)\n",
            "      (14): Conv2d(256, 256, kernel_size=(3, 3), stride=(1, 1), padding=(1, 1))\n",
            "      (15): ReLU(inplace=True)\n",
            "      (16): MaxPool2d(kernel_size=2, stride=2, padding=0, dilation=1, ceil_mode=False)\n",
            "      (17): Conv2d(256, 512, kernel_size=(3, 3), stride=(1, 1), padding=(1, 1))\n",
            "      (18): ReLU(inplace=True)\n",
            "      (19): Conv2d(512, 512, kernel_size=(3, 3), stride=(1, 1), padding=(1, 1))\n",
            "      (20): ReLU(inplace=True)\n",
            "      (21): Conv2d(512, 512, kernel_size=(3, 3), stride=(1, 1), padding=(1, 1))\n",
            "      (22): ReLU(inplace=True)\n",
            "      (23): MaxPool2d(kernel_size=2, stride=2, padding=0, dilation=1, ceil_mode=False)\n",
            "      (24): Conv2d(512, 512, kernel_size=(3, 3), stride=(1, 1), padding=(1, 1))\n",
            "      (25): ReLU(inplace=True)\n",
            "      (26): Conv2d(512, 512, kernel_size=(3, 3), stride=(1, 1), padding=(1, 1))\n",
            "      (27): ReLU(inplace=True)\n",
            "      (28): Conv2d(512, 512, kernel_size=(3, 3), stride=(1, 1), padding=(1, 1))\n",
            "      (29): ReLU(inplace=True)\n",
            "      (30): MaxPool2d(kernel_size=2, stride=2, padding=0, dilation=1, ceil_mode=False)\n",
            "    )\n",
            "    (avgpool): AdaptiveAvgPool2d(output_size=(3, 3))\n",
            "    (classifier): Identity()\n",
            "  )\n",
            "  (classifier): Sequential(\n",
            "    (0): Linear(in_features=101376, out_features=2, bias=True)\n",
            "  )\n",
            ")\n"
          ]
        }
      ],
      "execution_count": null
    },
    {
      "cell_type": "markdown",
      "source": [
        "### Parameters of Late fusion model"
      ],
      "metadata": {
        "id": "nupUDe6tLwMv"
      }
    },
    {
      "cell_type": "code",
      "source": [
        "total_params = sum(p.numel() for p in model_late.parameters())\n",
        "print(\"總參數量:\", total_params)"
      ],
      "metadata": {
        "trusted": true,
        "execution": {
          "iopub.status.busy": "2024-11-04T07:13:27.390275Z",
          "iopub.execute_input": "2024-11-04T07:13:27.390696Z",
          "iopub.status.idle": "2024-11-04T07:13:27.396503Z",
          "shell.execute_reply.started": "2024-11-04T07:13:27.390660Z",
          "shell.execute_reply": "2024-11-04T07:13:27.395536Z"
        },
        "id": "nPvn-yc7LwMv",
        "outputId": "cc350d01-f2b7-4d16-e68f-8217848608ba",
        "colab": {
          "base_uri": "https://localhost:8080/"
        }
      },
      "outputs": [
        {
          "output_type": "stream",
          "name": "stdout",
          "text": [
            "總參數量: 14917442\n"
          ]
        }
      ],
      "execution_count": null
    },
    {
      "cell_type": "markdown",
      "source": [
        "### Late fusion 模型測試"
      ],
      "metadata": {
        "id": "h68ky8DMLwMv"
      }
    },
    {
      "cell_type": "code",
      "source": [
        "# 隨機生成一個 batch size 為 4 、切片大小為（3, 256, 256）的 3D image\n",
        "x = [torch.randn(4,3,256,256) for _ in range(22)] # x: [(4,3,256,256),...,(4,3,256,256)]\n",
        "output = model_late(x)\n",
        "print(output, output.shape)\n",
        "# 如果輸出一個大小為 torch.Size([4,2]) 的張量，表示測試通過\n",
        "del model_late\n",
        "gc.collect()"
      ],
      "metadata": {
        "trusted": true,
        "execution": {
          "iopub.status.busy": "2024-11-04T07:13:27.397831Z",
          "iopub.execute_input": "2024-11-04T07:13:27.398186Z",
          "iopub.status.idle": "2024-11-04T07:13:46.915983Z",
          "shell.execute_reply.started": "2024-11-04T07:13:27.398119Z",
          "shell.execute_reply": "2024-11-04T07:13:46.915014Z"
        },
        "id": "y-Jnm4lzLwMv",
        "outputId": "1de72469-031b-4e16-e991-0027b56f08cd",
        "colab": {
          "base_uri": "https://localhost:8080/"
        }
      },
      "outputs": [
        {
          "output_type": "stream",
          "name": "stdout",
          "text": [
            "tensor([[ 0.0500, -0.1527],\n",
            "        [-0.0746, -0.0125],\n",
            "        [ 0.0748, -0.0381],\n",
            "        [ 0.1137, -0.0402]], grad_fn=<AddmmBackward0>) torch.Size([4, 2])\n"
          ]
        },
        {
          "output_type": "execute_result",
          "data": {
            "text/plain": [
              "36"
            ]
          },
          "metadata": {},
          "execution_count": 26
        }
      ],
      "execution_count": null
    },
    {
      "cell_type": "markdown",
      "source": [
        "### Late fusion main"
      ],
      "metadata": {
        "id": "CnXdeiPlLwMw"
      }
    },
    {
      "cell_type": "code",
      "source": [
        "####改成3*3\n",
        "def main():\n",
        "\n",
        "    seed_everything(config.seed)\n",
        "\n",
        "    #df = pd.read_csv(os.path.join(config.root, \"train.csv\"))\n",
        "    df = pd.read_csv(\"train.csv\")\n",
        "    # split training & validation dataset\n",
        "    n = df.shape[0]\n",
        "    valid_size = int(n * config.valid_prob)\n",
        "    train_ids , valid_ids = train_test_split(\n",
        "     np.linspace(0, n - 1, n).astype(\"int\"),\n",
        "     test_size = valid_size,\n",
        "     random_state = config.seed,\n",
        "    )\n",
        "\n",
        "    print(\"Initializing dataset...\")\n",
        "    train_df = df.iloc[train_ids]\n",
        "    valid_df = df.iloc[valid_ids]\n",
        "    train_dataset = MRI2DDataset(train_df, mode = \"train\",transforms = build_transform(True))\n",
        "    valid_dataset = MRI2DDataset(valid_df, mode = \"valid\",transforms = build_transform(False))\n",
        "\n",
        "\n",
        "    # DataLoader\n",
        "    train_loader = torch.utils.data.DataLoader(train_dataset, batch_size=config.batch_size, shuffle=True)\n",
        "    valid_loader = torch.utils.data.DataLoader(valid_dataset, batch_size=config.batch_size, shuffle=False)\n",
        "\n",
        "\n",
        "    # settings\n",
        "    print(\"Initializing model...\")\n",
        "    num_classes = 2\n",
        "    print('num_classes',num_classes)\n",
        "    model_late = Late_fusion(num_classes = num_classes, features_grad = True)\n",
        "    model_late.to(config.device)\n",
        "\n",
        "    # 散則適當的criterion, optimizer\n",
        "    criterion = nn.CrossEntropyLoss().to(config.device)\n",
        "    optimizer = torch.optim.Adam(model_late.parameters(), lr = config.lr, weight_decay = config.weight_decay)\n",
        "    # 以 epoch 為單位來更新學習率\n",
        "    #scheduler = torch.optim.lr_scheduler.StepLR(optimizer, step_size=12, gamma=0.1)\n",
        "    # 以 batch 為單位來更新學習率\n",
        "    scheduler = torch.optim.lr_scheduler.OneCycleLR(\n",
        "        optimizer = optimizer,\n",
        "        epochs = config.epochs,\n",
        "        steps_per_epoch = train_loader.__len__(),\n",
        "        max_lr = config.lr,\n",
        "         anneal_strategy = 'cos'\n",
        "    )\n",
        "\n",
        "    # recordings\n",
        "    best_val_loss = float(\"inf\")\n",
        "    history = {\n",
        "      \"train\": {\n",
        "          \"loss\": [],\n",
        "          \"acc\": [],\n",
        "          \"f1\": []\n",
        "      },\n",
        "      \"valid\": {\n",
        "          \"loss\": [],\n",
        "          \"acc\": [],\n",
        "          \"f1\": []\n",
        "      },\n",
        "    }\n",
        "\n",
        "    print(\"Start training!\")\n",
        "    for epoch in range(config.epochs):\n",
        "        train_loss, train_acc, train_f1 = train_one_epoch(model_late, train_loader, optimizer, scheduler, criterion, config.device)\n",
        "        valid_loss, valid_acc, valid_f1 = validation(model_late, valid_loader, criterion, config.device)\n",
        "\n",
        "        # Log the loss and validation result\n",
        "        history[\"train\"][\"loss\"].append(train_loss)\n",
        "        history[\"train\"][\"acc\"].append(train_acc)\n",
        "        history[\"train\"][\"f1\"].append(train_f1)\n",
        "        history[\"valid\"][\"loss\"].append(valid_loss)\n",
        "        history[\"valid\"][\"acc\"].append(valid_acc)\n",
        "        history[\"valid\"][\"f1\"].append(valid_f1)\n",
        "\n",
        "        print(f'Epoch[{epoch+1}/{config.epochs}], Train Loss: {train_loss:.4f}, Train Accuracy: {train_acc:.2f}%, Train F1: {train_f1:.2f}% | Valid Loss: {valid_loss:.4f}, Valid Accuracy: {valid_acc:.2f}%, Valid F1: {valid_f1:.2f}% | LR: {optimizer.state_dict()[\"param_groups\"][0][\"lr\"]:.6f}')\n",
        "        # 更新學習率調度器\n",
        "        scheduler.step(valid_loss)\n",
        "        if valid_loss < best_val_loss:\n",
        "            save_file = {\n",
        "                \"model\": model_late.state_dict(),\n",
        "                \"optimizer\": optimizer.state_dict(),\n",
        "                \"scheduler\": scheduler.state_dict(),\n",
        "                \"epoch\": epoch,\n",
        "                \"args\": config\n",
        "            }\n",
        "            best_val_loss = valid_loss\n",
        "            torch.save(save_file, \"checkpoint_Late.pth\")\n",
        "\n",
        "        best_ckpt = torch.load(\"checkpoint_Late.pth\", map_location=config.device)\n",
        "        model_late.load_state_dict(best_ckpt[\"model\"])\n",
        "\n",
        "    valid_loss, valid_acc, valid_f1 = validation(model_late, valid_loader, criterion, config.device)\n",
        "    print(\"*\"*10, \" Validation \", \"*\"*10)\n",
        "    print(f\"Valid Loss: {valid_loss:.4f}, Valid Accuracy: {valid_acc:.2f}%, Valid F1: {valid_f1:.2f}%\")\n",
        "\n",
        "    del train_loader #避免記憶體不足\n",
        "    del valid_loader\n",
        "    del train_dataset\n",
        "    del valid_dataset\n",
        "    gc.collect()\n",
        "    # 用於釋放 CUDA GPU 的顯存\n",
        "    torch.cuda.empty_cache()\n",
        "\n",
        "    plt.figure(figsize=(12, 5))\n",
        "    plt.subplot(1, 2, 1)\n",
        "    plt.plot(range(config.epochs), history[\"train\"][\"loss\"], label='Training Loss')\n",
        "    plt.plot(range(config.epochs), history[\"valid\"][\"loss\"], label='Validation Loss')\n",
        "    plt.xlabel('Epoch')\n",
        "    plt.ylabel('Loss')\n",
        "    plt.legend()\n",
        "    plt.title('Training and Validation Loss Curves')\n",
        "    plt.show()\n",
        "\n",
        "    plt.figure(figsize=(12, 5))\n",
        "    plt.subplot(1, 2, 1)\n",
        "    plt.plot(range(config.epochs), history[\"train\"][\"acc\"], label='Training Acc')\n",
        "    plt.plot(range(config.epochs), history[\"valid\"][\"acc\"], label='Validation Acc')\n",
        "    plt.xlabel('Epoch')\n",
        "    plt.ylabel('ACC')\n",
        "    plt.legend()\n",
        "    plt.title('Training and Validation Accuracy Curves')\n",
        "    plt.show()\n",
        "\n",
        "    plt.figure(figsize=(12, 5))\n",
        "    plt.subplot(1, 2, 1)\n",
        "    plt.plot(range(config.epochs), history[\"train\"][\"f1\"], label='Training F1')\n",
        "    plt.plot(range(config.epochs), history[\"valid\"][\"f1\"], label='Validation F1')\n",
        "    plt.xlabel('Epoch')\n",
        "    plt.ylabel('F1')\n",
        "    plt.legend()\n",
        "    plt.title('Training and Validation F1 Score Curves')\n",
        "    plt.show()\n",
        "\n",
        "if __name__ == \"__main__\":\n",
        "    main()"
      ],
      "metadata": {
        "colab": {
          "base_uri": "https://localhost:8080/",
          "height": 1000
        },
        "id": "0cfAThNE6PeS",
        "outputId": "9ebb5c16-6efd-426e-8a25-212911ac483d"
      },
      "execution_count": null,
      "outputs": [
        {
          "output_type": "stream",
          "name": "stdout",
          "text": [
            "Initializing dataset...\n"
          ]
        },
        {
          "output_type": "stream",
          "name": "stderr",
          "text": [
            "100%|██████████| 64/64 [00:12<00:00,  4.92it/s]\n",
            "100%|██████████| 16/16 [00:03<00:00,  4.79it/s]\n"
          ]
        },
        {
          "output_type": "stream",
          "name": "stdout",
          "text": [
            "Initializing model...\n",
            "num_classes 2\n",
            "Start training!\n",
            "Epoch[1/17], Train Loss: 7.3096, Train Accuracy: 53.12%, Train F1: 52.38% | Valid Loss: 2.5023, Valid Accuracy: 37.50%, Valid F1: 27.27% | LR: 0.000040\n",
            "Epoch[2/17], Train Loss: 0.3537, Train Accuracy: 85.94%, Train F1: 85.93% | Valid Loss: 0.6768, Valid Accuracy: 43.75%, Valid F1: 41.70% | LR: 0.000044\n",
            "Epoch[3/17], Train Loss: 0.2120, Train Accuracy: 92.19%, Train F1: 92.09% | Valid Loss: 0.4142, Valid Accuracy: 81.25%, Valid F1: 79.22% | LR: 0.000041\n",
            "Epoch[4/17], Train Loss: 0.1135, Train Accuracy: 98.44%, Train F1: 98.43% | Valid Loss: 0.8218, Valid Accuracy: 56.25%, Valid F1: 54.66% | LR: 0.000041\n",
            "Epoch[5/17], Train Loss: 0.0870, Train Accuracy: 98.44%, Train F1: 98.43% | Valid Loss: 0.5648, Valid Accuracy: 68.75%, Valid F1: 68.63% | LR: 0.000041\n",
            "Epoch[6/17], Train Loss: 0.0724, Train Accuracy: 98.44%, Train F1: 98.43% | Valid Loss: 0.5732, Valid Accuracy: 62.50%, Valid F1: 62.50% | LR: 0.000041\n",
            "Epoch[7/17], Train Loss: 0.0706, Train Accuracy: 98.44%, Train F1: 98.43% | Valid Loss: 0.4301, Valid Accuracy: 75.00%, Valid F1: 74.60% | LR: 0.000041\n",
            "Epoch[8/17], Train Loss: 0.0719, Train Accuracy: 100.00%, Train F1: 100.00% | Valid Loss: 0.6058, Valid Accuracy: 56.25%, Valid F1: 56.08% | LR: 0.000041\n",
            "Epoch[9/17], Train Loss: 0.0601, Train Accuracy: 100.00%, Train F1: 100.00% | Valid Loss: 0.4662, Valid Accuracy: 68.75%, Valid F1: 68.63% | LR: 0.000041\n",
            "Epoch[10/17], Train Loss: 0.0688, Train Accuracy: 100.00%, Train F1: 100.00% | Valid Loss: 0.4847, Valid Accuracy: 75.00%, Valid F1: 75.00% | LR: 0.000041\n",
            "Epoch[11/17], Train Loss: 0.0664, Train Accuracy: 100.00%, Train F1: 100.00% | Valid Loss: 0.4207, Valid Accuracy: 75.00%, Valid F1: 74.60% | LR: 0.000041\n",
            "Epoch[12/17], Train Loss: 0.0655, Train Accuracy: 100.00%, Train F1: 100.00% | Valid Loss: 0.3351, Valid Accuracy: 81.25%, Valid F1: 80.57% | LR: 0.000041\n",
            "Epoch[13/17], Train Loss: 0.0089, Train Accuracy: 100.00%, Train F1: 100.00% | Valid Loss: 0.1714, Valid Accuracy: 93.75%, Valid F1: 93.07% | LR: 0.000041\n",
            "Epoch[14/17], Train Loss: 0.0021, Train Accuracy: 100.00%, Train F1: 100.00% | Valid Loss: 0.3267, Valid Accuracy: 75.00%, Valid F1: 75.00% | LR: 0.000041\n",
            "Epoch[15/17], Train Loss: 0.0015, Train Accuracy: 100.00%, Train F1: 100.00% | Valid Loss: 0.1411, Valid Accuracy: 93.75%, Valid F1: 93.07% | LR: 0.000041\n",
            "Epoch[16/17], Train Loss: 0.0009, Train Accuracy: 100.00%, Train F1: 100.00% | Valid Loss: 0.1859, Valid Accuracy: 93.75%, Valid F1: 93.07% | LR: 0.000040\n",
            "Epoch[17/17], Train Loss: 0.0009, Train Accuracy: 100.00%, Train F1: 100.00% | Valid Loss: 0.1707, Valid Accuracy: 93.75%, Valid F1: 93.07% | LR: 0.000041\n",
            "**********  Validation  **********\n",
            "Valid Loss: 0.1411, Valid Accuracy: 93.75%, Valid F1: 93.07%\n"
          ]
        },
        {
          "output_type": "display_data",
          "data": {
            "text/plain": [
              "<Figure size 1200x500 with 1 Axes>"
            ],
            "image/png": "[encoded data removed]"
          },
          "metadata": {}
        },
        {
          "output_type": "display_data",
          "data": {
            "text/plain": [
              "<Figure size 1200x500 with 1 Axes>"
            ],
            "image/png": "[encoded data removed]"
          },
          "metadata": {}
        },
        {
          "output_type": "display_data",
          "data": {
            "text/plain": [
              "<Figure size 1200x500 with 1 Axes>"
            ],
            "image/png": "[encoded data removed]"
          },
          "metadata": {}
        }
      ]
    },
    {
      "cell_type": "code",
      "source": [
        "seed_everything(config.seed)\n",
        "test_df = pd.read_csv(\"test.csv\")\n",
        "test_dataset = MRI2DDataset(test_df, mode = \"test\",transforms = build_transform(False))\n",
        "test_loader = torch.utils.data.DataLoader(test_dataset, batch_size=config.batch_size, shuffle=False)\n",
        "model_late = Late_fusion(num_classes = 2, features_grad = True)\n",
        "\n",
        "model_late.to(\"cuda\")\n",
        "\n",
        "best_ckpt = torch.load(f\"checkpoint_Late.pth\")\n",
        "model_late.load_state_dict(best_ckpt[\"model\"])\n",
        "\n",
        "preds = testing(model_late, test_loader, config.device)\n",
        "del test_dataset\n",
        "gc.collect()\n",
        "torch.cuda.empty_cache()"
      ],
      "metadata": {
        "trusted": true,
        "id": "rdhMEbOvLwMw",
        "colab": {
          "base_uri": "https://localhost:8080/"
        },
        "outputId": "af2d4407-458a-4b0d-8392-67f62ed26298"
      },
      "outputs": [
        {
          "output_type": "stream",
          "name": "stderr",
          "text": [
            "100%|██████████| 40/40 [00:08<00:00,  4.92it/s]\n"
          ]
        }
      ],
      "execution_count": null
    },
    {
      "cell_type": "code",
      "source": [
        "results_df = pd.read_csv(os.path.join(config.root, \"submission.csv\"))\n",
        "results_df['Disease'] = preds.cpu().numpy()\n",
        "\n",
        "from google.colab import files\n",
        "# 保存 CSV 文件到指定路徑\n",
        "results_df.to_csv('/content/late.csv', index=False, header = True)\n",
        "# 下載文件到本地機器\n",
        "files.download('/content/late.csv')"
      ],
      "metadata": {
        "trusted": true,
        "id": "q75vBvLyLwMx",
        "colab": {
          "base_uri": "https://localhost:8080/",
          "height": 17
        },
        "outputId": "be5eaec9-4bd4-4182-8312-1198ef8be418"
      },
      "outputs": [
        {
          "output_type": "display_data",
          "data": {
            "text/plain": [
              "<IPython.core.display.Javascript object>"
            ],
            "application/javascript": [
              "\n",
              "    async function download(id, filename, size) {\n",
              "      if (!google.colab.kernel.accessAllowed) {\n",
              "        return;\n",
              "      }\n",
              "      const div = document.createElement('div');\n",
              "      const label = document.createElement('label');\n",
              "      label.textContent = `Downloading \"${filename}\": `;\n",
              "      div.appendChild(label);\n",
              "      const progress = document.createElement('progress');\n",
              "      progress.max = size;\n",
              "      div.appendChild(progress);\n",
              "      document.body.appendChild(div);\n",
              "\n",
              "      const buffers = [];\n",
              "      let downloaded = 0;\n",
              "\n",
              "      const channel = await google.colab.kernel.comms.open(id);\n",
              "      // Send a message to notify the kernel that we're ready.\n",
              "      channel.send({})\n",
              "\n",
              "      for await (const message of channel.messages) {\n",
              "        // Send a message to notify the kernel that we're ready.\n",
              "        channel.send({})\n",
              "        if (message.buffers) {\n",
              "          for (const buffer of message.buffers) {\n",
              "            buffers.push(buffer);\n",
              "            downloaded += buffer.byteLength;\n",
              "            progress.value = downloaded;\n",
              "          }\n",
              "        }\n",
              "      }\n",
              "      const blob = new Blob(buffers, {type: 'application/binary'});\n",
              "      const a = document.createElement('a');\n",
              "      a.href = window.URL.createObjectURL(blob);\n",
              "      a.download = filename;\n",
              "      div.appendChild(a);\n",
              "      a.click();\n",
              "      div.remove();\n",
              "    }\n",
              "  "
            ]
          },
          "metadata": {}
        },
        {
          "output_type": "display_data",
          "data": {
            "text/plain": [
              "<IPython.core.display.Javascript object>"
            ],
            "application/javascript": [
              "download(\"download_ba46e91f-b100-4b20-ad58-11171dc34dd0\", \"late.csv\", 372)"
            ]
          },
          "metadata": {}
        }
      ],
      "execution_count": null
    },
    {
      "cell_type": "markdown",
      "source": [
        "## Single Slice"
      ],
      "metadata": {
        "id": "ijMgMyk0LwMy"
      }
    },
    {
      "cell_type": "code",
      "source": [
        "class config:\n",
        "\n",
        "    root = \"/kaggle/\"\n",
        "    valid_prob = 0.2\n",
        "    batch_size = 4\n",
        "    lr = 1e-3\n",
        "    epochs = 10\n",
        "    weight_decay = 1e-3\n",
        "    device = torch.device(\"cuda\" if torch.cuda.is_available() else \"cpu\")\n",
        "    seed = 42\n",
        "\n",
        "print(config.device)"
      ],
      "metadata": {
        "trusted": true,
        "id": "KYFji1F_LwMz",
        "colab": {
          "base_uri": "https://localhost:8080/"
        },
        "outputId": "89e6b531-c6ac-47c0-aa46-4332524fb788"
      },
      "outputs": [
        {
          "output_type": "stream",
          "name": "stdout",
          "text": [
            "cuda\n"
          ]
        }
      ],
      "execution_count": null
    },
    {
      "cell_type": "markdown",
      "source": [
        "### Single slice model"
      ],
      "metadata": {
        "id": "v22O69XSLwMz"
      }
    },
    {
      "cell_type": "code",
      "source": [
        "# 建立完整的 Single slice model\n",
        "class Single_slice(nn.Module):\n",
        "    def __init__(self, num_classes, input_size = (3, 50, 50), features_grad = False):\n",
        "        super().__init__()\n",
        "\n",
        "        # 取出vgg16中的特徵層\n",
        "        vgg16 = models.vgg16(weights='IMAGENET1K_V1', progress = True)\n",
        "        vgg16.classifier = nn.Identity()\n",
        "\n",
        "        # 固定/不固定特徵層的參數值\n",
        "        for param in vgg16.features.parameters():\n",
        "            param.requires_grad = features_grad\n",
        "        self.backend = vgg16\n",
        "\n",
        "        # 修改分類層\n",
        "        self.classifier = nn.Linear(512 * 7 * 7, num_classes)\n",
        "\n",
        "        self.softmax = nn.Softmax(dim=1)\n",
        "\n",
        "    # 完成 foward 函數(要自己寫)\n",
        "    def forward(self, x): # x: 22 個 (batch_size, 3, 256, 256) 的 list\n",
        "        softmax_results = []\n",
        "        for i in range(len(x)):\n",
        "            feature_map = self.backend(x[i])  # 提取特徵 (batch_size, 512, 7, 7)\n",
        "            feature_map = feature_map.view(feature_map.size(0), -1)  # 攤平成 (batch_size, 512 * 7 * 7)\n",
        "            logits = self.classifier(feature_map)  # 得到分類層的輸出 (batch_size, num_classes)\n",
        "            softmax_result = self.softmax(logits)  # 對每個類別進行 softmax\n",
        "            softmax_results.append(softmax_result)\n",
        "\n",
        "        output = torch.mean(torch.stack(softmax_results), dim=0)\n",
        "        log_output = torch.log(output + 1e-10)\n",
        "\n",
        "        return log_output"
      ],
      "metadata": {
        "trusted": true,
        "id": "WzYpPva4LwM0"
      },
      "outputs": [],
      "execution_count": null
    },
    {
      "cell_type": "markdown",
      "source": [
        "如何完成 Single_slice 的 forward function，請透過下方的步驟：\n",
        "\n",
        "- Step1: 對 x[i] 提取特徵得到 feature map\n",
        "\n",
        "- Step2: 將 22 張 feature map 各自通過 classifier 並作 softmax\n",
        "\n",
        "- Step3: 將 22 個 softmax 完的結果進行進行平均得到 output\n",
        "\n",
        "- Step4: 將 Step3 得到的結果取 log 並輸出成 log_output，讓後續 nn.NLLLoss() 運行正常\n",
        "\n",
        "**Hint of Step1,2,3: 用一個迴圈完成**\n",
        "\n",
        "**Hint of Step4: `log_output = torch.log(output + 1e-10)`，為了避免出現 log(0) 的情況**"
      ],
      "metadata": {
        "id": "mWg9f7FWLwM0"
      }
    },
    {
      "cell_type": "markdown",
      "source": [
        "### Parameters of Single slice model"
      ],
      "metadata": {
        "id": "Ssj-r5eyLwM0"
      }
    },
    {
      "cell_type": "code",
      "source": [
        "model = Single_slice(num_classes = 2)\n",
        "total_params = sum(p.numel() for p in model.parameters())\n",
        "print(\"總參數量:\", total_params)"
      ],
      "metadata": {
        "trusted": true,
        "id": "J2XzvK5uLwM1",
        "colab": {
          "base_uri": "https://localhost:8080/"
        },
        "outputId": "2a1d4ae6-9d56-4771-904d-2e7543c75225"
      },
      "outputs": [
        {
          "output_type": "stream",
          "name": "stderr",
          "text": [
            "Downloading: \"https://download.pytorch.org/models/vgg16-397923af.pth\" to /root/.cache/torch/hub/checkpoints/vgg16-397923af.pth\n",
            "100%|██████████| 528M/528M [00:02<00:00, 246MB/s]\n"
          ]
        },
        {
          "output_type": "stream",
          "name": "stdout",
          "text": [
            "總參數量: 14764866\n"
          ]
        }
      ],
      "execution_count": null
    },
    {
      "cell_type": "markdown",
      "source": [
        "### Single slice main\n",
        "\n",
        "**過去使用`nn.CrossEntropyLoss()`是將模型輸出的 logits 進行 Softmax 再轉成 log 的形式再計算損失函數。Single slice model 是將 22 個結果進行平均，但如果對 logits 平均會有點不合理，因此我們在 model 的階段使用 `nn.Softmax` 來將 logits 變成機率的形式，再將平均的機率取 log，所以後續使用的 criterion 要改成使用 `nn.NLLLoss()` 計算損失。**\n",
        "\n",
        "`nn.CrossEntropyLoss() 相當於 Softmax - Log - NLLLoss()`\n"
      ],
      "metadata": {
        "id": "c4h2hvTRLwM1"
      }
    },
    {
      "cell_type": "code",
      "source": [
        "# nn.CrossEntropyLoss() 改成 nn.NLLLoss()\n",
        "def main():\n",
        "    seed_everything(config.seed)\n",
        "\n",
        "    #df = pd.read_csv(os.path.join(config.root, \"train.csv\"))\n",
        "    df = pd.read_csv(\"train.csv\")\n",
        "    # split training & validation dataset\n",
        "    n = df.shape[0]\n",
        "    valid_size = int(n * config.valid_prob)\n",
        "    train_ids , valid_ids = train_test_split(\n",
        "     np.linspace(0, n - 1, n).astype(\"int\"),\n",
        "     test_size = valid_size,\n",
        "     random_state = config.seed,\n",
        "    )\n",
        "\n",
        "    print(\"Initializing dataZset...\")\n",
        "    train_df = df.iloc[train_ids]\n",
        "    valid_df = df.iloc[valid_ids]\n",
        "    train_dataset = MRI2DDataset(train_df, mode = \"train\",transforms = build_transform(True))\n",
        "    valid_dataset = MRI2DDataset(valid_df, mode = \"valid\",transforms = build_transform(False))\n",
        "\n",
        "\n",
        "    # DataLoader\n",
        "    train_loader = torch.utils.data.DataLoader(train_dataset, batch_size=config.batch_size, shuffle=True)\n",
        "    valid_loader = torch.utils.data.DataLoader(valid_dataset, batch_size=config.batch_size, shuffle=False)\n",
        "\n",
        "\n",
        "    # settings\n",
        "    print(\"Initializing model...\")\n",
        "    num_classes = 2\n",
        "    print('num_classes',num_classes)\n",
        "    model_single = Single_slice(num_classes = num_classes, features_grad = True)\n",
        "    model_single.to(config.device)\n",
        "\n",
        "    # 散則適當的criterion, optimizer\n",
        "    criterion = nn.CrossEntropyLoss().to(config.device)\n",
        "    optimizer = torch.optim.Adam(model_single.parameters(), lr = config.lr, weight_decay = config.weight_decay)\n",
        "    # 以 epoch 為單位來更新學習率\n",
        "\n",
        "    # 以 batch 為單位來更新學習率\n",
        "    scheduler = torch.optim.lr_scheduler.OneCycleLR(\n",
        "         optimizer = optimizer,\n",
        "         epochs = config.epochs,\n",
        "         steps_per_epoch = train_loader.__len__(),\n",
        "         max_lr = config.lr,\n",
        "         anneal_strategy = 'cos'\n",
        "     )\n",
        "\n",
        "    # recordings\n",
        "    best_val_loss = float(\"inf\")\n",
        "    history = {\n",
        "      \"train\": {\n",
        "          \"loss\": [],\n",
        "          \"acc\": [],\n",
        "          \"f1\": []\n",
        "      },\n",
        "      \"valid\": {\n",
        "          \"loss\": [],\n",
        "          \"acc\": [],\n",
        "          \"f1\": []\n",
        "      },\n",
        "    }\n",
        "\n",
        "    print(\"Start training!\")\n",
        "    for epoch in range(config.epochs):\n",
        "        train_loss, train_acc, train_f1 = train_one_epoch(model_single, train_loader, optimizer, scheduler, criterion, config.device)\n",
        "        valid_loss, valid_acc, valid_f1 = validation(model_single, valid_loader, criterion, config.device)\n",
        "\n",
        "        # Log the loss and validation result\n",
        "        history[\"train\"][\"loss\"].append(train_loss)\n",
        "        history[\"train\"][\"acc\"].append(train_acc)\n",
        "        history[\"train\"][\"f1\"].append(train_f1)\n",
        "        history[\"valid\"][\"loss\"].append(valid_loss)\n",
        "        history[\"valid\"][\"acc\"].append(valid_acc)\n",
        "        history[\"valid\"][\"f1\"].append(valid_f1)\n",
        "\n",
        "        print(f'Epoch[{epoch+1}/{config.epochs}], Train Loss: {train_loss:.4f}, Train Accuracy: {train_acc:.2f}%, Train F1: {train_f1:.2f}% | Valid Loss: {valid_loss:.4f}, Valid Accuracy: {valid_acc:.2f}%, Valid F1: {valid_f1:.2f}% | LR: {optimizer.state_dict()[\"param_groups\"][0][\"lr\"]:.6f}')\n",
        "\n",
        "        # 更新學習率調度器\n",
        "        scheduler.step(valid_loss)\n",
        "\n",
        "        if valid_loss < best_val_loss:\n",
        "            save_file = {\n",
        "                \"model\": model_single.state_dict(),\n",
        "                \"optimizer\": optimizer.state_dict(),\n",
        "                \"scheduler\": scheduler.state_dict(),\n",
        "                \"epoch\": epoch,\n",
        "                \"args\": config\n",
        "            }\n",
        "            best_val_loss = valid_loss\n",
        "            torch.save(save_file, \"checkpoint_single.pth\")\n",
        "\n",
        "        best_ckpt = torch.load(\"checkpoint_single.pth\", map_location=config.device)\n",
        "        model_single.load_state_dict(best_ckpt[\"model\"])\n",
        "\n",
        "    valid_loss, valid_acc, valid_f1 = validation(model_single, valid_loader, criterion, config.device)\n",
        "    print(\"*\"*10, \" Validation \", \"*\"*10)\n",
        "    print(f\"Valid Loss: {valid_loss:.4f}, Valid Accuracy: {valid_acc:.2f}%, Valid F1: {valid_f1:.2f}%\")\n",
        "\n",
        "    del train_loader #避免記憶體不足\n",
        "    del valid_loader\n",
        "    del train_dataset\n",
        "    del valid_dataset\n",
        "    gc.collect()\n",
        "    # 用於釋放 CUDA GPU 的顯存\n",
        "    torch.cuda.empty_cache()\n",
        "\n",
        "    plt.figure(figsize=(12, 5))\n",
        "    plt.subplot(1, 2, 1)\n",
        "    plt.plot(range(config.epochs), history[\"train\"][\"loss\"], label='Training Loss')\n",
        "    plt.plot(range(config.epochs), history[\"valid\"][\"loss\"], label='Validation Loss')\n",
        "    plt.xlabel('Epoch')\n",
        "    plt.ylabel('Loss')\n",
        "    plt.legend()\n",
        "    plt.title('Training and Validation Loss Curves')\n",
        "    plt.show()\n",
        "\n",
        "    plt.figure(figsize=(12, 5))\n",
        "    plt.subplot(1, 2, 1)\n",
        "    plt.plot(range(config.epochs), history[\"train\"][\"acc\"], label='Training Acc')\n",
        "    plt.plot(range(config.epochs), history[\"valid\"][\"acc\"], label='Validation Acc')\n",
        "    plt.xlabel('Epoch')\n",
        "    plt.ylabel('ACC')\n",
        "    plt.legend()\n",
        "    plt.title('Training and Validation Accuracy Curves')\n",
        "    plt.show()\n",
        "\n",
        "    plt.figure(figsize=(12, 5))\n",
        "    plt.subplot(1, 2, 1)\n",
        "    plt.plot(range(config.epochs), history[\"train\"][\"f1\"], label='Training F1')\n",
        "    plt.plot(range(config.epochs), history[\"valid\"][\"f1\"], label='Validation F1')\n",
        "    plt.xlabel('Epoch')\n",
        "    plt.ylabel('F1')\n",
        "    plt.legend()\n",
        "    plt.title('Training and Validation F1 Score Curves')\n",
        "    plt.show()\n",
        "\n",
        "if __name__ == \"__main__\":\n",
        "    main()"
      ],
      "metadata": {
        "trusted": true,
        "id": "My5VX63-LwM1",
        "colab": {
          "base_uri": "https://localhost:8080/",
          "height": 1000
        },
        "outputId": "a8a649a5-d634-47cb-f949-ab578be4c394"
      },
      "outputs": [
        {
          "output_type": "stream",
          "name": "stdout",
          "text": [
            "Initializing dataZset...\n"
          ]
        },
        {
          "output_type": "stream",
          "name": "stderr",
          "text": [
            "100%|██████████| 64/64 [00:15<00:00,  4.13it/s]\n",
            "100%|██████████| 16/16 [00:03<00:00,  4.00it/s]\n"
          ]
        },
        {
          "output_type": "stream",
          "name": "stdout",
          "text": [
            "Initializing model...\n",
            "num_classes 2\n",
            "Start training!\n",
            "Epoch[1/10], Train Loss: 1.1547, Train Accuracy: 53.12%, Train F1: 50.77% | Valid Loss: 0.6262, Valid Accuracy: 62.50%, Valid F1: 50.00% | LR: 0.000041\n",
            "Epoch[2/10], Train Loss: 0.9593, Train Accuracy: 43.75%, Train F1: 30.43% | Valid Loss: 1.0353, Valid Accuracy: 43.75%, Valid F1: 30.43% | LR: 0.000043\n",
            "Epoch[3/10], Train Loss: 0.5438, Train Accuracy: 78.12%, Train F1: 77.93% | Valid Loss: 0.4689, Valid Accuracy: 87.50%, Valid F1: 87.50% | LR: 0.000044\n",
            "Epoch[4/10], Train Loss: 0.4637, Train Accuracy: 81.25%, Train F1: 81.23% | Valid Loss: 0.3690, Valid Accuracy: 93.75%, Valid F1: 93.73% | LR: 0.000042\n",
            "Epoch[5/10], Train Loss: 0.4149, Train Accuracy: 82.81%, Train F1: 82.77% | Valid Loss: 0.3901, Valid Accuracy: 81.25%, Valid F1: 81.18% | LR: 0.000042\n",
            "Epoch[6/10], Train Loss: 0.3663, Train Accuracy: 89.06%, Train F1: 89.04% | Valid Loss: 0.2778, Valid Accuracy: 93.75%, Valid F1: 93.52% | LR: 0.000042\n",
            "Epoch[7/10], Train Loss: 0.5460, Train Accuracy: 70.31%, Train F1: 68.59% | Valid Loss: 0.7311, Valid Accuracy: 43.75%, Valid F1: 30.43% | LR: 0.000042\n",
            "Epoch[8/10], Train Loss: 0.6644, Train Accuracy: 64.06%, Train F1: 58.73% | Valid Loss: 0.7559, Valid Accuracy: 43.75%, Valid F1: 30.43% | LR: 0.000043\n",
            "Epoch[9/10], Train Loss: 0.3258, Train Accuracy: 92.19%, Train F1: 92.17% | Valid Loss: 0.2770, Valid Accuracy: 93.75%, Valid F1: 93.52% | LR: 0.000043\n",
            "Epoch[10/10], Train Loss: 0.2932, Train Accuracy: 93.75%, Train F1: 93.74% | Valid Loss: 0.2756, Valid Accuracy: 87.50%, Valid F1: 86.67% | LR: 0.000042\n",
            "**********  Validation  **********\n",
            "Valid Loss: 0.2756, Valid Accuracy: 87.50%, Valid F1: 86.67%\n"
          ]
        },
        {
          "output_type": "display_data",
          "data": {
            "text/plain": [
              "<Figure size 1200x500 with 1 Axes>"
            ],
            "image/png": "[encoded data removed]"
          },
          "metadata": {}
        },
        {
          "output_type": "display_data",
          "data": {
            "text/plain": [
              "<Figure size 1200x500 with 1 Axes>"
            ],
            "image/png": "[encoded data removed]"
          },
          "metadata": {}
        },
        {
          "output_type": "display_data",
          "data": {
            "text/plain": [
              "<Figure size 1200x500 with 1 Axes>"
            ],
            "image/png": "[encoded data removed]"
          },
          "metadata": {}
        }
      ],
      "execution_count": null
    },
    {
      "cell_type": "code",
      "source": [
        "seed_everything(config.seed)\n",
        "#test_df = pd.read_csv(os.path.join(config.root, \"test.csv\"))\n",
        "test_df = pd.read_csv(\"test.csv\")\n",
        "test_dataset = MRI2DDataset(test_df, mode = \"test\",transforms = build_transform(False))\n",
        "test_loader = torch.utils.data.DataLoader(test_dataset, batch_size=config.batch_size, shuffle=False)\n",
        "model_single = Single_slice(num_classes = 2, features_grad = True)\n",
        "\n",
        "model_single.to(\"cuda\")\n",
        "\n",
        "best_ckpt = torch.load(f\"checkpoint_single.pth\")\n",
        "model_single.load_state_dict(best_ckpt[\"model\"])\n",
        "\n",
        "preds = testing(model_single, test_loader, config.device)\n",
        "del test_dataset\n",
        "gc.collect()\n",
        "torch.cuda.empty_cache()"
      ],
      "metadata": {
        "colab": {
          "base_uri": "https://localhost:8080/"
        },
        "id": "XA2cblcBd61C",
        "outputId": "7c310d61-58bd-45cd-b886-4459793510a6"
      },
      "execution_count": null,
      "outputs": [
        {
          "output_type": "stream",
          "name": "stderr",
          "text": [
            "100%|██████████| 40/40 [00:08<00:00,  4.46it/s]\n"
          ]
        }
      ]
    },
    {
      "cell_type": "code",
      "source": [
        "results_df = pd.read_csv(os.path.join(config.root, \"submission.csv\"))\n",
        "results_df['Disease'] = preds.cpu().numpy()\n",
        "#results_df.to_csv(\"late.csv\", index=False)\n",
        "\n",
        "from google.colab import files\n",
        "# 保存 CSV 文件到指定路徑\n",
        "results_df.to_csv('/content/single.csv', index=False, header = True)\n",
        "# 下載文件到本地機器\n",
        "files.download('/content/single.csv')"
      ],
      "metadata": {
        "colab": {
          "base_uri": "https://localhost:8080/",
          "height": 17
        },
        "id": "DgqR9Pc9eS4U",
        "outputId": "2728f186-10b7-4b04-fa44-567f9b9bbd15"
      },
      "execution_count": null,
      "outputs": [
        {
          "output_type": "display_data",
          "data": {
            "text/plain": [
              "<IPython.core.display.Javascript object>"
            ],
            "application/javascript": [
              "\n",
              "    async function download(id, filename, size) {\n",
              "      if (!google.colab.kernel.accessAllowed) {\n",
              "        return;\n",
              "      }\n",
              "      const div = document.createElement('div');\n",
              "      const label = document.createElement('label');\n",
              "      label.textContent = `Downloading \"${filename}\": `;\n",
              "      div.appendChild(label);\n",
              "      const progress = document.createElement('progress');\n",
              "      progress.max = size;\n",
              "      div.appendChild(progress);\n",
              "      document.body.appendChild(div);\n",
              "\n",
              "      const buffers = [];\n",
              "      let downloaded = 0;\n",
              "\n",
              "      const channel = await google.colab.kernel.comms.open(id);\n",
              "      // Send a message to notify the kernel that we're ready.\n",
              "      channel.send({})\n",
              "\n",
              "      for await (const message of channel.messages) {\n",
              "        // Send a message to notify the kernel that we're ready.\n",
              "        channel.send({})\n",
              "        if (message.buffers) {\n",
              "          for (const buffer of message.buffers) {\n",
              "            buffers.push(buffer);\n",
              "            downloaded += buffer.byteLength;\n",
              "            progress.value = downloaded;\n",
              "          }\n",
              "        }\n",
              "      }\n",
              "      const blob = new Blob(buffers, {type: 'application/binary'});\n",
              "      const a = document.createElement('a');\n",
              "      a.href = window.URL.createObjectURL(blob);\n",
              "      a.download = filename;\n",
              "      div.appendChild(a);\n",
              "      a.click();\n",
              "      div.remove();\n",
              "    }\n",
              "  "
            ]
          },
          "metadata": {}
        },
        {
          "output_type": "display_data",
          "data": {
            "text/plain": [
              "<IPython.core.display.Javascript object>"
            ],
            "application/javascript": [
              "download(\"download_04e379b5-baab-4566-ad4e-87633c703bf6\", \"single.csv\", 372)"
            ]
          },
          "metadata": {}
        }
      ]
    },
    {
      "cell_type": "markdown",
      "source": [
        "## Early Fusion"
      ],
      "metadata": {
        "id": "mwtvMtVRLwM1"
      }
    },
    {
      "cell_type": "code",
      "source": [
        "class config:\n",
        "\n",
        "    #root = \"/kaggle/input/mia-hw3\"\n",
        "    root = '/kaggle/'\n",
        "    valid_prob = 0.2\n",
        "    batch_size = 4\n",
        "    lr = 1e-3\n",
        "    epochs =18\n",
        "    weight_decay = 1e-3\n",
        "    device = torch.device(\"cuda\" if torch.cuda.is_available() else \"cpu\")\n",
        "    seed = 42\n",
        "\n",
        "print(config.device)"
      ],
      "metadata": {
        "trusted": true,
        "id": "ViX26Vr3LwM2",
        "colab": {
          "base_uri": "https://localhost:8080/"
        },
        "outputId": "e441f1bd-6282-4876-c74e-c9ae04b194e6"
      },
      "outputs": [
        {
          "output_type": "stream",
          "name": "stdout",
          "text": [
            "cuda\n"
          ]
        }
      ],
      "execution_count": null
    },
    {
      "cell_type": "markdown",
      "source": [
        "### Early fusion model"
      ],
      "metadata": {
        "id": "J-1hwU3hLwM2"
      }
    },
    {
      "cell_type": "code",
      "source": [
        "class Early_fusion(nn.Module):\n",
        "    def __init__(self, num_classes, input_size=(3, 256, 256), features_grad=False):\n",
        "        super().__init__()\n",
        "\n",
        "        # 取出vgg16中的特徵層\n",
        "        vgg16 = models.vgg16(weights='IMAGENET1K_V1', progress=True)\n",
        "        # 修改 VGG16 的第一層，使其接受 66 通道的輸入\n",
        "        vgg16.features[0] = nn.Conv2d(66, 64, kernel_size=3, stride=1, padding=1)\n",
        "        # 丟棄 VGG16 預設的分類層\n",
        "        vgg16.classifier = nn.Identity()\n",
        "\n",
        "        # 固定/不固定特徵層的參數\n",
        "        for param in vgg16.features.parameters():\n",
        "            param.requires_grad = features_grad\n",
        "\n",
        "        self.backend = vgg16\n",
        "\n",
        "        # 修改分類層\n",
        "        # 如果在 Early Fusion 中將多個 slice 疊加，通道會變成 22 * 3 = 66\n",
        "        self.classifier = nn.Sequential(\n",
        "            nn.Linear(512 * 7 * 7, num_classes)\n",
        "        )\n",
        "\n",
        "    def forward(self, x):\n",
        "        # 確保輸入 x 維度為 (batch_size, 66, 256, 256)\n",
        "        #if isinstance(x, list):\n",
        "            # 如果輸入是列表，先在通道維度拼接\n",
        "        x = torch.cat(x, dim=1)  # 通道數變為 66\n",
        "\n",
        "        # 使用 VGG16 的特徵層提取特徵\n",
        "        features = self.backend(x)\n",
        "\n",
        "        # 展平特徵圖\n",
        "        features_map = features.view(features.size(0),-1)\n",
        "\n",
        "        # 使用修改後的分類層進行分類\n",
        "        output = self.classifier(features_map)\n",
        "\n",
        "        return output"
      ],
      "metadata": {
        "id": "C5dxJFh7-80j"
      },
      "execution_count": null,
      "outputs": []
    },
    {
      "cell_type": "markdown",
      "source": [
        "### Parameters of Early fusion model"
      ],
      "metadata": {
        "id": "5BqSB0OpLwM3"
      }
    },
    {
      "cell_type": "code",
      "source": [
        "model = Early_fusion(num_classes = 2)\n",
        "total_params = sum(p.numel() for p in model.parameters())\n",
        "print(\"總參數量:\", total_params)"
      ],
      "metadata": {
        "trusted": true,
        "id": "Azqsl-vZLwM3",
        "colab": {
          "base_uri": "https://localhost:8080/"
        },
        "outputId": "170cd53b-e8c8-4040-a67f-cffa05280e57"
      },
      "outputs": [
        {
          "output_type": "stream",
          "name": "stdout",
          "text": [
            "總參數量: 14801154\n"
          ]
        }
      ],
      "execution_count": null
    },
    {
      "cell_type": "markdown",
      "source": [
        "### Early fusion main"
      ],
      "metadata": {
        "id": "-Y1t6CixLwM3"
      }
    },
    {
      "cell_type": "code",
      "source": [
        "def main():\n",
        "\n",
        "    seed_everything(config.seed)\n",
        "\n",
        "    #df = pd.read_csv(os.path.join(config.root, \"train.csv\"))\n",
        "    df = pd.read_csv(\"train.csv\")\n",
        "    # split training & validation dataset\n",
        "    n = df.shape[0]\n",
        "    valid_size = int(n * config.valid_prob)\n",
        "    train_ids , valid_ids = train_test_split(\n",
        "     np.linspace(0, n - 1, n).astype(\"int\"),\n",
        "     test_size = valid_size,\n",
        "     random_state = config.seed,\n",
        "    )\n",
        "\n",
        "    print(\"Initializing dataset...\")\n",
        "    train_df = df.iloc[train_ids]\n",
        "    valid_df = df.iloc[valid_ids]\n",
        "    train_dataset = MRI2DDataset(train_df, mode = \"train\",transforms = build_transform(True))\n",
        "    valid_dataset = MRI2DDataset(valid_df, mode = \"valid\",transforms = build_transform(False))\n",
        "\n",
        "    # DataLoader\n",
        "    train_loader = torch.utils.data.DataLoader(train_dataset, batch_size=config.batch_size, shuffle=True)\n",
        "    valid_loader = torch.utils.data.DataLoader(valid_dataset, batch_size=config.batch_size, shuffle=False)\n",
        "\n",
        "    # settings\n",
        "    print(\"Initializing model...\")\n",
        "    num_classes = 2\n",
        "    print('num_classes',num_classes)\n",
        "    model_early = Early_fusion(num_classes = num_classes, features_grad = True)\n",
        "    model_early.to(config.device)\n",
        "\n",
        "    # 散則適當的criterion, optimizer\n",
        "    criterion = nn.CrossEntropyLoss().to(config.device)\n",
        "    optimizer = torch.optim.Adam(model_early.parameters(), lr = config.lr, weight_decay = config.weight_decay)\n",
        "    # 以 epoch 為單位來更新學習率\n",
        "    #scheduler = torch.optim.lr_scheduler.StepLR(optimizer, step_size=12, gamma=0.1)\n",
        "    # 以 batch 為單位來更新學習率\n",
        "    scheduler = torch.optim.lr_scheduler.OneCycleLR(\n",
        "         optimizer = optimizer,\n",
        "         epochs = config.epochs,\n",
        "         steps_per_epoch = train_loader.__len__(),\n",
        "         max_lr = config.lr,\n",
        "         anneal_strategy = 'cos'\n",
        "     )\n",
        "\n",
        "    # recordings\n",
        "    best_val_loss = float(\"inf\")\n",
        "    history = {\n",
        "      \"train\": {\n",
        "          \"loss\": [],\n",
        "          \"acc\": [],\n",
        "          \"f1\": []\n",
        "      },\n",
        "      \"valid\": {\n",
        "          \"loss\": [],\n",
        "          \"acc\": [],\n",
        "          \"f1\": []\n",
        "      },\n",
        "    }\n",
        "\n",
        "    print(\"Start training!\")\n",
        "    for epoch in range(config.epochs):\n",
        "        train_loss, train_acc, train_f1 = train_one_epoch(model_early, train_loader, optimizer, scheduler, criterion, config.device)\n",
        "        valid_loss, valid_acc, valid_f1 = validation(model_early, valid_loader, criterion, config.device)\n",
        "\n",
        "        # Log the loss and validation result\n",
        "        history[\"train\"][\"loss\"].append(train_loss)\n",
        "        history[\"train\"][\"acc\"].append(train_acc)\n",
        "        history[\"train\"][\"f1\"].append(train_f1)\n",
        "        history[\"valid\"][\"loss\"].append(valid_loss)\n",
        "        history[\"valid\"][\"acc\"].append(valid_acc)\n",
        "        history[\"valid\"][\"f1\"].append(valid_f1)\n",
        "\n",
        "        print(f'Epoch[{epoch+1}/{config.epochs}], Train Loss: {train_loss:.4f}, Train Accuracy: {train_acc:.2f}%, Train F1: {train_f1:.2f}% | Valid Loss: {valid_loss:.4f}, Valid Accuracy: {valid_acc:.2f}%, Valid F1: {valid_f1:.2f}% | LR: {optimizer.state_dict()[\"param_groups\"][0][\"lr\"]:.6f}')\n",
        "        # 更新學習率調度器\n",
        "        scheduler.step(valid_loss)\n",
        "        if valid_loss < best_val_loss:\n",
        "            save_file = {\n",
        "                \"model\": model_early.state_dict(),\n",
        "                \"optimizer\": optimizer.state_dict(),\n",
        "                \"scheduler\": scheduler.state_dict(),\n",
        "                \"epoch\": epoch,\n",
        "                \"args\": config\n",
        "            }\n",
        "            best_val_loss = valid_loss\n",
        "            torch.save(save_file, \"checkpoint_early.pth\")\n",
        "\n",
        "        best_ckpt = torch.load(\"checkpoint_early.pth\", map_location=config.device)\n",
        "        model_early.load_state_dict(best_ckpt[\"model\"])\n",
        "\n",
        "    valid_loss, valid_acc, valid_f1 = validation(model_early, valid_loader, criterion, config.device)\n",
        "    print(\"*\"*10, \" Validation \", \"*\"*10)\n",
        "    print(f\"Valid Loss: {valid_loss:.4f}, Valid Accuracy: {valid_acc:.2f}%, Valid F1: {valid_f1:.2f}%\")\n",
        "\n",
        "\n",
        "    del train_loader #避免記憶體不足\n",
        "    del valid_loader\n",
        "    del train_dataset\n",
        "    del valid_dataset\n",
        "    gc.collect()\n",
        "    # 用於釋放 CUDA GPU 的顯存\n",
        "    torch.cuda.empty_cache()\n",
        "\n",
        "    plt.figure(figsize=(12, 5))\n",
        "    plt.subplot(1, 2, 1)\n",
        "    plt.plot(range(config.epochs), history[\"train\"][\"loss\"], label='Training Loss')\n",
        "    plt.plot(range(config.epochs), history[\"valid\"][\"loss\"], label='Validation Loss')\n",
        "    plt.xlabel('Epoch')\n",
        "    plt.ylabel('Loss')\n",
        "    plt.legend()\n",
        "    plt.title('Training and Validation Loss Curves')\n",
        "    plt.show()\n",
        "\n",
        "    plt.figure(figsize=(12, 5))\n",
        "    plt.subplot(1, 2, 1)\n",
        "    plt.plot(range(config.epochs), history[\"train\"][\"acc\"], label='Training Acc')\n",
        "    plt.plot(range(config.epochs), history[\"valid\"][\"acc\"], label='Validation Acc')\n",
        "    plt.xlabel('Epoch')\n",
        "    plt.ylabel('ACC')\n",
        "    plt.legend()\n",
        "    plt.title('Training and Validation Accuracy Curves')\n",
        "    plt.show()\n",
        "\n",
        "    plt.figure(figsize=(12, 5))\n",
        "    plt.subplot(1, 2, 1)\n",
        "    plt.plot(range(config.epochs), history[\"train\"][\"f1\"], label='Training F1')\n",
        "    plt.plot(range(config.epochs), history[\"valid\"][\"f1\"], label='Validation F1')\n",
        "    plt.xlabel('Epoch')\n",
        "    plt.ylabel('F1')\n",
        "    plt.legend()\n",
        "    plt.title('Training and Validation F1 Score Curves')\n",
        "    plt.show()\n",
        "\n",
        "if __name__ == \"__main__\":\n",
        "    main()"
      ],
      "metadata": {
        "trusted": true,
        "id": "D9QfQf8fLwM3",
        "colab": {
          "base_uri": "https://localhost:8080/",
          "height": 1000
        },
        "outputId": "3875ea14-c265-4cef-cb32-695755cc03a9"
      },
      "outputs": [
        {
          "output_type": "stream",
          "name": "stdout",
          "text": [
            "Initializing dataset...\n"
          ]
        },
        {
          "output_type": "stream",
          "name": "stderr",
          "text": [
            "100%|██████████| 64/64 [00:14<00:00,  4.50it/s]\n",
            "100%|██████████| 16/16 [00:03<00:00,  4.41it/s]\n"
          ]
        },
        {
          "output_type": "stream",
          "name": "stdout",
          "text": [
            "Initializing model...\n",
            "num_classes 2\n",
            "Start training!\n",
            "Epoch[1/18], Train Loss: 0.9834, Train Accuracy: 59.38%, Train F1: 59.22% | Valid Loss: 0.8418, Valid Accuracy: 37.50%, Valid F1: 37.50% | LR: 0.000040\n",
            "Epoch[2/18], Train Loss: 0.5815, Train Accuracy: 68.75%, Train F1: 68.75% | Valid Loss: 0.5563, Valid Accuracy: 87.50%, Valid F1: 86.67% | LR: 0.000041\n",
            "Epoch[3/18], Train Loss: 0.3017, Train Accuracy: 90.62%, Train F1: 90.59% | Valid Loss: 0.5512, Valid Accuracy: 75.00%, Valid F1: 70.91% | LR: 0.000041\n",
            "Epoch[4/18], Train Loss: 0.1465, Train Accuracy: 95.31%, Train F1: 95.31% | Valid Loss: 0.4029, Valid Accuracy: 93.75%, Valid F1: 93.52% | LR: 0.000041\n",
            "Epoch[5/18], Train Loss: 0.0587, Train Accuracy: 100.00%, Train F1: 100.00% | Valid Loss: 0.4144, Valid Accuracy: 87.50%, Valid F1: 86.67% | LR: 0.000041\n",
            "Epoch[6/18], Train Loss: 0.0622, Train Accuracy: 100.00%, Train F1: 100.00% | Valid Loss: 0.4748, Valid Accuracy: 81.25%, Valid F1: 81.18% | LR: 0.000041\n",
            "Epoch[7/18], Train Loss: 0.0414, Train Accuracy: 100.00%, Train F1: 100.00% | Valid Loss: 0.4711, Valid Accuracy: 87.50%, Valid F1: 87.30% | LR: 0.000041\n",
            "Epoch[8/18], Train Loss: 0.0435, Train Accuracy: 100.00%, Train F1: 100.00% | Valid Loss: 0.4409, Valid Accuracy: 81.25%, Valid F1: 81.18% | LR: 0.000041\n",
            "Epoch[9/18], Train Loss: 0.0355, Train Accuracy: 100.00%, Train F1: 100.00% | Valid Loss: 0.5498, Valid Accuracy: 75.00%, Valid F1: 75.00% | LR: 0.000041\n",
            "Epoch[10/18], Train Loss: 0.0343, Train Accuracy: 100.00%, Train F1: 100.00% | Valid Loss: 0.4137, Valid Accuracy: 87.50%, Valid F1: 86.67% | LR: 0.000041\n",
            "Epoch[11/18], Train Loss: 0.0425, Train Accuracy: 100.00%, Train F1: 100.00% | Valid Loss: 0.4198, Valid Accuracy: 87.50%, Valid F1: 87.30% | LR: 0.000041\n",
            "Epoch[12/18], Train Loss: 0.0303, Train Accuracy: 100.00%, Train F1: 100.00% | Valid Loss: 0.5377, Valid Accuracy: 75.00%, Valid F1: 75.00% | LR: 0.000041\n",
            "Epoch[13/18], Train Loss: 0.0278, Train Accuracy: 100.00%, Train F1: 100.00% | Valid Loss: 0.3783, Valid Accuracy: 87.50%, Valid F1: 87.30% | LR: 0.000041\n",
            "Epoch[14/18], Train Loss: 0.0079, Train Accuracy: 100.00%, Train F1: 100.00% | Valid Loss: 0.4540, Valid Accuracy: 87.50%, Valid F1: 87.30% | LR: 0.000041\n",
            "Epoch[15/18], Train Loss: 0.0092, Train Accuracy: 100.00%, Train F1: 100.00% | Valid Loss: 0.4269, Valid Accuracy: 87.50%, Valid F1: 86.67% | LR: 0.000041\n",
            "Epoch[16/18], Train Loss: 0.0074, Train Accuracy: 100.00%, Train F1: 100.00% | Valid Loss: 0.4000, Valid Accuracy: 87.50%, Valid F1: 87.30% | LR: 0.000041\n",
            "Epoch[17/18], Train Loss: 0.0083, Train Accuracy: 100.00%, Train F1: 100.00% | Valid Loss: 0.4048, Valid Accuracy: 87.50%, Valid F1: 87.30% | LR: 0.000041\n",
            "Epoch[18/18], Train Loss: 0.0073, Train Accuracy: 100.00%, Train F1: 100.00% | Valid Loss: 0.4121, Valid Accuracy: 87.50%, Valid F1: 87.30% | LR: 0.000041\n",
            "**********  Validation  **********\n",
            "Valid Loss: 0.3783, Valid Accuracy: 87.50%, Valid F1: 87.30%\n"
          ]
        },
        {
          "output_type": "display_data",
          "data": {
            "text/plain": [
              "<Figure size 1200x500 with 1 Axes>"
            ],
            "image/png": "[encoded data removed]"
          },
          "metadata": {}
        },
        {
          "output_type": "display_data",
          "data": {
            "text/plain": [
              "<Figure size 1200x500 with 1 Axes>"
            ],
            "image/png": "[encoded data removed]"
          },
          "metadata": {}
        },
        {
          "output_type": "display_data",
          "data": {
            "text/plain": [
              "<Figure size 1200x500 with 1 Axes>"
            ],
            "image/png": "[encoded data removed]"
          },
          "metadata": {}
        }
      ],
      "execution_count": null
    },
    {
      "cell_type": "code",
      "source": [
        "seed_everything(config.seed)\n",
        "#test_df = pd.read_csv(os.path.join(config.root, \"test.csv\"))\n",
        "test_df = pd.read_csv(\"test.csv\")\n",
        "test_dataset = MRI2DDataset(test_df, mode = \"test\",transforms = build_transform(False))\n",
        "test_loader = torch.utils.data.DataLoader(test_dataset, batch_size=config.batch_size, shuffle=False)\n",
        "model_early = Early_fusion(num_classes = 2, features_grad = True)\n",
        "\n",
        "model_early.to(\"cuda\")\n",
        "\n",
        "best_ckpt = torch.load(f\"checkpoint_early.pth\")\n",
        "model_early.load_state_dict(best_ckpt[\"model\"])\n",
        "\n",
        "preds = testing(model_early, test_loader, config.device)\n",
        "del test_dataset\n",
        "gc.collect()\n",
        "torch.cuda.empty_cache()"
      ],
      "metadata": {
        "id": "Nuqfs-XqewvB",
        "colab": {
          "base_uri": "https://localhost:8080/"
        },
        "outputId": "94bb300f-7af6-45ce-ecc7-5e97a39bfe39"
      },
      "execution_count": null,
      "outputs": [
        {
          "output_type": "stream",
          "name": "stderr",
          "text": [
            "100%|██████████| 40/40 [00:08<00:00,  4.67it/s]\n"
          ]
        }
      ]
    },
    {
      "cell_type": "code",
      "source": [
        "results_df = pd.read_csv(os.path.join(config.root, \"submission.csv\"))\n",
        "results_df['Disease'] = preds.cpu().numpy()\n",
        "\n",
        "from google.colab import files\n",
        "# 保存 CSV 文件到指定路徑\n",
        "results_df.to_csv('/content/early.csv', index=False, header = True)\n",
        "# 下載文件到本地機器\n",
        "files.download('/content/early.csv')"
      ],
      "metadata": {
        "colab": {
          "base_uri": "https://localhost:8080/",
          "height": 17
        },
        "id": "q2TLbdMjjqSN",
        "outputId": "fa1c71fa-9a2d-489d-ea24-4475a23d6b83"
      },
      "execution_count": null,
      "outputs": [
        {
          "output_type": "display_data",
          "data": {
            "text/plain": [
              "<IPython.core.display.Javascript object>"
            ],
            "application/javascript": [
              "\n",
              "    async function download(id, filename, size) {\n",
              "      if (!google.colab.kernel.accessAllowed) {\n",
              "        return;\n",
              "      }\n",
              "      const div = document.createElement('div');\n",
              "      const label = document.createElement('label');\n",
              "      label.textContent = `Downloading \"${filename}\": `;\n",
              "      div.appendChild(label);\n",
              "      const progress = document.createElement('progress');\n",
              "      progress.max = size;\n",
              "      div.appendChild(progress);\n",
              "      document.body.appendChild(div);\n",
              "\n",
              "      const buffers = [];\n",
              "      let downloaded = 0;\n",
              "\n",
              "      const channel = await google.colab.kernel.comms.open(id);\n",
              "      // Send a message to notify the kernel that we're ready.\n",
              "      channel.send({})\n",
              "\n",
              "      for await (const message of channel.messages) {\n",
              "        // Send a message to notify the kernel that we're ready.\n",
              "        channel.send({})\n",
              "        if (message.buffers) {\n",
              "          for (const buffer of message.buffers) {\n",
              "            buffers.push(buffer);\n",
              "            downloaded += buffer.byteLength;\n",
              "            progress.value = downloaded;\n",
              "          }\n",
              "        }\n",
              "      }\n",
              "      const blob = new Blob(buffers, {type: 'application/binary'});\n",
              "      const a = document.createElement('a');\n",
              "      a.href = window.URL.createObjectURL(blob);\n",
              "      a.download = filename;\n",
              "      div.appendChild(a);\n",
              "      a.click();\n",
              "      div.remove();\n",
              "    }\n",
              "  "
            ]
          },
          "metadata": {}
        },
        {
          "output_type": "display_data",
          "data": {
            "text/plain": [
              "<IPython.core.display.Javascript object>"
            ],
            "application/javascript": [
              "download(\"download_4c99ed5e-010b-4146-879a-1a279af8b60b\", \"early.csv\", 372)"
            ]
          },
          "metadata": {}
        }
      ]
    },
    {
      "cell_type": "markdown",
      "source": [
        "# 3D CNN\n",
        "\n",
        "## 3D Dataset"
      ],
      "metadata": {
        "id": "CaEbZoWRLwM4"
      }
    },
    {
      "cell_type": "code",
      "source": [
        "class config:\n",
        "\n",
        "    root = '/kaggle/'\n",
        "    valid_prob = 0.2\n",
        "    batch_size = 4\n",
        "    lr = 1e-3\n",
        "    epochs = 10\n",
        "    weight_decay = 1e-3\n",
        "    device = torch.device(\"cuda\" if torch.cuda.is_available() else \"cpu\")\n",
        "    seed = 42\n",
        "\n",
        "print(config.device)"
      ],
      "metadata": {
        "trusted": true,
        "execution": {
          "iopub.status.busy": "2024-11-04T07:14:49.376782Z",
          "iopub.execute_input": "2024-11-04T07:14:49.377523Z",
          "iopub.status.idle": "2024-11-04T07:14:49.383486Z",
          "shell.execute_reply.started": "2024-11-04T07:14:49.377482Z",
          "shell.execute_reply": "2024-11-04T07:14:49.382539Z"
        },
        "id": "tnL9Kb1xLwM4",
        "outputId": "cf7c1fd3-8d39-4c0a-aec7-4779647c7aef",
        "colab": {
          "base_uri": "https://localhost:8080/"
        }
      },
      "outputs": [
        {
          "output_type": "stream",
          "name": "stdout",
          "text": [
            "cuda\n"
          ]
        }
      ],
      "execution_count": null
    },
    {
      "cell_type": "code",
      "source": [
        "class MRI3DDataset(torch.utils.data.Dataset):\n",
        "    def __init__(self, df, mode = None, transforms = None):\n",
        "\n",
        "        root = '/kaggle/'\n",
        "        self.ids = np.array(df[\"ID\"])\n",
        "        self.labels = torch.tensor(df[\"Disease\"].values)\n",
        "        self.mode = mode\n",
        "        self.transforms = transforms\n",
        "\n",
        "        paths = []\n",
        "        for ID in self.ids:\n",
        "            path = os.path.join(root, \"DICOM\", str(ID).split('.')[0].zfill(7))\n",
        "            paths.append(path)\n",
        "\n",
        "        self.images = []\n",
        "\n",
        "        for path in tqdm(paths):\n",
        "            all_slices = []\n",
        "            T1_root = os.path.join(root, \"DICOM\", path, \"T1\")\n",
        "            T2_root = os.path.join(root, \"DICOM\", path, \"T2\")\n",
        "            for filename in sorted(os.listdir(T1_root), key = lambda s: int(pydicom.dcmread(os.path.join(T1_root, s)).InstanceNumber)):\n",
        "                T1_image = []\n",
        "                T2_image = []\n",
        "\n",
        "                # T1 images\n",
        "                img = pydicom.dcmread(os.path.join(T1_root, filename))\n",
        "                ww = img.WindowWidth\n",
        "                wc = img.WindowCenter\n",
        "                highest_visible_value = (ww + 2 * wc) / 2\n",
        "                lowest_visible_value = highest_visible_value - ww\n",
        "\n",
        "                img = img.pixel_array\n",
        "                img = np.clip(img, lowest_visible_value, highest_visible_value)\n",
        "                img = 255 * (img - lowest_visible_value) / ww\n",
        "                img = cv2.resize(img, (256, 256))\n",
        "\n",
        "                T1_image.append(img)\n",
        "\n",
        "                # T2 images\n",
        "                img = pydicom.dcmread(os.path.join(T2_root, filename))\n",
        "                ww = img.WindowWidth\n",
        "                wc = img.WindowCenter\n",
        "                highest_visible_value = (ww + 2 * wc) / 2\n",
        "                lowest_visible_value = highest_visible_value - ww\n",
        "\n",
        "                img = img.pixel_array\n",
        "                img = np.clip(img, lowest_visible_value, highest_visible_value)\n",
        "                img = 255 * (img - lowest_visible_value) / ww\n",
        "                img = cv2.resize(img, (256, 256))\n",
        "\n",
        "                T2_image.append(img)\n",
        "\n",
        "                # T1T2 images\n",
        "                T1T2_image = (T1_image[0] + T2_image[0]) / 2\n",
        "                T1T2_image = torch.tensor(T1T2_image)\n",
        "\n",
        "                T1_image = torch.tensor(T1_image[0])\n",
        "                T2_image = torch.tensor(T2_image[0])\n",
        "\n",
        "                all_slices.append(torch.stack((T1_image, T2_image, T1T2_image), dim = 0))\n",
        "                # 其中 torch.stack((T1_image, T2_image, T1T2_image), dim = 0) 的形狀是 (3, 512, 512)\n",
        "\n",
        "            slices = torch.stack(all_slices, dim = 1) # (3, XX, 512, 512) XX為原始切片數量\n",
        "\n",
        "            if self.transforms:\n",
        "                slices = self.transforms(slices) # (22, 3, 256, 256)\n",
        "                slices = torch.transpose(slices, 0, 1) # (3, 22, 256, 256)\n",
        "\n",
        "            self.images.append(slices.float())\n",
        "\n",
        "    def __getitem__(self, index):\n",
        "\n",
        "        if self.mode == \"train\":\n",
        "\n",
        "            images = self.images[index]\n",
        "            label = self.labels[index]\n",
        "\n",
        "            return images, label\n",
        "\n",
        "        elif self.mode == \"valid\":\n",
        "\n",
        "            images = self.images[index]\n",
        "            label = self.labels[index]\n",
        "\n",
        "            return images, label\n",
        "\n",
        "        elif self.mode == \"test\":\n",
        "\n",
        "            images = self.images[index]\n",
        "\n",
        "            return images\n",
        "\n",
        "    def __len__(self):\n",
        "        return(len(self.ids))"
      ],
      "metadata": {
        "trusted": true,
        "execution": {
          "iopub.status.busy": "2024-11-04T07:14:49.755005Z",
          "iopub.execute_input": "2024-11-04T07:14:49.755649Z",
          "iopub.status.idle": "2024-11-04T07:14:49.774340Z",
          "shell.execute_reply.started": "2024-11-04T07:14:49.755610Z",
          "shell.execute_reply": "2024-11-04T07:14:49.773281Z"
        },
        "id": "C4saVrHqLwM5"
      },
      "outputs": [],
      "execution_count": null
    },
    {
      "cell_type": "code",
      "source": [
        "train_df = pd.read_csv(\"train.csv\")\n",
        "print(\"Initializing dataset...\")\n",
        "dataset = MRI3DDataset(train_df, mode = \"train\", transforms = build_transform(True))\n",
        "\n",
        "print(dataset[0][0].shape)\n",
        "del dataset\n",
        "gc.collect()"
      ],
      "metadata": {
        "trusted": true,
        "execution": {
          "iopub.status.busy": "2024-11-04T07:14:50.509107Z",
          "iopub.execute_input": "2024-11-04T07:14:50.509507Z",
          "iopub.status.idle": "2024-11-04T07:15:18.989876Z",
          "shell.execute_reply.started": "2024-11-04T07:14:50.509471Z",
          "shell.execute_reply": "2024-11-04T07:15:18.988964Z"
        },
        "id": "heMy0fgELwM5",
        "outputId": "e115e7de-41ca-41b8-dcfd-2090b2b4f4c1",
        "colab": {
          "base_uri": "https://localhost:8080/"
        }
      },
      "outputs": [
        {
          "output_type": "stream",
          "name": "stdout",
          "text": [
            "Initializing dataset...\n"
          ]
        },
        {
          "output_type": "stream",
          "name": "stderr",
          "text": [
            "100%|██████████| 80/80 [00:20<00:00,  3.81it/s]\n"
          ]
        },
        {
          "output_type": "stream",
          "name": "stdout",
          "text": [
            "torch.Size([3, 22, 256, 256])\n"
          ]
        },
        {
          "output_type": "execute_result",
          "data": {
            "text/plain": [
              "0"
            ]
          },
          "metadata": {},
          "execution_count": 13
        }
      ],
      "execution_count": null
    },
    {
      "cell_type": "markdown",
      "source": [
        "## 3D CNN model\n",
        "\n",
        "[MedicalNet](https://github.com/Tencent/MedicalNet/tree/master)\n",
        "\n",
        "[pretrained.pth](https://www.kaggle.com/datasets/werus23/medicalnet)"
      ],
      "metadata": {
        "id": "szi83yIyLwM5"
      }
    },
    {
      "cell_type": "code",
      "source": [
        "# 載入github資源\n",
        "!git clone https://github.com/Tencent/MedicalNet.git\n",
        "import sys\n",
        "\n",
        "sys.path.append('/kaggle/MedicalNet')"
      ],
      "metadata": {
        "trusted": true,
        "execution": {
          "iopub.status.busy": "2024-11-04T07:15:18.991401Z",
          "iopub.execute_input": "2024-11-04T07:15:18.991715Z",
          "iopub.status.idle": "2024-11-04T07:15:20.036509Z",
          "shell.execute_reply.started": "2024-11-04T07:15:18.991683Z",
          "shell.execute_reply": "2024-11-04T07:15:20.035323Z"
        },
        "id": "UHRPvxhtLwM5"
      },
      "outputs": [],
      "execution_count": null
    },
    {
      "cell_type": "code",
      "source": [
        "from models import resnet"
      ],
      "metadata": {
        "id": "mBgEqD4fWHQI"
      },
      "execution_count": null,
      "outputs": []
    },
    {
      "cell_type": "code",
      "source": [
        "# 層數可自行決定\n",
        "def generate_model(model_type='resnet', model_depth=50,\n",
        "                   input_W=224, input_H=224, input_D=224, shortcut_type='B',\n",
        "                   no_cuda=True, gpu_id=[0],\n",
        "                   pretrain_path = '/resnet_50.pth',\n",
        "                   nb_class=1):\n",
        "    #pretrain_path = 'pretrain/resnet_50.pth'\n",
        "    # shortcut_type = \"B\"在 ResNet 中指的是一種捷徑（shortcut）連接方法，用來讓輸入和輸出尺寸一致。\n",
        "\n",
        "    # 因為我們是調用上面 github 提供的模型，因為只有提供 resnet 所以這邊確認 model_type 是 resnet\n",
        "    assert model_type in [\n",
        "        'resnet'\n",
        "    ]\n",
        "    # 當 model_type 確認為 resnet 時，再檢查 model_depth 是否在指定的範圍內（10、18、34、50、101、152、200）\n",
        "    if model_type == 'resnet':\n",
        "        assert model_depth in [10, 18, 34, 50, 101, 152, 200]\n",
        "\n",
        "    model = resnet.resnet50(sample_input_W=input_W, sample_input_H=input_H, sample_input_D=input_D, num_seg_classes = nb_class)\n",
        "\n",
        "    # 修改原本的 conv_seg 模組來應用到我們的分類任務\n",
        "    model.conv_seg = nn.Sequential(nn.AdaptiveAvgPool3d((1, 1, 1)), nn.Flatten())\n",
        "    # nn.AdaptiveAvgPool3d((1, 1, 1))：這層會將輸入的 feature map 進行 Global Average Pooling，將維度 (D, H, W) 縮小到 (1, 1, 1)。最終輸出會是形狀 (batchsize, channels, 1, 1, 1)\n",
        "    # nn.Flatten()：將 pooling 後的輸出攤成一個二維向量，形狀是 (batchsize, channels)\n",
        "\n",
        "\n",
        "    if not no_cuda:\n",
        "        if len(gpu_id) > 1:\n",
        "            model = model.cuda()\n",
        "            model = nn.DataParallel(model, device_ids=gpu_id)\n",
        "            net_dict = model.state_dict()\n",
        "        else:\n",
        "            import os\n",
        "            os.environ[\"CUDA_VISIBLE_DEVICES\"]=str(gpu_id[0])\n",
        "            model = model.cuda()\n",
        "            model = nn.DataParallel(model, device_ids=None)\n",
        "            net_dict = model.state_dict()\n",
        "    else:\n",
        "        net_dict = model.state_dict()\n",
        "\n",
        "    print('loading pretrained model {}'.format(pretrain_path))\n",
        "    pretrain = torch.load(pretrain_path)\n",
        "    pretrain_dict = {k: v for k, v in pretrain['state_dict'].items() if k in net_dict.keys()}\n",
        "\n",
        "    net_dict.update(pretrain_dict)\n",
        "\n",
        "    return model"
      ],
      "metadata": {
        "trusted": true,
        "execution": {
          "iopub.status.busy": "2024-11-04T07:15:20.038014Z",
          "iopub.execute_input": "2024-11-04T07:15:20.038371Z",
          "iopub.status.idle": "2024-11-04T07:15:20.050096Z",
          "shell.execute_reply.started": "2024-11-04T07:15:20.038336Z",
          "shell.execute_reply": "2024-11-04T07:15:20.049076Z"
        },
        "id": "m3GJArL7LwM6"
      },
      "outputs": [],
      "execution_count": null
    },
    {
      "cell_type": "code",
      "source": [
        "resnet50_3d = generate_model(model_type='resnet', model_depth=50,\n",
        "                 input_W=256, input_H=256, input_D=22, shortcut_type='B',\n",
        "                 pretrain_path = \"/resnet_50.pth\",   #這要自己下載\n",
        "                 nb_class=2)\n",
        "#/kaggle/input/3d-pretrain/resnet_50.pth\n",
        "resnet50_3d.classifier = nn.Identity()\n",
        "print(resnet50_3d)"
      ],
      "metadata": {
        "trusted": true,
        "execution": {
          "iopub.status.busy": "2024-11-04T07:15:20.052687Z",
          "iopub.execute_input": "2024-11-04T07:15:20.053051Z",
          "iopub.status.idle": "2024-11-04T07:15:20.965156Z",
          "shell.execute_reply.started": "2024-11-04T07:15:20.053009Z",
          "shell.execute_reply": "2024-11-04T07:15:20.964169Z"
        },
        "id": "4lAtCc7hLwM6",
        "outputId": "eefedaaa-7266-450e-f7d9-06591bc42837",
        "colab": {
          "base_uri": "https://localhost:8080/"
        }
      },
      "outputs": [
        {
          "output_type": "stream",
          "name": "stdout",
          "text": [
            "loading pretrained model /resnet_50.pth\n",
            "ResNet(\n",
            "  (conv1): Conv3d(1, 64, kernel_size=(7, 7, 7), stride=(2, 2, 2), padding=(3, 3, 3), bias=False)\n",
            "  (bn1): BatchNorm3d(64, eps=1e-05, momentum=0.1, affine=True, track_running_stats=True)\n",
            "  (relu): ReLU(inplace=True)\n",
            "  (maxpool): MaxPool3d(kernel_size=(3, 3, 3), stride=2, padding=1, dilation=1, ceil_mode=False)\n",
            "  (layer1): Sequential(\n",
            "    (0): Bottleneck(\n",
            "      (conv1): Conv3d(64, 64, kernel_size=(1, 1, 1), stride=(1, 1, 1), bias=False)\n",
            "      (bn1): BatchNorm3d(64, eps=1e-05, momentum=0.1, affine=True, track_running_stats=True)\n",
            "      (conv2): Conv3d(64, 64, kernel_size=(3, 3, 3), stride=(1, 1, 1), padding=(1, 1, 1), bias=False)\n",
            "      (bn2): BatchNorm3d(64, eps=1e-05, momentum=0.1, affine=True, track_running_stats=True)\n",
            "      (conv3): Conv3d(64, 256, kernel_size=(1, 1, 1), stride=(1, 1, 1), bias=False)\n",
            "      (bn3): BatchNorm3d(256, eps=1e-05, momentum=0.1, affine=True, track_running_stats=True)\n",
            "      (relu): ReLU(inplace=True)\n",
            "      (downsample): Sequential(\n",
            "        (0): Conv3d(64, 256, kernel_size=(1, 1, 1), stride=(1, 1, 1), bias=False)\n",
            "        (1): BatchNorm3d(256, eps=1e-05, momentum=0.1, affine=True, track_running_stats=True)\n",
            "      )\n",
            "    )\n",
            "    (1): Bottleneck(\n",
            "      (conv1): Conv3d(256, 64, kernel_size=(1, 1, 1), stride=(1, 1, 1), bias=False)\n",
            "      (bn1): BatchNorm3d(64, eps=1e-05, momentum=0.1, affine=True, track_running_stats=True)\n",
            "      (conv2): Conv3d(64, 64, kernel_size=(3, 3, 3), stride=(1, 1, 1), padding=(1, 1, 1), bias=False)\n",
            "      (bn2): BatchNorm3d(64, eps=1e-05, momentum=0.1, affine=True, track_running_stats=True)\n",
            "      (conv3): Conv3d(64, 256, kernel_size=(1, 1, 1), stride=(1, 1, 1), bias=False)\n",
            "      (bn3): BatchNorm3d(256, eps=1e-05, momentum=0.1, affine=True, track_running_stats=True)\n",
            "      (relu): ReLU(inplace=True)\n",
            "    )\n",
            "    (2): Bottleneck(\n",
            "      (conv1): Conv3d(256, 64, kernel_size=(1, 1, 1), stride=(1, 1, 1), bias=False)\n",
            "      (bn1): BatchNorm3d(64, eps=1e-05, momentum=0.1, affine=True, track_running_stats=True)\n",
            "      (conv2): Conv3d(64, 64, kernel_size=(3, 3, 3), stride=(1, 1, 1), padding=(1, 1, 1), bias=False)\n",
            "      (bn2): BatchNorm3d(64, eps=1e-05, momentum=0.1, affine=True, track_running_stats=True)\n",
            "      (conv3): Conv3d(64, 256, kernel_size=(1, 1, 1), stride=(1, 1, 1), bias=False)\n",
            "      (bn3): BatchNorm3d(256, eps=1e-05, momentum=0.1, affine=True, track_running_stats=True)\n",
            "      (relu): ReLU(inplace=True)\n",
            "    )\n",
            "  )\n",
            "  (layer2): Sequential(\n",
            "    (0): Bottleneck(\n",
            "      (conv1): Conv3d(256, 128, kernel_size=(1, 1, 1), stride=(1, 1, 1), bias=False)\n",
            "      (bn1): BatchNorm3d(128, eps=1e-05, momentum=0.1, affine=True, track_running_stats=True)\n",
            "      (conv2): Conv3d(128, 128, kernel_size=(3, 3, 3), stride=(2, 2, 2), padding=(1, 1, 1), bias=False)\n",
            "      (bn2): BatchNorm3d(128, eps=1e-05, momentum=0.1, affine=True, track_running_stats=True)\n",
            "      (conv3): Conv3d(128, 512, kernel_size=(1, 1, 1), stride=(1, 1, 1), bias=False)\n",
            "      (bn3): BatchNorm3d(512, eps=1e-05, momentum=0.1, affine=True, track_running_stats=True)\n",
            "      (relu): ReLU(inplace=True)\n",
            "      (downsample): Sequential(\n",
            "        (0): Conv3d(256, 512, kernel_size=(1, 1, 1), stride=(2, 2, 2), bias=False)\n",
            "        (1): BatchNorm3d(512, eps=1e-05, momentum=0.1, affine=True, track_running_stats=True)\n",
            "      )\n",
            "    )\n",
            "    (1): Bottleneck(\n",
            "      (conv1): Conv3d(512, 128, kernel_size=(1, 1, 1), stride=(1, 1, 1), bias=False)\n",
            "      (bn1): BatchNorm3d(128, eps=1e-05, momentum=0.1, affine=True, track_running_stats=True)\n",
            "      (conv2): Conv3d(128, 128, kernel_size=(3, 3, 3), stride=(1, 1, 1), padding=(1, 1, 1), bias=False)\n",
            "      (bn2): BatchNorm3d(128, eps=1e-05, momentum=0.1, affine=True, track_running_stats=True)\n",
            "      (conv3): Conv3d(128, 512, kernel_size=(1, 1, 1), stride=(1, 1, 1), bias=False)\n",
            "      (bn3): BatchNorm3d(512, eps=1e-05, momentum=0.1, affine=True, track_running_stats=True)\n",
            "      (relu): ReLU(inplace=True)\n",
            "    )\n",
            "    (2): Bottleneck(\n",
            "      (conv1): Conv3d(512, 128, kernel_size=(1, 1, 1), stride=(1, 1, 1), bias=False)\n",
            "      (bn1): BatchNorm3d(128, eps=1e-05, momentum=0.1, affine=True, track_running_stats=True)\n",
            "      (conv2): Conv3d(128, 128, kernel_size=(3, 3, 3), stride=(1, 1, 1), padding=(1, 1, 1), bias=False)\n",
            "      (bn2): BatchNorm3d(128, eps=1e-05, momentum=0.1, affine=True, track_running_stats=True)\n",
            "      (conv3): Conv3d(128, 512, kernel_size=(1, 1, 1), stride=(1, 1, 1), bias=False)\n",
            "      (bn3): BatchNorm3d(512, eps=1e-05, momentum=0.1, affine=True, track_running_stats=True)\n",
            "      (relu): ReLU(inplace=True)\n",
            "    )\n",
            "    (3): Bottleneck(\n",
            "      (conv1): Conv3d(512, 128, kernel_size=(1, 1, 1), stride=(1, 1, 1), bias=False)\n",
            "      (bn1): BatchNorm3d(128, eps=1e-05, momentum=0.1, affine=True, track_running_stats=True)\n",
            "      (conv2): Conv3d(128, 128, kernel_size=(3, 3, 3), stride=(1, 1, 1), padding=(1, 1, 1), bias=False)\n",
            "      (bn2): BatchNorm3d(128, eps=1e-05, momentum=0.1, affine=True, track_running_stats=True)\n",
            "      (conv3): Conv3d(128, 512, kernel_size=(1, 1, 1), stride=(1, 1, 1), bias=False)\n",
            "      (bn3): BatchNorm3d(512, eps=1e-05, momentum=0.1, affine=True, track_running_stats=True)\n",
            "      (relu): ReLU(inplace=True)\n",
            "    )\n",
            "  )\n",
            "  (layer3): Sequential(\n",
            "    (0): Bottleneck(\n",
            "      (conv1): Conv3d(512, 256, kernel_size=(1, 1, 1), stride=(1, 1, 1), bias=False)\n",
            "      (bn1): BatchNorm3d(256, eps=1e-05, momentum=0.1, affine=True, track_running_stats=True)\n",
            "      (conv2): Conv3d(256, 256, kernel_size=(3, 3, 3), stride=(1, 1, 1), padding=(2, 2, 2), dilation=(2, 2, 2), bias=False)\n",
            "      (bn2): BatchNorm3d(256, eps=1e-05, momentum=0.1, affine=True, track_running_stats=True)\n",
            "      (conv3): Conv3d(256, 1024, kernel_size=(1, 1, 1), stride=(1, 1, 1), bias=False)\n",
            "      (bn3): BatchNorm3d(1024, eps=1e-05, momentum=0.1, affine=True, track_running_stats=True)\n",
            "      (relu): ReLU(inplace=True)\n",
            "      (downsample): Sequential(\n",
            "        (0): Conv3d(512, 1024, kernel_size=(1, 1, 1), stride=(1, 1, 1), bias=False)\n",
            "        (1): BatchNorm3d(1024, eps=1e-05, momentum=0.1, affine=True, track_running_stats=True)\n",
            "      )\n",
            "    )\n",
            "    (1): Bottleneck(\n",
            "      (conv1): Conv3d(1024, 256, kernel_size=(1, 1, 1), stride=(1, 1, 1), bias=False)\n",
            "      (bn1): BatchNorm3d(256, eps=1e-05, momentum=0.1, affine=True, track_running_stats=True)\n",
            "      (conv2): Conv3d(256, 256, kernel_size=(3, 3, 3), stride=(1, 1, 1), padding=(2, 2, 2), dilation=(2, 2, 2), bias=False)\n",
            "      (bn2): BatchNorm3d(256, eps=1e-05, momentum=0.1, affine=True, track_running_stats=True)\n",
            "      (conv3): Conv3d(256, 1024, kernel_size=(1, 1, 1), stride=(1, 1, 1), bias=False)\n",
            "      (bn3): BatchNorm3d(1024, eps=1e-05, momentum=0.1, affine=True, track_running_stats=True)\n",
            "      (relu): ReLU(inplace=True)\n",
            "    )\n",
            "    (2): Bottleneck(\n",
            "      (conv1): Conv3d(1024, 256, kernel_size=(1, 1, 1), stride=(1, 1, 1), bias=False)\n",
            "      (bn1): BatchNorm3d(256, eps=1e-05, momentum=0.1, affine=True, track_running_stats=True)\n",
            "      (conv2): Conv3d(256, 256, kernel_size=(3, 3, 3), stride=(1, 1, 1), padding=(2, 2, 2), dilation=(2, 2, 2), bias=False)\n",
            "      (bn2): BatchNorm3d(256, eps=1e-05, momentum=0.1, affine=True, track_running_stats=True)\n",
            "      (conv3): Conv3d(256, 1024, kernel_size=(1, 1, 1), stride=(1, 1, 1), bias=False)\n",
            "      (bn3): BatchNorm3d(1024, eps=1e-05, momentum=0.1, affine=True, track_running_stats=True)\n",
            "      (relu): ReLU(inplace=True)\n",
            "    )\n",
            "    (3): Bottleneck(\n",
            "      (conv1): Conv3d(1024, 256, kernel_size=(1, 1, 1), stride=(1, 1, 1), bias=False)\n",
            "      (bn1): BatchNorm3d(256, eps=1e-05, momentum=0.1, affine=True, track_running_stats=True)\n",
            "      (conv2): Conv3d(256, 256, kernel_size=(3, 3, 3), stride=(1, 1, 1), padding=(2, 2, 2), dilation=(2, 2, 2), bias=False)\n",
            "      (bn2): BatchNorm3d(256, eps=1e-05, momentum=0.1, affine=True, track_running_stats=True)\n",
            "      (conv3): Conv3d(256, 1024, kernel_size=(1, 1, 1), stride=(1, 1, 1), bias=False)\n",
            "      (bn3): BatchNorm3d(1024, eps=1e-05, momentum=0.1, affine=True, track_running_stats=True)\n",
            "      (relu): ReLU(inplace=True)\n",
            "    )\n",
            "    (4): Bottleneck(\n",
            "      (conv1): Conv3d(1024, 256, kernel_size=(1, 1, 1), stride=(1, 1, 1), bias=False)\n",
            "      (bn1): BatchNorm3d(256, eps=1e-05, momentum=0.1, affine=True, track_running_stats=True)\n",
            "      (conv2): Conv3d(256, 256, kernel_size=(3, 3, 3), stride=(1, 1, 1), padding=(2, 2, 2), dilation=(2, 2, 2), bias=False)\n",
            "      (bn2): BatchNorm3d(256, eps=1e-05, momentum=0.1, affine=True, track_running_stats=True)\n",
            "      (conv3): Conv3d(256, 1024, kernel_size=(1, 1, 1), stride=(1, 1, 1), bias=False)\n",
            "      (bn3): BatchNorm3d(1024, eps=1e-05, momentum=0.1, affine=True, track_running_stats=True)\n",
            "      (relu): ReLU(inplace=True)\n",
            "    )\n",
            "    (5): Bottleneck(\n",
            "      (conv1): Conv3d(1024, 256, kernel_size=(1, 1, 1), stride=(1, 1, 1), bias=False)\n",
            "      (bn1): BatchNorm3d(256, eps=1e-05, momentum=0.1, affine=True, track_running_stats=True)\n",
            "      (conv2): Conv3d(256, 256, kernel_size=(3, 3, 3), stride=(1, 1, 1), padding=(2, 2, 2), dilation=(2, 2, 2), bias=False)\n",
            "      (bn2): BatchNorm3d(256, eps=1e-05, momentum=0.1, affine=True, track_running_stats=True)\n",
            "      (conv3): Conv3d(256, 1024, kernel_size=(1, 1, 1), stride=(1, 1, 1), bias=False)\n",
            "      (bn3): BatchNorm3d(1024, eps=1e-05, momentum=0.1, affine=True, track_running_stats=True)\n",
            "      (relu): ReLU(inplace=True)\n",
            "    )\n",
            "  )\n",
            "  (layer4): Sequential(\n",
            "    (0): Bottleneck(\n",
            "      (conv1): Conv3d(1024, 512, kernel_size=(1, 1, 1), stride=(1, 1, 1), bias=False)\n",
            "      (bn1): BatchNorm3d(512, eps=1e-05, momentum=0.1, affine=True, track_running_stats=True)\n",
            "      (conv2): Conv3d(512, 512, kernel_size=(3, 3, 3), stride=(1, 1, 1), padding=(4, 4, 4), dilation=(4, 4, 4), bias=False)\n",
            "      (bn2): BatchNorm3d(512, eps=1e-05, momentum=0.1, affine=True, track_running_stats=True)\n",
            "      (conv3): Conv3d(512, 2048, kernel_size=(1, 1, 1), stride=(1, 1, 1), bias=False)\n",
            "      (bn3): BatchNorm3d(2048, eps=1e-05, momentum=0.1, affine=True, track_running_stats=True)\n",
            "      (relu): ReLU(inplace=True)\n",
            "      (downsample): Sequential(\n",
            "        (0): Conv3d(1024, 2048, kernel_size=(1, 1, 1), stride=(1, 1, 1), bias=False)\n",
            "        (1): BatchNorm3d(2048, eps=1e-05, momentum=0.1, affine=True, track_running_stats=True)\n",
            "      )\n",
            "    )\n",
            "    (1): Bottleneck(\n",
            "      (conv1): Conv3d(2048, 512, kernel_size=(1, 1, 1), stride=(1, 1, 1), bias=False)\n",
            "      (bn1): BatchNorm3d(512, eps=1e-05, momentum=0.1, affine=True, track_running_stats=True)\n",
            "      (conv2): Conv3d(512, 512, kernel_size=(3, 3, 3), stride=(1, 1, 1), padding=(4, 4, 4), dilation=(4, 4, 4), bias=False)\n",
            "      (bn2): BatchNorm3d(512, eps=1e-05, momentum=0.1, affine=True, track_running_stats=True)\n",
            "      (conv3): Conv3d(512, 2048, kernel_size=(1, 1, 1), stride=(1, 1, 1), bias=False)\n",
            "      (bn3): BatchNorm3d(2048, eps=1e-05, momentum=0.1, affine=True, track_running_stats=True)\n",
            "      (relu): ReLU(inplace=True)\n",
            "    )\n",
            "    (2): Bottleneck(\n",
            "      (conv1): Conv3d(2048, 512, kernel_size=(1, 1, 1), stride=(1, 1, 1), bias=False)\n",
            "      (bn1): BatchNorm3d(512, eps=1e-05, momentum=0.1, affine=True, track_running_stats=True)\n",
            "      (conv2): Conv3d(512, 512, kernel_size=(3, 3, 3), stride=(1, 1, 1), padding=(4, 4, 4), dilation=(4, 4, 4), bias=False)\n",
            "      (bn2): BatchNorm3d(512, eps=1e-05, momentum=0.1, affine=True, track_running_stats=True)\n",
            "      (conv3): Conv3d(512, 2048, kernel_size=(1, 1, 1), stride=(1, 1, 1), bias=False)\n",
            "      (bn3): BatchNorm3d(2048, eps=1e-05, momentum=0.1, affine=True, track_running_stats=True)\n",
            "      (relu): ReLU(inplace=True)\n",
            "    )\n",
            "  )\n",
            "  (conv_seg): Sequential(\n",
            "    (0): AdaptiveAvgPool3d(output_size=(1, 1, 1))\n",
            "    (1): Flatten(start_dim=1, end_dim=-1)\n",
            "  )\n",
            "  (classifier): Identity()\n",
            ")\n"
          ]
        }
      ],
      "execution_count": null
    },
    {
      "cell_type": "code",
      "source": [
        "class Resnet3d(nn.Module):\n",
        "    def __init__(self, num_classes, features_grad = False):\n",
        "        super().__init__()\n",
        "\n",
        "         # 用上方定義 generate_model 函數生成一個預訓練的 3D ResNet50 模型。\n",
        "        resnet50_3d = generate_model(model_type='resnet', model_depth=50,\n",
        "                         input_W=256, input_H=256, input_D=22, shortcut_type='B',\n",
        "                         pretrain_path = \"/resnet_50.pth\",\n",
        "                         nb_class=2)\n",
        "        #/kaggle/input/3d-pretrain/resnet_50.pth\n",
        "        resnet50_3d.classifier = nn.Identity()\n",
        "\n",
        "        for param in resnet50_3d.parameters():\n",
        "            param.requires_grad = features_grad\n",
        "\n",
        "        # 更改成 3 channel\n",
        "        temp = [param for param in resnet50_3d.conv1.parameters()][0] # (64, 1, 7, 7, 7)\n",
        "        temp = torch.cat((temp, temp, temp), dim = 1) # (64, 3, 7, 7, 7)\n",
        "        resnet50_3d.conv1 = nn.Conv3d(3, 64, kernel_size=(7, 7, 7), stride=(2, 2, 2), padding=(3, 3, 3), bias=False)\n",
        "        for param in resnet50_3d.conv1.parameters():\n",
        "            param = temp\n",
        "\n",
        "        self.backend = resnet50_3d\n",
        "        self.classifier = nn.Sequential(\n",
        "          nn.Linear(2048, num_classes)\n",
        "        )\n",
        "\n",
        "    def forward(self, x): # x 是一個 (batchsize, 3, 22, 256, 256) 的 tensor\n",
        "        if type(x) == list:\n",
        "            x = torch.stack(x, dim=0)\n",
        "        output = self.backend(x)\n",
        "        outputs = self.classifier(output)\n",
        "        return outputs"
      ],
      "metadata": {
        "trusted": true,
        "execution": {
          "iopub.status.busy": "2024-11-04T07:15:20.966298Z",
          "iopub.execute_input": "2024-11-04T07:15:20.966582Z",
          "iopub.status.idle": "2024-11-04T07:15:20.976688Z",
          "shell.execute_reply.started": "2024-11-04T07:15:20.966551Z",
          "shell.execute_reply": "2024-11-04T07:15:20.975711Z"
        },
        "id": "6QjaA7lwLwM6"
      },
      "outputs": [],
      "execution_count": null
    },
    {
      "cell_type": "code",
      "source": [
        "model_3d = Resnet3d(num_classes = 2)\n",
        "total_params = sum(p.numel() for p in model_3d.parameters())\n",
        "print(\"總參數量:\", total_params)"
      ],
      "metadata": {
        "trusted": true,
        "execution": {
          "iopub.status.busy": "2024-11-04T07:15:20.977813Z",
          "iopub.execute_input": "2024-11-04T07:15:20.978181Z",
          "iopub.status.idle": "2024-11-04T07:15:21.882356Z",
          "shell.execute_reply.started": "2024-11-04T07:15:20.978119Z",
          "shell.execute_reply": "2024-11-04T07:15:21.881374Z"
        },
        "id": "Kk2r3r0YLwM6",
        "outputId": "8d9778e1-50ef-4717-fba3-cb85bc20fabd",
        "colab": {
          "base_uri": "https://localhost:8080/"
        }
      },
      "outputs": [
        {
          "output_type": "stream",
          "name": "stdout",
          "text": [
            "loading pretrained model /resnet_50.pth\n",
            "總參數量: 46203074\n"
          ]
        }
      ],
      "execution_count": null
    },
    {
      "cell_type": "code",
      "source": [
        "model_3d = Resnet3d(num_classes = 2)\n",
        "model_3d.to(\"cuda\")\n",
        "\n",
        "# 隨機一個 (batchsize=4, 3, 22, 256, 256) 的 tensor\n",
        "x = torch.randn((4, 3, 22, 256, 256)).to(\"cuda\")\n",
        "output = model_3d(x)\n",
        "print(output)\n",
        "\n",
        "del model_3d, x\n",
        "gc.collect()\n",
        "torch.cuda.empty_cache()"
      ],
      "metadata": {
        "trusted": true,
        "execution": {
          "iopub.status.busy": "2024-11-04T07:15:21.883601Z",
          "iopub.execute_input": "2024-11-04T07:15:21.883907Z",
          "iopub.status.idle": "2024-11-04T07:15:23.506907Z",
          "shell.execute_reply.started": "2024-11-04T07:15:21.883875Z",
          "shell.execute_reply": "2024-11-04T07:15:23.505913Z"
        },
        "id": "dmuwRrmQLwM6",
        "outputId": "d220873b-8082-47ce-f96b-0462f9c422f4",
        "colab": {
          "base_uri": "https://localhost:8080/"
        }
      },
      "outputs": [
        {
          "output_type": "stream",
          "name": "stdout",
          "text": [
            "loading pretrained model /resnet_50.pth\n",
            "tensor([[-0.1941, -0.1276],\n",
            "        [-0.2042, -0.1310],\n",
            "        [-0.1811, -0.1188],\n",
            "        [-0.1795, -0.1191]], device='cuda:0', grad_fn=<AddmmBackward0>)\n"
          ]
        }
      ],
      "execution_count": null
    },
    {
      "cell_type": "code",
      "source": [
        "model = Resnet3d(num_classes = 2)\n",
        "model.to(\"cuda\")\n",
        "summary(model, input_size = (3, 22, 256, 256))"
      ],
      "metadata": {
        "trusted": true,
        "execution": {
          "iopub.status.busy": "2024-11-04T07:15:23.508651Z",
          "iopub.execute_input": "2024-11-04T07:15:23.508970Z",
          "iopub.status.idle": "2024-11-04T07:15:24.509924Z",
          "shell.execute_reply.started": "2024-11-04T07:15:23.508938Z",
          "shell.execute_reply": "2024-11-04T07:15:24.509008Z"
        },
        "id": "24qcwDbGLwM6",
        "outputId": "f1f43f7b-5728-4cbe-c4fa-03f10e8793ea",
        "colab": {
          "base_uri": "https://localhost:8080/"
        }
      },
      "outputs": [
        {
          "output_type": "stream",
          "name": "stdout",
          "text": [
            "loading pretrained model /resnet_50.pth\n",
            "----------------------------------------------------------------\n",
            "        Layer (type)               Output Shape         Param #\n",
            "================================================================\n",
            "            Conv3d-1     [-1, 64, 11, 128, 128]          65,856\n",
            "       BatchNorm3d-2     [-1, 64, 11, 128, 128]             128\n",
            "              ReLU-3     [-1, 64, 11, 128, 128]               0\n",
            "         MaxPool3d-4        [-1, 64, 6, 64, 64]               0\n",
            "            Conv3d-5        [-1, 64, 6, 64, 64]           4,096\n",
            "       BatchNorm3d-6        [-1, 64, 6, 64, 64]             128\n",
            "              ReLU-7        [-1, 64, 6, 64, 64]               0\n",
            "            Conv3d-8        [-1, 64, 6, 64, 64]         110,592\n",
            "       BatchNorm3d-9        [-1, 64, 6, 64, 64]             128\n",
            "             ReLU-10        [-1, 64, 6, 64, 64]               0\n",
            "           Conv3d-11       [-1, 256, 6, 64, 64]          16,384\n",
            "      BatchNorm3d-12       [-1, 256, 6, 64, 64]             512\n",
            "           Conv3d-13       [-1, 256, 6, 64, 64]          16,384\n",
            "      BatchNorm3d-14       [-1, 256, 6, 64, 64]             512\n",
            "             ReLU-15       [-1, 256, 6, 64, 64]               0\n",
            "       Bottleneck-16       [-1, 256, 6, 64, 64]               0\n",
            "           Conv3d-17        [-1, 64, 6, 64, 64]          16,384\n",
            "      BatchNorm3d-18        [-1, 64, 6, 64, 64]             128\n",
            "             ReLU-19        [-1, 64, 6, 64, 64]               0\n",
            "           Conv3d-20        [-1, 64, 6, 64, 64]         110,592\n",
            "      BatchNorm3d-21        [-1, 64, 6, 64, 64]             128\n",
            "             ReLU-22        [-1, 64, 6, 64, 64]               0\n",
            "           Conv3d-23       [-1, 256, 6, 64, 64]          16,384\n",
            "      BatchNorm3d-24       [-1, 256, 6, 64, 64]             512\n",
            "             ReLU-25       [-1, 256, 6, 64, 64]               0\n",
            "       Bottleneck-26       [-1, 256, 6, 64, 64]               0\n",
            "           Conv3d-27        [-1, 64, 6, 64, 64]          16,384\n",
            "      BatchNorm3d-28        [-1, 64, 6, 64, 64]             128\n",
            "             ReLU-29        [-1, 64, 6, 64, 64]               0\n",
            "           Conv3d-30        [-1, 64, 6, 64, 64]         110,592\n",
            "      BatchNorm3d-31        [-1, 64, 6, 64, 64]             128\n",
            "             ReLU-32        [-1, 64, 6, 64, 64]               0\n",
            "           Conv3d-33       [-1, 256, 6, 64, 64]          16,384\n",
            "      BatchNorm3d-34       [-1, 256, 6, 64, 64]             512\n",
            "             ReLU-35       [-1, 256, 6, 64, 64]               0\n",
            "       Bottleneck-36       [-1, 256, 6, 64, 64]               0\n",
            "           Conv3d-37       [-1, 128, 6, 64, 64]          32,768\n",
            "      BatchNorm3d-38       [-1, 128, 6, 64, 64]             256\n",
            "             ReLU-39       [-1, 128, 6, 64, 64]               0\n",
            "           Conv3d-40       [-1, 128, 3, 32, 32]         442,368\n",
            "      BatchNorm3d-41       [-1, 128, 3, 32, 32]             256\n",
            "             ReLU-42       [-1, 128, 3, 32, 32]               0\n",
            "           Conv3d-43       [-1, 512, 3, 32, 32]          65,536\n",
            "      BatchNorm3d-44       [-1, 512, 3, 32, 32]           1,024\n",
            "           Conv3d-45       [-1, 512, 3, 32, 32]         131,072\n",
            "      BatchNorm3d-46       [-1, 512, 3, 32, 32]           1,024\n",
            "             ReLU-47       [-1, 512, 3, 32, 32]               0\n",
            "       Bottleneck-48       [-1, 512, 3, 32, 32]               0\n",
            "           Conv3d-49       [-1, 128, 3, 32, 32]          65,536\n",
            "      BatchNorm3d-50       [-1, 128, 3, 32, 32]             256\n",
            "             ReLU-51       [-1, 128, 3, 32, 32]               0\n",
            "           Conv3d-52       [-1, 128, 3, 32, 32]         442,368\n",
            "      BatchNorm3d-53       [-1, 128, 3, 32, 32]             256\n",
            "             ReLU-54       [-1, 128, 3, 32, 32]               0\n",
            "           Conv3d-55       [-1, 512, 3, 32, 32]          65,536\n",
            "      BatchNorm3d-56       [-1, 512, 3, 32, 32]           1,024\n",
            "             ReLU-57       [-1, 512, 3, 32, 32]               0\n",
            "       Bottleneck-58       [-1, 512, 3, 32, 32]               0\n",
            "           Conv3d-59       [-1, 128, 3, 32, 32]          65,536\n",
            "      BatchNorm3d-60       [-1, 128, 3, 32, 32]             256\n",
            "             ReLU-61       [-1, 128, 3, 32, 32]               0\n",
            "           Conv3d-62       [-1, 128, 3, 32, 32]         442,368\n",
            "      BatchNorm3d-63       [-1, 128, 3, 32, 32]             256\n",
            "             ReLU-64       [-1, 128, 3, 32, 32]               0\n",
            "           Conv3d-65       [-1, 512, 3, 32, 32]          65,536\n",
            "      BatchNorm3d-66       [-1, 512, 3, 32, 32]           1,024\n",
            "             ReLU-67       [-1, 512, 3, 32, 32]               0\n",
            "       Bottleneck-68       [-1, 512, 3, 32, 32]               0\n",
            "           Conv3d-69       [-1, 128, 3, 32, 32]          65,536\n",
            "      BatchNorm3d-70       [-1, 128, 3, 32, 32]             256\n",
            "             ReLU-71       [-1, 128, 3, 32, 32]               0\n",
            "           Conv3d-72       [-1, 128, 3, 32, 32]         442,368\n",
            "      BatchNorm3d-73       [-1, 128, 3, 32, 32]             256\n",
            "             ReLU-74       [-1, 128, 3, 32, 32]               0\n",
            "           Conv3d-75       [-1, 512, 3, 32, 32]          65,536\n",
            "      BatchNorm3d-76       [-1, 512, 3, 32, 32]           1,024\n",
            "             ReLU-77       [-1, 512, 3, 32, 32]               0\n",
            "       Bottleneck-78       [-1, 512, 3, 32, 32]               0\n",
            "           Conv3d-79       [-1, 256, 3, 32, 32]         131,072\n",
            "      BatchNorm3d-80       [-1, 256, 3, 32, 32]             512\n",
            "             ReLU-81       [-1, 256, 3, 32, 32]               0\n",
            "           Conv3d-82       [-1, 256, 3, 32, 32]       1,769,472\n",
            "      BatchNorm3d-83       [-1, 256, 3, 32, 32]             512\n",
            "             ReLU-84       [-1, 256, 3, 32, 32]               0\n",
            "           Conv3d-85      [-1, 1024, 3, 32, 32]         262,144\n",
            "      BatchNorm3d-86      [-1, 1024, 3, 32, 32]           2,048\n",
            "           Conv3d-87      [-1, 1024, 3, 32, 32]         524,288\n",
            "      BatchNorm3d-88      [-1, 1024, 3, 32, 32]           2,048\n",
            "             ReLU-89      [-1, 1024, 3, 32, 32]               0\n",
            "       Bottleneck-90      [-1, 1024, 3, 32, 32]               0\n",
            "           Conv3d-91       [-1, 256, 3, 32, 32]         262,144\n",
            "      BatchNorm3d-92       [-1, 256, 3, 32, 32]             512\n",
            "             ReLU-93       [-1, 256, 3, 32, 32]               0\n",
            "           Conv3d-94       [-1, 256, 3, 32, 32]       1,769,472\n",
            "      BatchNorm3d-95       [-1, 256, 3, 32, 32]             512\n",
            "             ReLU-96       [-1, 256, 3, 32, 32]               0\n",
            "           Conv3d-97      [-1, 1024, 3, 32, 32]         262,144\n",
            "      BatchNorm3d-98      [-1, 1024, 3, 32, 32]           2,048\n",
            "             ReLU-99      [-1, 1024, 3, 32, 32]               0\n",
            "      Bottleneck-100      [-1, 1024, 3, 32, 32]               0\n",
            "          Conv3d-101       [-1, 256, 3, 32, 32]         262,144\n",
            "     BatchNorm3d-102       [-1, 256, 3, 32, 32]             512\n",
            "            ReLU-103       [-1, 256, 3, 32, 32]               0\n",
            "          Conv3d-104       [-1, 256, 3, 32, 32]       1,769,472\n",
            "     BatchNorm3d-105       [-1, 256, 3, 32, 32]             512\n",
            "            ReLU-106       [-1, 256, 3, 32, 32]               0\n",
            "          Conv3d-107      [-1, 1024, 3, 32, 32]         262,144\n",
            "     BatchNorm3d-108      [-1, 1024, 3, 32, 32]           2,048\n",
            "            ReLU-109      [-1, 1024, 3, 32, 32]               0\n",
            "      Bottleneck-110      [-1, 1024, 3, 32, 32]               0\n",
            "          Conv3d-111       [-1, 256, 3, 32, 32]         262,144\n",
            "     BatchNorm3d-112       [-1, 256, 3, 32, 32]             512\n",
            "            ReLU-113       [-1, 256, 3, 32, 32]               0\n",
            "          Conv3d-114       [-1, 256, 3, 32, 32]       1,769,472\n",
            "     BatchNorm3d-115       [-1, 256, 3, 32, 32]             512\n",
            "            ReLU-116       [-1, 256, 3, 32, 32]               0\n",
            "          Conv3d-117      [-1, 1024, 3, 32, 32]         262,144\n",
            "     BatchNorm3d-118      [-1, 1024, 3, 32, 32]           2,048\n",
            "            ReLU-119      [-1, 1024, 3, 32, 32]               0\n",
            "      Bottleneck-120      [-1, 1024, 3, 32, 32]               0\n",
            "          Conv3d-121       [-1, 256, 3, 32, 32]         262,144\n",
            "     BatchNorm3d-122       [-1, 256, 3, 32, 32]             512\n",
            "            ReLU-123       [-1, 256, 3, 32, 32]               0\n",
            "          Conv3d-124       [-1, 256, 3, 32, 32]       1,769,472\n",
            "     BatchNorm3d-125       [-1, 256, 3, 32, 32]             512\n",
            "            ReLU-126       [-1, 256, 3, 32, 32]               0\n",
            "          Conv3d-127      [-1, 1024, 3, 32, 32]         262,144\n",
            "     BatchNorm3d-128      [-1, 1024, 3, 32, 32]           2,048\n",
            "            ReLU-129      [-1, 1024, 3, 32, 32]               0\n",
            "      Bottleneck-130      [-1, 1024, 3, 32, 32]               0\n",
            "          Conv3d-131       [-1, 256, 3, 32, 32]         262,144\n",
            "     BatchNorm3d-132       [-1, 256, 3, 32, 32]             512\n",
            "            ReLU-133       [-1, 256, 3, 32, 32]               0\n",
            "          Conv3d-134       [-1, 256, 3, 32, 32]       1,769,472\n",
            "     BatchNorm3d-135       [-1, 256, 3, 32, 32]             512\n",
            "            ReLU-136       [-1, 256, 3, 32, 32]               0\n",
            "          Conv3d-137      [-1, 1024, 3, 32, 32]         262,144\n",
            "     BatchNorm3d-138      [-1, 1024, 3, 32, 32]           2,048\n",
            "            ReLU-139      [-1, 1024, 3, 32, 32]               0\n",
            "      Bottleneck-140      [-1, 1024, 3, 32, 32]               0\n",
            "          Conv3d-141       [-1, 512, 3, 32, 32]         524,288\n",
            "     BatchNorm3d-142       [-1, 512, 3, 32, 32]           1,024\n",
            "            ReLU-143       [-1, 512, 3, 32, 32]               0\n",
            "          Conv3d-144       [-1, 512, 3, 32, 32]       7,077,888\n",
            "     BatchNorm3d-145       [-1, 512, 3, 32, 32]           1,024\n",
            "            ReLU-146       [-1, 512, 3, 32, 32]               0\n",
            "          Conv3d-147      [-1, 2048, 3, 32, 32]       1,048,576\n",
            "     BatchNorm3d-148      [-1, 2048, 3, 32, 32]           4,096\n",
            "          Conv3d-149      [-1, 2048, 3, 32, 32]       2,097,152\n",
            "     BatchNorm3d-150      [-1, 2048, 3, 32, 32]           4,096\n",
            "            ReLU-151      [-1, 2048, 3, 32, 32]               0\n",
            "      Bottleneck-152      [-1, 2048, 3, 32, 32]               0\n",
            "          Conv3d-153       [-1, 512, 3, 32, 32]       1,048,576\n",
            "     BatchNorm3d-154       [-1, 512, 3, 32, 32]           1,024\n",
            "            ReLU-155       [-1, 512, 3, 32, 32]               0\n",
            "          Conv3d-156       [-1, 512, 3, 32, 32]       7,077,888\n",
            "     BatchNorm3d-157       [-1, 512, 3, 32, 32]           1,024\n",
            "            ReLU-158       [-1, 512, 3, 32, 32]               0\n",
            "          Conv3d-159      [-1, 2048, 3, 32, 32]       1,048,576\n",
            "     BatchNorm3d-160      [-1, 2048, 3, 32, 32]           4,096\n",
            "            ReLU-161      [-1, 2048, 3, 32, 32]               0\n",
            "      Bottleneck-162      [-1, 2048, 3, 32, 32]               0\n",
            "          Conv3d-163       [-1, 512, 3, 32, 32]       1,048,576\n",
            "     BatchNorm3d-164       [-1, 512, 3, 32, 32]           1,024\n",
            "            ReLU-165       [-1, 512, 3, 32, 32]               0\n",
            "          Conv3d-166       [-1, 512, 3, 32, 32]       7,077,888\n",
            "     BatchNorm3d-167       [-1, 512, 3, 32, 32]           1,024\n",
            "            ReLU-168       [-1, 512, 3, 32, 32]               0\n",
            "          Conv3d-169      [-1, 2048, 3, 32, 32]       1,048,576\n",
            "     BatchNorm3d-170      [-1, 2048, 3, 32, 32]           4,096\n",
            "            ReLU-171      [-1, 2048, 3, 32, 32]               0\n",
            "      Bottleneck-172      [-1, 2048, 3, 32, 32]               0\n",
            "AdaptiveAvgPool3d-173        [-1, 2048, 1, 1, 1]               0\n",
            "         Flatten-174                 [-1, 2048]               0\n",
            "          ResNet-175                 [-1, 2048]               0\n",
            "          Linear-176                    [-1, 2]           4,098\n",
            "================================================================\n",
            "Total params: 46,203,074\n",
            "Trainable params: 69,954\n",
            "Non-trainable params: 46,133,120\n",
            "----------------------------------------------------------------\n",
            "Input size (MB): 16.50\n",
            "Forward/backward pass size (MB): 3243.05\n",
            "Params size (MB): 176.25\n",
            "Estimated Total Size (MB): 3435.80\n",
            "----------------------------------------------------------------\n"
          ]
        }
      ],
      "execution_count": null
    },
    {
      "cell_type": "code",
      "source": [
        "def main():\n",
        "\n",
        "    seed_everything(config.seed)\n",
        "\n",
        "    #df = pd.read_csv(os.path.join(config.root, \"train.csv\"))\n",
        "    df = pd.read_csv(\"train.csv\")\n",
        "    # split training & validation dataset\n",
        "    n = df.shape[0]\n",
        "    valid_size = int(n * config.valid_prob)\n",
        "    train_ids , valid_ids = train_test_split(\n",
        "     np.linspace(0, n - 1, n).astype(\"int\"),\n",
        "     test_size = valid_size,\n",
        "     random_state = config.seed,\n",
        "    )\n",
        "\n",
        "    # DataLoader\n",
        "    train_data = df.iloc[train_ids]\n",
        "    valid_data = df.iloc[valid_ids]\n",
        "    train_dataset = MRI3DDataset(train_data, mode = \"train\", transforms = build_transform(True))\n",
        "    valid_dataset = MRI3DDataset(valid_data, mode = \"valid\", transforms = build_transform(False))\n",
        "\n",
        "    train_loader = torch.utils.data.DataLoader(train_dataset, batch_size=config.batch_size, shuffle=True)\n",
        "    valid_loader = torch.utils.data.DataLoader(valid_dataset, batch_size=config.batch_size, shuffle=False)\n",
        "\n",
        "\n",
        "    # settings\n",
        "    print(\"Initializing model...\")\n",
        "    num_classes = 2\n",
        "    print('num_classes',num_classes)\n",
        "    model = Resnet3d(num_classes = num_classes, features_grad = False)\n",
        "    model.to(config.device)\n",
        "    criterion = nn.CrossEntropyLoss().to(config.device)\n",
        "\n",
        "    # 選擇適當的 optimizer, scheduler\n",
        "    optimizer = torch.optim.Adam(model.parameters(), lr = config.lr, weight_decay = config.weight_decay)\n",
        "    scheduler = torch.optim.lr_scheduler.OneCycleLR(\n",
        "        optimizer = optimizer,\n",
        "        epochs = config.epochs,\n",
        "        steps_per_epoch = train_loader.__len__(),\n",
        "        max_lr = config.lr,\n",
        "        anneal_strategy = 'cos'\n",
        "    )\n",
        "\n",
        "    # recordings\n",
        "    best_val_loss = float(\"inf\")\n",
        "    history = {\n",
        "      \"train\": {\n",
        "          \"loss\": [],\n",
        "          \"acc\": [],\n",
        "          \"f1\": []\n",
        "      },\n",
        "      \"valid\": {\n",
        "          \"loss\": [],\n",
        "          \"acc\": [],\n",
        "          \"f1\": []\n",
        "      },\n",
        "    }\n",
        "\n",
        "    for epoch in range(config.epochs):\n",
        "        train_loss, train_acc, train_f1 = train_one_epoch(model, train_loader, optimizer, scheduler, criterion, config.device)\n",
        "        valid_loss, valid_acc, valid_f1 = validation(model, valid_loader, criterion, config.device)\n",
        "\n",
        "        # Log the loss and validation result\n",
        "        history[\"train\"][\"loss\"].append(train_loss)\n",
        "        history[\"train\"][\"acc\"].append(train_acc)\n",
        "        history[\"train\"][\"f1\"].append(train_f1)\n",
        "        history[\"valid\"][\"loss\"].append(valid_loss)\n",
        "        history[\"valid\"][\"acc\"].append(valid_acc)\n",
        "        history[\"valid\"][\"f1\"].append(valid_f1)\n",
        "\n",
        "        print(f'Epoch[{epoch+1}/{config.epochs}], Train Loss: {train_loss:.4f}, Train Accuracy: {train_acc:.2f}%, Train F1: {train_f1:.2f}% | Valid Loss: {valid_loss:.4f}, Valid Accuracy: {valid_acc:.2f}%, Valid F1: {valid_f1:.2f}% | LR: {optimizer.state_dict()[\"param_groups\"][0][\"lr\"]:.6f}')\n",
        "        # 更新學習率調度器\n",
        "        scheduler.step(valid_loss)\n",
        "\n",
        "        if valid_loss < best_val_loss:\n",
        "            save_file = {\n",
        "                \"model\": model.state_dict(),\n",
        "                \"optimizer\": optimizer.state_dict(),\n",
        "                \"scheduler\": scheduler.state_dict(),\n",
        "                \"epoch\": epoch,\n",
        "                \"args\": config\n",
        "            }\n",
        "            best_val_loss = valid_loss\n",
        "            torch.save(save_file, \"checkpoint_3D.pth\")\n",
        "\n",
        "        best_ckpt = torch.load(\"checkpoint_3D.pth\", map_location=config.device)\n",
        "        model.load_state_dict(best_ckpt[\"model\"])\n",
        "\n",
        "    valid_loss, valid_acc, valid_f1 = validation(model, valid_loader, criterion, config.device)\n",
        "    print(\"*\"*10, \" Validation \", \"*\"*10)\n",
        "    print(f\"Valid Loss: {valid_loss:.4f}, Valid Accuracy: {valid_acc:.2f}%, Valid F1: {valid_f1:.2f}%\")\n",
        "\n",
        "    del train_dataset\n",
        "    del valid_dataset\n",
        "    del train_loader\n",
        "    del valid_loader\n",
        "    gc.collect()\n",
        "    torch.cuda.empty_cache()\n",
        "\n",
        "    plt.figure(figsize=(12, 5))\n",
        "    plt.subplot(1, 2, 1)\n",
        "    plt.plot(range(config.epochs), history[\"train\"][\"loss\"], label='Training Loss')\n",
        "    plt.plot(range(config.epochs), history[\"valid\"][\"loss\"], label='Validation Loss')\n",
        "    plt.xlabel('Epoch')\n",
        "    plt.ylabel('Loss')\n",
        "    plt.legend()\n",
        "    plt.title('Training and Validation Loss Curves')\n",
        "    plt.show()\n",
        "\n",
        "    plt.figure(figsize=(12, 5))\n",
        "    plt.subplot(1, 2, 1)\n",
        "    plt.plot(range(config.epochs), history[\"train\"][\"acc\"], label='Training Acc')\n",
        "    plt.plot(range(config.epochs), history[\"valid\"][\"acc\"], label='Validation Acc')\n",
        "    plt.xlabel('Epoch')\n",
        "    plt.ylabel('Loss')\n",
        "    plt.legend()\n",
        "    plt.title('Training and Validation Accuracy Curves')\n",
        "    plt.show()\n",
        "\n",
        "    plt.figure(figsize=(12, 5))\n",
        "    plt.subplot(1, 2, 1)\n",
        "    plt.plot(range(config.epochs), history[\"train\"][\"f1\"], label='Training F1')\n",
        "    plt.plot(range(config.epochs), history[\"valid\"][\"f1\"], label='Validation F1')\n",
        "    plt.xlabel('Epoch')\n",
        "    plt.ylabel('Loss')\n",
        "    plt.legend()\n",
        "    plt.title('Training and Validation F1 Score Curves')\n",
        "    plt.show()\n",
        "\n",
        "if __name__ == \"__main__\":\n",
        "    main()"
      ],
      "metadata": {
        "trusted": true,
        "id": "Wh-bIpocLwM7",
        "colab": {
          "base_uri": "https://localhost:8080/",
          "height": 1000
        },
        "outputId": "eca49dbe-aa37-4b98-cb43-b1d531a99769"
      },
      "outputs": [
        {
          "output_type": "stream",
          "name": "stderr",
          "text": [
            "100%|██████████| 64/64 [00:14<00:00,  4.29it/s]\n",
            "100%|██████████| 16/16 [00:03<00:00,  4.61it/s]\n"
          ]
        },
        {
          "output_type": "stream",
          "name": "stdout",
          "text": [
            "Initializing model...\n",
            "num_classes 2\n",
            "loading pretrained model /resnet_50.pth\n",
            "Epoch[1/10], Train Loss: 0.7212, Train Accuracy: 43.75%, Train F1: 42.86% | Valid Loss: 0.7066, Valid Accuracy: 43.75%, Valid F1: 30.43% | LR: 0.000041\n",
            "Epoch[2/10], Train Loss: 0.6960, Train Accuracy: 46.88%, Train F1: 42.31% | Valid Loss: 0.6948, Valid Accuracy: 43.75%, Valid F1: 41.70% | LR: 0.000043\n",
            "Epoch[3/10], Train Loss: 0.7028, Train Accuracy: 48.44%, Train F1: 40.79% | Valid Loss: 0.7276, Valid Accuracy: 43.75%, Valid F1: 30.43% | LR: 0.000043\n",
            "Epoch[4/10], Train Loss: 0.6964, Train Accuracy: 48.44%, Train F1: 48.42% | Valid Loss: 0.6958, Valid Accuracy: 50.00%, Valid F1: 49.21% | LR: 0.000043\n",
            "Epoch[5/10], Train Loss: 0.7021, Train Accuracy: 45.31%, Train F1: 41.16% | Valid Loss: 0.7121, Valid Accuracy: 43.75%, Valid F1: 30.43% | LR: 0.000043\n",
            "Epoch[6/10], Train Loss: 0.7058, Train Accuracy: 40.62%, Train F1: 38.46% | Valid Loss: 0.6967, Valid Accuracy: 50.00%, Valid F1: 49.21% | LR: 0.000043\n",
            "Epoch[7/10], Train Loss: 0.6984, Train Accuracy: 48.44%, Train F1: 48.42% | Valid Loss: 0.7033, Valid Accuracy: 50.00%, Valid F1: 46.67% | LR: 0.000043\n",
            "Epoch[8/10], Train Loss: 0.7002, Train Accuracy: 51.56%, Train F1: 42.84% | Valid Loss: 0.7087, Valid Accuracy: 43.75%, Valid F1: 30.43% | LR: 0.000043\n",
            "Epoch[9/10], Train Loss: 0.7082, Train Accuracy: 46.88%, Train F1: 36.37% | Valid Loss: 0.7031, Valid Accuracy: 43.75%, Valid F1: 30.43% | LR: 0.000043\n",
            "Epoch[10/10], Train Loss: 0.7022, Train Accuracy: 46.88%, Train F1: 46.82% | Valid Loss: 0.7014, Valid Accuracy: 43.75%, Valid F1: 41.70% | LR: 0.000043\n",
            "**********  Validation  **********\n",
            "Valid Loss: 0.6948, Valid Accuracy: 43.75%, Valid F1: 41.70%\n"
          ]
        },
        {
          "output_type": "display_data",
          "data": {
            "text/plain": [
              "<Figure size 1200x500 with 1 Axes>"
            ],
            "image/png": "[encoded data removed]"
          },
          "metadata": {}
        },
        {
          "output_type": "display_data",
          "data": {
            "text/plain": [
              "<Figure size 1200x500 with 1 Axes>"
            ],
            "image/png": "[encoded data removed]"
          },
          "metadata": {}
        },
        {
          "output_type": "display_data",
          "data": {
            "text/plain": [
              "<Figure size 1200x500 with 1 Axes>"
            ],
            "image/png": "[encoded data removed]"
          },
          "metadata": {}
        }
      ],
      "execution_count": null
    },
    {
      "cell_type": "code",
      "source": [
        "#test_df = pd.read_csv(os.path.join(config.root, \"test.csv\"))\n",
        "test_df = pd.read_csv(\"test.csv\")\n",
        "test_dataset = MRI3DDataset(test_df, mode = \"test\", transforms = build_transform(False))\n",
        "test_loader = torch.utils.data.DataLoader(test_dataset, batch_size=config.batch_size, shuffle=False)\n",
        "\n",
        "model = Resnet3d(num_classes = 2).to(\"cuda\")\n",
        "\n",
        "best_ckpt = torch.load(\"checkpoint_3D.pth\", map_location=config.device)\n",
        "model.load_state_dict(best_ckpt[\"model\"])\n",
        "\n",
        "preds = testing(model, test_loader, config.device)"
      ],
      "metadata": {
        "trusted": true,
        "execution": {
          "iopub.status.busy": "2024-11-04T07:13:56.552704Z",
          "iopub.status.idle": "2024-11-04T07:13:56.553045Z",
          "shell.execute_reply.started": "2024-11-04T07:13:56.552877Z",
          "shell.execute_reply": "2024-11-04T07:13:56.552894Z"
        },
        "id": "nWkFCyauLwM7",
        "colab": {
          "base_uri": "https://localhost:8080/"
        },
        "outputId": "fb3a1c7c-778e-4336-8906-efcfa8d11a8e"
      },
      "outputs": [
        {
          "output_type": "stream",
          "name": "stderr",
          "text": [
            "100%|██████████| 40/40 [00:08<00:00,  4.55it/s]\n"
          ]
        },
        {
          "output_type": "stream",
          "name": "stdout",
          "text": [
            "loading pretrained model /resnet_50.pth\n"
          ]
        }
      ],
      "execution_count": null
    },
    {
      "cell_type": "code",
      "source": [
        "results_df = pd.read_csv(os.path.join(config.root, \"submission.csv\"))\n",
        "results_df['Disease'] = preds.cpu().numpy()\n",
        "#results_df.to_csv(\"3D.csv\", index=False)\n",
        "\n",
        "from google.colab import files\n",
        "# 保存 CSV 文件到指定路徑\n",
        "results_df.to_csv('/content/3D.csv', index=False, header = True)\n",
        "# 下載文件到本地機器\n",
        "files.download('/content/3D.csv')"
      ],
      "metadata": {
        "trusted": true,
        "execution": {
          "iopub.status.busy": "2024-11-04T07:13:56.554269Z",
          "iopub.status.idle": "2024-11-04T07:13:56.554626Z",
          "shell.execute_reply.started": "2024-11-04T07:13:56.554449Z",
          "shell.execute_reply": "2024-11-04T07:13:56.554467Z"
        },
        "id": "TeLyCMvMLwM7",
        "colab": {
          "base_uri": "https://localhost:8080/",
          "height": 17
        },
        "outputId": "7dccff63-9641-4004-9c88-98842a55ad51"
      },
      "outputs": [
        {
          "output_type": "display_data",
          "data": {
            "text/plain": [
              "<IPython.core.display.Javascript object>"
            ],
            "application/javascript": [
              "\n",
              "    async function download(id, filename, size) {\n",
              "      if (!google.colab.kernel.accessAllowed) {\n",
              "        return;\n",
              "      }\n",
              "      const div = document.createElement('div');\n",
              "      const label = document.createElement('label');\n",
              "      label.textContent = `Downloading \"${filename}\": `;\n",
              "      div.appendChild(label);\n",
              "      const progress = document.createElement('progress');\n",
              "      progress.max = size;\n",
              "      div.appendChild(progress);\n",
              "      document.body.appendChild(div);\n",
              "\n",
              "      const buffers = [];\n",
              "      let downloaded = 0;\n",
              "\n",
              "      const channel = await google.colab.kernel.comms.open(id);\n",
              "      // Send a message to notify the kernel that we're ready.\n",
              "      channel.send({})\n",
              "\n",
              "      for await (const message of channel.messages) {\n",
              "        // Send a message to notify the kernel that we're ready.\n",
              "        channel.send({})\n",
              "        if (message.buffers) {\n",
              "          for (const buffer of message.buffers) {\n",
              "            buffers.push(buffer);\n",
              "            downloaded += buffer.byteLength;\n",
              "            progress.value = downloaded;\n",
              "          }\n",
              "        }\n",
              "      }\n",
              "      const blob = new Blob(buffers, {type: 'application/binary'});\n",
              "      const a = document.createElement('a');\n",
              "      a.href = window.URL.createObjectURL(blob);\n",
              "      a.download = filename;\n",
              "      div.appendChild(a);\n",
              "      a.click();\n",
              "      div.remove();\n",
              "    }\n",
              "  "
            ]
          },
          "metadata": {}
        },
        {
          "output_type": "display_data",
          "data": {
            "text/plain": [
              "<IPython.core.display.Javascript object>"
            ],
            "application/javascript": [
              "download(\"download_db1760aa-ba51-43a4-abfc-023d1222392e\", \"3D.csv\", 372)"
            ]
          },
          "metadata": {}
        }
      ],
      "execution_count": null
    },
    {
      "cell_type": "code",
      "source": [],
      "metadata": {
        "trusted": true,
        "id": "UcIn-G42LwM7"
      },
      "outputs": [],
      "execution_count": null
    }
  ]
}